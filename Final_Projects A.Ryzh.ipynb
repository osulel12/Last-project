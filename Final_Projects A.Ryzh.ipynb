{
 "cells": [
  {
   "cell_type": "markdown",
   "metadata": {},
   "source": [
    "# Итоговый проект: вариант 1"
   ]
  },
  {
   "cell_type": "code",
   "execution_count": 9,
   "metadata": {},
   "outputs": [],
   "source": [
    "import pandas as pd \n",
    "import numpy as np\n",
    "\n",
    "import seaborn as sns\n",
    "import matplotlib.pyplot as plt\n",
    "\n",
    "import warnings\n",
    "warnings.simplefilter('ignore') \n",
    "\n",
    "import scipy.stats as ss\n",
    "from tqdm.auto import tqdm\n",
    "\n",
    "from operator import attrgetter\n",
    "\n",
    "%matplotlib inline"
   ]
  },
  {
   "cell_type": "code",
   "execution_count": 10,
   "metadata": {},
   "outputs": [],
   "source": [
    "sns.set(\n",
    "    font_scale=2,\n",
    "    style=\"whitegrid\",\n",
    "    rc={'figure.figsize': (20, 7)})"
   ]
  },
  {
   "cell_type": "markdown",
   "metadata": {},
   "source": [
    "##  Задание 1\n",
    "\n",
    "Retention – один из самых важных показателей в компании. Ваша задача – написать функцию, которая будет считать retention игроков (по дням от даты регистрации игрока).\n",
    "\n",
    "**Требование**: Функция должна быть написана на python. В ходе решения можно тестировать работу функции как на полном датасете, так и на части (сэмпле) данных."
   ]
  },
  {
   "cell_type": "code",
   "execution_count": 11,
   "metadata": {},
   "outputs": [],
   "source": [
    "register_df = pd.read_csv('problem1-reg_data.csv', sep=';')\n",
    "authorization_df = pd.read_csv('problem1-auth_data.csv', sep=';')"
   ]
  },
  {
   "cell_type": "markdown",
   "metadata": {},
   "source": [
    "Проведем разведочный анализ первого датафрейма"
   ]
  },
  {
   "cell_type": "code",
   "execution_count": 12,
   "metadata": {},
   "outputs": [
    {
     "data": {
      "text/html": [
       "<div>\n",
       "<style scoped>\n",
       "    .dataframe tbody tr th:only-of-type {\n",
       "        vertical-align: middle;\n",
       "    }\n",
       "\n",
       "    .dataframe tbody tr th {\n",
       "        vertical-align: top;\n",
       "    }\n",
       "\n",
       "    .dataframe thead th {\n",
       "        text-align: right;\n",
       "    }\n",
       "</style>\n",
       "<table border=\"1\" class=\"dataframe\">\n",
       "  <thead>\n",
       "    <tr style=\"text-align: right;\">\n",
       "      <th></th>\n",
       "      <th>reg_ts</th>\n",
       "      <th>uid</th>\n",
       "    </tr>\n",
       "  </thead>\n",
       "  <tbody>\n",
       "    <tr>\n",
       "      <th>0</th>\n",
       "      <td>911382223</td>\n",
       "      <td>1</td>\n",
       "    </tr>\n",
       "    <tr>\n",
       "      <th>1</th>\n",
       "      <td>932683089</td>\n",
       "      <td>2</td>\n",
       "    </tr>\n",
       "    <tr>\n",
       "      <th>2</th>\n",
       "      <td>947802447</td>\n",
       "      <td>3</td>\n",
       "    </tr>\n",
       "    <tr>\n",
       "      <th>3</th>\n",
       "      <td>959523541</td>\n",
       "      <td>4</td>\n",
       "    </tr>\n",
       "    <tr>\n",
       "      <th>4</th>\n",
       "      <td>969103313</td>\n",
       "      <td>5</td>\n",
       "    </tr>\n",
       "    <tr>\n",
       "      <th>...</th>\n",
       "      <td>...</td>\n",
       "      <td>...</td>\n",
       "    </tr>\n",
       "    <tr>\n",
       "      <th>999995</th>\n",
       "      <td>1600874034</td>\n",
       "      <td>1110618</td>\n",
       "    </tr>\n",
       "    <tr>\n",
       "      <th>999996</th>\n",
       "      <td>1600874086</td>\n",
       "      <td>1110619</td>\n",
       "    </tr>\n",
       "    <tr>\n",
       "      <th>999997</th>\n",
       "      <td>1600874139</td>\n",
       "      <td>1110620</td>\n",
       "    </tr>\n",
       "    <tr>\n",
       "      <th>999998</th>\n",
       "      <td>1600874191</td>\n",
       "      <td>1110621</td>\n",
       "    </tr>\n",
       "    <tr>\n",
       "      <th>999999</th>\n",
       "      <td>1600874244</td>\n",
       "      <td>1110622</td>\n",
       "    </tr>\n",
       "  </tbody>\n",
       "</table>\n",
       "<p>1000000 rows × 2 columns</p>\n",
       "</div>"
      ],
      "text/plain": [
       "            reg_ts      uid\n",
       "0        911382223        1\n",
       "1        932683089        2\n",
       "2        947802447        3\n",
       "3        959523541        4\n",
       "4        969103313        5\n",
       "...            ...      ...\n",
       "999995  1600874034  1110618\n",
       "999996  1600874086  1110619\n",
       "999997  1600874139  1110620\n",
       "999998  1600874191  1110621\n",
       "999999  1600874244  1110622\n",
       "\n",
       "[1000000 rows x 2 columns]"
      ]
     },
     "execution_count": 12,
     "metadata": {},
     "output_type": "execute_result"
    }
   ],
   "source": [
    "register_df"
   ]
  },
  {
   "cell_type": "code",
   "execution_count": 13,
   "metadata": {},
   "outputs": [
    {
     "data": {
      "text/plain": [
       "(1000000, 2)"
      ]
     },
     "execution_count": 13,
     "metadata": {},
     "output_type": "execute_result"
    }
   ],
   "source": [
    "register_df.shape"
   ]
  },
  {
   "cell_type": "code",
   "execution_count": 14,
   "metadata": {},
   "outputs": [
    {
     "data": {
      "text/plain": [
       "reg_ts    int64\n",
       "uid       int64\n",
       "dtype: object"
      ]
     },
     "execution_count": 14,
     "metadata": {},
     "output_type": "execute_result"
    }
   ],
   "source": [
    "register_df.dtypes"
   ]
  },
  {
   "cell_type": "code",
   "execution_count": 15,
   "metadata": {},
   "outputs": [
    {
     "data": {
      "text/plain": [
       "reg_ts    0\n",
       "uid       0\n",
       "dtype: int64"
      ]
     },
     "execution_count": 15,
     "metadata": {},
     "output_type": "execute_result"
    }
   ],
   "source": [
    "# Проверим пропущенные значения\n",
    "register_df.isna().sum()"
   ]
  },
  {
   "cell_type": "code",
   "execution_count": 16,
   "metadata": {},
   "outputs": [
    {
     "data": {
      "text/plain": [
       "reg_ts    1000000\n",
       "uid       1000000\n",
       "dtype: int64"
      ]
     },
     "execution_count": 16,
     "metadata": {},
     "output_type": "execute_result"
    }
   ],
   "source": [
    "register_df.nunique()"
   ]
  },
  {
   "cell_type": "markdown",
   "metadata": {},
   "source": [
    "По предыдущим шагам видно, что пропуски отсутсвуют и даты регистрации пользователей представлены в UNIX формате"
   ]
  },
  {
   "cell_type": "code",
   "execution_count": 17,
   "metadata": {},
   "outputs": [],
   "source": [
    "# Так как время регистрации представлена в формате UNIX time переобразуем его\n",
    "register_df['default_date_reg'] = pd.to_datetime(register_df.reg_ts, unit='s')"
   ]
  },
  {
   "cell_type": "code",
   "execution_count": 18,
   "metadata": {},
   "outputs": [
    {
     "data": {
      "text/html": [
       "<div>\n",
       "<style scoped>\n",
       "    .dataframe tbody tr th:only-of-type {\n",
       "        vertical-align: middle;\n",
       "    }\n",
       "\n",
       "    .dataframe tbody tr th {\n",
       "        vertical-align: top;\n",
       "    }\n",
       "\n",
       "    .dataframe thead th {\n",
       "        text-align: right;\n",
       "    }\n",
       "</style>\n",
       "<table border=\"1\" class=\"dataframe\">\n",
       "  <thead>\n",
       "    <tr style=\"text-align: right;\">\n",
       "      <th></th>\n",
       "      <th>reg_ts</th>\n",
       "      <th>uid</th>\n",
       "      <th>default_date_reg</th>\n",
       "    </tr>\n",
       "  </thead>\n",
       "  <tbody>\n",
       "    <tr>\n",
       "      <th>0</th>\n",
       "      <td>911382223</td>\n",
       "      <td>1</td>\n",
       "      <td>1998-11-18 09:43:43</td>\n",
       "    </tr>\n",
       "    <tr>\n",
       "      <th>1</th>\n",
       "      <td>932683089</td>\n",
       "      <td>2</td>\n",
       "      <td>1999-07-22 22:38:09</td>\n",
       "    </tr>\n",
       "    <tr>\n",
       "      <th>2</th>\n",
       "      <td>947802447</td>\n",
       "      <td>3</td>\n",
       "      <td>2000-01-13 22:27:27</td>\n",
       "    </tr>\n",
       "    <tr>\n",
       "      <th>3</th>\n",
       "      <td>959523541</td>\n",
       "      <td>4</td>\n",
       "      <td>2000-05-28 14:19:01</td>\n",
       "    </tr>\n",
       "    <tr>\n",
       "      <th>4</th>\n",
       "      <td>969103313</td>\n",
       "      <td>5</td>\n",
       "      <td>2000-09-16 11:21:53</td>\n",
       "    </tr>\n",
       "  </tbody>\n",
       "</table>\n",
       "</div>"
      ],
      "text/plain": [
       "      reg_ts  uid    default_date_reg\n",
       "0  911382223    1 1998-11-18 09:43:43\n",
       "1  932683089    2 1999-07-22 22:38:09\n",
       "2  947802447    3 2000-01-13 22:27:27\n",
       "3  959523541    4 2000-05-28 14:19:01\n",
       "4  969103313    5 2000-09-16 11:21:53"
      ]
     },
     "execution_count": 18,
     "metadata": {},
     "output_type": "execute_result"
    }
   ],
   "source": [
    "register_df.head()"
   ]
  },
  {
   "cell_type": "code",
   "execution_count": 19,
   "metadata": {},
   "outputs": [
    {
     "data": {
      "text/plain": [
       "count                          1000000\n",
       "mean     2019-01-24 12:12:34.523629056\n",
       "min                1998-11-18 09:43:43\n",
       "25%         2018-06-03 13:55:11.500000\n",
       "50%                2019-07-30 02:35:25\n",
       "75%      2020-04-01 16:28:40.499999744\n",
       "max                2020-09-23 15:17:24\n",
       "Name: default_date_reg, dtype: object"
      ]
     },
     "execution_count": 19,
     "metadata": {},
     "output_type": "execute_result"
    }
   ],
   "source": [
    "# Посмотрим описательную статистику по новой колонке\n",
    "register_df.default_date_reg.describe(datetime_is_numeric=True)"
   ]
  },
  {
   "cell_type": "code",
   "execution_count": 20,
   "metadata": {},
   "outputs": [
    {
     "data": {
      "text/plain": [
       "<AxesSubplot:xlabel='uid', ylabel='reg_ts'>"
      ]
     },
     "execution_count": 20,
     "metadata": {},
     "output_type": "execute_result"
    },
    {
     "data": {
      "image/png": "[encoded data removed]",
      "text/plain": [
       "<Figure size 1440x504 with 1 Axes>"
      ]
     },
     "metadata": {},
     "output_type": "display_data"
    }
   ],
   "source": [
    "sns.scatterplot(x='uid', y='reg_ts', data=register_df)"
   ]
  },
  {
   "cell_type": "code",
   "execution_count": 21,
   "metadata": {},
   "outputs": [
    {
     "data": {
      "text/plain": [
       "<AxesSubplot:xlabel='reg_ts', ylabel='Density'>"
      ]
     },
     "execution_count": 21,
     "metadata": {},
     "output_type": "execute_result"
    },
    {
     "data": {
      "image/png": "[encoded data removed]",
      "text/plain": [
       "<Figure size 1440x504 with 1 Axes>"
      ]
     },
     "metadata": {},
     "output_type": "display_data"
    }
   ],
   "source": [
    "sns.distplot(register_df.reg_ts)"
   ]
  },
  {
   "cell_type": "code",
   "execution_count": 22,
   "metadata": {},
   "outputs": [
    {
     "data": {
      "text/plain": [
       "SpearmanrResult(correlation=1.0, pvalue=0.0)"
      ]
     },
     "execution_count": 22,
     "metadata": {},
     "output_type": "execute_result"
    }
   ],
   "source": [
    "ss.spearmanr(register_df.uid, register_df.reg_ts)"
   ]
  },
  {
   "cell_type": "markdown",
   "metadata": {},
   "source": [
    "Во фрейме регистрации пользователей \"грязных\" данных нет, и сохраняется закономерность каждому юзеру принадлежит свое время регистрации, при этом чем ближе время регистрации к текущей дате, тем больше id пользователя"
   ]
  },
  {
   "cell_type": "markdown",
   "metadata": {},
   "source": [
    "Посмотрим на данные во фрейме авторизации"
   ]
  },
  {
   "cell_type": "code",
   "execution_count": 23,
   "metadata": {},
   "outputs": [
    {
     "data": {
      "text/html": [
       "<div>\n",
       "<style scoped>\n",
       "    .dataframe tbody tr th:only-of-type {\n",
       "        vertical-align: middle;\n",
       "    }\n",
       "\n",
       "    .dataframe tbody tr th {\n",
       "        vertical-align: top;\n",
       "    }\n",
       "\n",
       "    .dataframe thead th {\n",
       "        text-align: right;\n",
       "    }\n",
       "</style>\n",
       "<table border=\"1\" class=\"dataframe\">\n",
       "  <thead>\n",
       "    <tr style=\"text-align: right;\">\n",
       "      <th></th>\n",
       "      <th>auth_ts</th>\n",
       "      <th>uid</th>\n",
       "    </tr>\n",
       "  </thead>\n",
       "  <tbody>\n",
       "    <tr>\n",
       "      <th>0</th>\n",
       "      <td>911382223</td>\n",
       "      <td>1</td>\n",
       "    </tr>\n",
       "    <tr>\n",
       "      <th>1</th>\n",
       "      <td>932683089</td>\n",
       "      <td>2</td>\n",
       "    </tr>\n",
       "    <tr>\n",
       "      <th>2</th>\n",
       "      <td>932921206</td>\n",
       "      <td>2</td>\n",
       "    </tr>\n",
       "    <tr>\n",
       "      <th>3</th>\n",
       "      <td>933393015</td>\n",
       "      <td>2</td>\n",
       "    </tr>\n",
       "    <tr>\n",
       "      <th>4</th>\n",
       "      <td>933875379</td>\n",
       "      <td>2</td>\n",
       "    </tr>\n",
       "  </tbody>\n",
       "</table>\n",
       "</div>"
      ],
      "text/plain": [
       "     auth_ts  uid\n",
       "0  911382223    1\n",
       "1  932683089    2\n",
       "2  932921206    2\n",
       "3  933393015    2\n",
       "4  933875379    2"
      ]
     },
     "execution_count": 23,
     "metadata": {},
     "output_type": "execute_result"
    }
   ],
   "source": [
    "authorization_df.head()"
   ]
  },
  {
   "cell_type": "code",
   "execution_count": 24,
   "metadata": {},
   "outputs": [
    {
     "data": {
      "text/plain": [
       "(9601013, 2)"
      ]
     },
     "execution_count": 24,
     "metadata": {},
     "output_type": "execute_result"
    }
   ],
   "source": [
    "authorization_df.shape "
   ]
  },
  {
   "cell_type": "code",
   "execution_count": 25,
   "metadata": {},
   "outputs": [
    {
     "data": {
      "text/plain": [
       "auth_ts    int64\n",
       "uid        int64\n",
       "dtype: object"
      ]
     },
     "execution_count": 25,
     "metadata": {},
     "output_type": "execute_result"
    }
   ],
   "source": [
    "authorization_df.dtypes"
   ]
  },
  {
   "cell_type": "code",
   "execution_count": 26,
   "metadata": {},
   "outputs": [
    {
     "data": {
      "text/plain": [
       "auth_ts    0\n",
       "uid        0\n",
       "dtype: int64"
      ]
     },
     "execution_count": 26,
     "metadata": {},
     "output_type": "execute_result"
    }
   ],
   "source": [
    "authorization_df.isna().sum()"
   ]
  },
  {
   "cell_type": "code",
   "execution_count": 27,
   "metadata": {},
   "outputs": [
    {
     "data": {
      "text/plain": [
       "auth_ts    9180915\n",
       "uid        1000000\n",
       "dtype: int64"
      ]
     },
     "execution_count": 27,
     "metadata": {},
     "output_type": "execute_result"
    }
   ],
   "source": [
    "authorization_df.nunique()"
   ]
  },
  {
   "cell_type": "code",
   "execution_count": 28,
   "metadata": {},
   "outputs": [],
   "source": [
    "# Так же переведем время в стандартный формат\n",
    "authorization_df['default_date_auth'] = pd.to_datetime(authorization_df.auth_ts, unit='s')"
   ]
  },
  {
   "cell_type": "code",
   "execution_count": 29,
   "metadata": {},
   "outputs": [
    {
     "data": {
      "text/plain": [
       "count                          9601013\n",
       "mean     2019-01-29 16:12:06.254660096\n",
       "min                1998-11-18 09:43:43\n",
       "25%                2018-06-07 12:40:47\n",
       "50%                2019-07-31 12:43:16\n",
       "75%                2020-04-02 10:25:21\n",
       "max                2020-09-23 15:17:24\n",
       "Name: default_date_auth, dtype: object"
      ]
     },
     "execution_count": 29,
     "metadata": {},
     "output_type": "execute_result"
    }
   ],
   "source": [
    "# Посмотрим описательную статистику по новой колонке\n",
    "authorization_df.default_date_auth.describe(datetime_is_numeric=True)"
   ]
  },
  {
   "cell_type": "markdown",
   "metadata": {},
   "source": [
    "По рассмотренным данным видно, что аномалий нет и каждому пользователю сопоставляется корректное время. \n",
    "\n",
    "Но возникает вопрос, о временном промежутке представленном в данных (он достаточно внушительный) и либо была допущена ошибка при сборе данных, либо мы хотим убедиться какое количество пользователей осталось с нами за весь промежуток существования проекта.\n",
    "\n",
    "\n",
    "\n"
   ]
  },
  {
   "cell_type": "markdown",
   "metadata": {},
   "source": [
    "Добавим день регистрации пользователя к дате авторизации пользователя, чтобы посмотреть, присутствуют или нет даты регистрации во 2 фрейме"
   ]
  },
  {
   "cell_type": "code",
   "execution_count": 30,
   "metadata": {},
   "outputs": [],
   "source": [
    "df_merge = authorization_df.merge(register_df, how='left', on='uid')"
   ]
  },
  {
   "cell_type": "code",
   "execution_count": 31,
   "metadata": {
    "scrolled": true
   },
   "outputs": [
    {
     "data": {
      "text/plain": [
       "auth_ts              9180915\n",
       "uid                  1000000\n",
       "default_date_auth    9180915\n",
       "reg_ts               1000000\n",
       "default_date_reg     1000000\n",
       "dtype: int64"
      ]
     },
     "execution_count": 31,
     "metadata": {},
     "output_type": "execute_result"
    }
   ],
   "source": [
    "df_merge.nunique()"
   ]
  },
  {
   "cell_type": "code",
   "execution_count": 32,
   "metadata": {},
   "outputs": [
    {
     "data": {
      "text/html": [
       "<div>\n",
       "<style scoped>\n",
       "    .dataframe tbody tr th:only-of-type {\n",
       "        vertical-align: middle;\n",
       "    }\n",
       "\n",
       "    .dataframe tbody tr th {\n",
       "        vertical-align: top;\n",
       "    }\n",
       "\n",
       "    .dataframe thead th {\n",
       "        text-align: right;\n",
       "    }\n",
       "</style>\n",
       "<table border=\"1\" class=\"dataframe\">\n",
       "  <thead>\n",
       "    <tr style=\"text-align: right;\">\n",
       "      <th></th>\n",
       "      <th>auth_ts</th>\n",
       "      <th>uid</th>\n",
       "      <th>default_date_auth</th>\n",
       "      <th>reg_ts</th>\n",
       "      <th>default_date_reg</th>\n",
       "    </tr>\n",
       "  </thead>\n",
       "  <tbody>\n",
       "    <tr>\n",
       "      <th>0</th>\n",
       "      <td>911382223</td>\n",
       "      <td>1</td>\n",
       "      <td>1998-11-18 09:43:43</td>\n",
       "      <td>911382223</td>\n",
       "      <td>1998-11-18 09:43:43</td>\n",
       "    </tr>\n",
       "    <tr>\n",
       "      <th>1</th>\n",
       "      <td>932683089</td>\n",
       "      <td>2</td>\n",
       "      <td>1999-07-22 22:38:09</td>\n",
       "      <td>932683089</td>\n",
       "      <td>1999-07-22 22:38:09</td>\n",
       "    </tr>\n",
       "    <tr>\n",
       "      <th>2</th>\n",
       "      <td>932921206</td>\n",
       "      <td>2</td>\n",
       "      <td>1999-07-25 16:46:46</td>\n",
       "      <td>932683089</td>\n",
       "      <td>1999-07-22 22:38:09</td>\n",
       "    </tr>\n",
       "    <tr>\n",
       "      <th>3</th>\n",
       "      <td>933393015</td>\n",
       "      <td>2</td>\n",
       "      <td>1999-07-31 03:50:15</td>\n",
       "      <td>932683089</td>\n",
       "      <td>1999-07-22 22:38:09</td>\n",
       "    </tr>\n",
       "    <tr>\n",
       "      <th>4</th>\n",
       "      <td>933875379</td>\n",
       "      <td>2</td>\n",
       "      <td>1999-08-05 17:49:39</td>\n",
       "      <td>932683089</td>\n",
       "      <td>1999-07-22 22:38:09</td>\n",
       "    </tr>\n",
       "    <tr>\n",
       "      <th>...</th>\n",
       "      <td>...</td>\n",
       "      <td>...</td>\n",
       "      <td>...</td>\n",
       "      <td>...</td>\n",
       "      <td>...</td>\n",
       "    </tr>\n",
       "    <tr>\n",
       "      <th>9601008</th>\n",
       "      <td>1600874034</td>\n",
       "      <td>1110618</td>\n",
       "      <td>2020-09-23 15:13:54</td>\n",
       "      <td>1600874034</td>\n",
       "      <td>2020-09-23 15:13:54</td>\n",
       "    </tr>\n",
       "    <tr>\n",
       "      <th>9601009</th>\n",
       "      <td>1600874086</td>\n",
       "      <td>1110619</td>\n",
       "      <td>2020-09-23 15:14:46</td>\n",
       "      <td>1600874086</td>\n",
       "      <td>2020-09-23 15:14:46</td>\n",
       "    </tr>\n",
       "    <tr>\n",
       "      <th>9601010</th>\n",
       "      <td>1600874139</td>\n",
       "      <td>1110620</td>\n",
       "      <td>2020-09-23 15:15:39</td>\n",
       "      <td>1600874139</td>\n",
       "      <td>2020-09-23 15:15:39</td>\n",
       "    </tr>\n",
       "    <tr>\n",
       "      <th>9601011</th>\n",
       "      <td>1600874191</td>\n",
       "      <td>1110621</td>\n",
       "      <td>2020-09-23 15:16:31</td>\n",
       "      <td>1600874191</td>\n",
       "      <td>2020-09-23 15:16:31</td>\n",
       "    </tr>\n",
       "    <tr>\n",
       "      <th>9601012</th>\n",
       "      <td>1600874244</td>\n",
       "      <td>1110622</td>\n",
       "      <td>2020-09-23 15:17:24</td>\n",
       "      <td>1600874244</td>\n",
       "      <td>2020-09-23 15:17:24</td>\n",
       "    </tr>\n",
       "  </tbody>\n",
       "</table>\n",
       "<p>9601013 rows × 5 columns</p>\n",
       "</div>"
      ],
      "text/plain": [
       "            auth_ts      uid   default_date_auth      reg_ts  \\\n",
       "0         911382223        1 1998-11-18 09:43:43   911382223   \n",
       "1         932683089        2 1999-07-22 22:38:09   932683089   \n",
       "2         932921206        2 1999-07-25 16:46:46   932683089   \n",
       "3         933393015        2 1999-07-31 03:50:15   932683089   \n",
       "4         933875379        2 1999-08-05 17:49:39   932683089   \n",
       "...             ...      ...                 ...         ...   \n",
       "9601008  1600874034  1110618 2020-09-23 15:13:54  1600874034   \n",
       "9601009  1600874086  1110619 2020-09-23 15:14:46  1600874086   \n",
       "9601010  1600874139  1110620 2020-09-23 15:15:39  1600874139   \n",
       "9601011  1600874191  1110621 2020-09-23 15:16:31  1600874191   \n",
       "9601012  1600874244  1110622 2020-09-23 15:17:24  1600874244   \n",
       "\n",
       "           default_date_reg  \n",
       "0       1998-11-18 09:43:43  \n",
       "1       1999-07-22 22:38:09  \n",
       "2       1999-07-22 22:38:09  \n",
       "3       1999-07-22 22:38:09  \n",
       "4       1999-07-22 22:38:09  \n",
       "...                     ...  \n",
       "9601008 2020-09-23 15:13:54  \n",
       "9601009 2020-09-23 15:14:46  \n",
       "9601010 2020-09-23 15:15:39  \n",
       "9601011 2020-09-23 15:16:31  \n",
       "9601012 2020-09-23 15:17:24  \n",
       "\n",
       "[9601013 rows x 5 columns]"
      ]
     },
     "execution_count": 32,
     "metadata": {},
     "output_type": "execute_result"
    }
   ],
   "source": [
    "df_merge"
   ]
  },
  {
   "cell_type": "code",
   "execution_count": 33,
   "metadata": {},
   "outputs": [
    {
     "data": {
      "text/html": [
       "<div>\n",
       "<style scoped>\n",
       "    .dataframe tbody tr th:only-of-type {\n",
       "        vertical-align: middle;\n",
       "    }\n",
       "\n",
       "    .dataframe tbody tr th {\n",
       "        vertical-align: top;\n",
       "    }\n",
       "\n",
       "    .dataframe thead th {\n",
       "        text-align: right;\n",
       "    }\n",
       "</style>\n",
       "<table border=\"1\" class=\"dataframe\">\n",
       "  <thead>\n",
       "    <tr style=\"text-align: right;\">\n",
       "      <th></th>\n",
       "      <th>auth_ts</th>\n",
       "      <th>uid</th>\n",
       "      <th>default_date_auth</th>\n",
       "      <th>reg_ts</th>\n",
       "      <th>default_date_reg</th>\n",
       "    </tr>\n",
       "  </thead>\n",
       "  <tbody>\n",
       "    <tr>\n",
       "      <th>0</th>\n",
       "      <td>911382223</td>\n",
       "      <td>1</td>\n",
       "      <td>1998-11-18 09:43:43</td>\n",
       "      <td>911382223</td>\n",
       "      <td>1998-11-18 09:43:43</td>\n",
       "    </tr>\n",
       "    <tr>\n",
       "      <th>1</th>\n",
       "      <td>932683089</td>\n",
       "      <td>2</td>\n",
       "      <td>1999-07-22 22:38:09</td>\n",
       "      <td>932683089</td>\n",
       "      <td>1999-07-22 22:38:09</td>\n",
       "    </tr>\n",
       "    <tr>\n",
       "      <th>42</th>\n",
       "      <td>947802447</td>\n",
       "      <td>3</td>\n",
       "      <td>2000-01-13 22:27:27</td>\n",
       "      <td>947802447</td>\n",
       "      <td>2000-01-13 22:27:27</td>\n",
       "    </tr>\n",
       "    <tr>\n",
       "      <th>74</th>\n",
       "      <td>959523541</td>\n",
       "      <td>4</td>\n",
       "      <td>2000-05-28 14:19:01</td>\n",
       "      <td>959523541</td>\n",
       "      <td>2000-05-28 14:19:01</td>\n",
       "    </tr>\n",
       "    <tr>\n",
       "      <th>103</th>\n",
       "      <td>969103313</td>\n",
       "      <td>5</td>\n",
       "      <td>2000-09-16 11:21:53</td>\n",
       "      <td>969103313</td>\n",
       "      <td>2000-09-16 11:21:53</td>\n",
       "    </tr>\n",
       "    <tr>\n",
       "      <th>...</th>\n",
       "      <td>...</td>\n",
       "      <td>...</td>\n",
       "      <td>...</td>\n",
       "      <td>...</td>\n",
       "      <td>...</td>\n",
       "    </tr>\n",
       "    <tr>\n",
       "      <th>9601008</th>\n",
       "      <td>1600874034</td>\n",
       "      <td>1110618</td>\n",
       "      <td>2020-09-23 15:13:54</td>\n",
       "      <td>1600874034</td>\n",
       "      <td>2020-09-23 15:13:54</td>\n",
       "    </tr>\n",
       "    <tr>\n",
       "      <th>9601009</th>\n",
       "      <td>1600874086</td>\n",
       "      <td>1110619</td>\n",
       "      <td>2020-09-23 15:14:46</td>\n",
       "      <td>1600874086</td>\n",
       "      <td>2020-09-23 15:14:46</td>\n",
       "    </tr>\n",
       "    <tr>\n",
       "      <th>9601010</th>\n",
       "      <td>1600874139</td>\n",
       "      <td>1110620</td>\n",
       "      <td>2020-09-23 15:15:39</td>\n",
       "      <td>1600874139</td>\n",
       "      <td>2020-09-23 15:15:39</td>\n",
       "    </tr>\n",
       "    <tr>\n",
       "      <th>9601011</th>\n",
       "      <td>1600874191</td>\n",
       "      <td>1110621</td>\n",
       "      <td>2020-09-23 15:16:31</td>\n",
       "      <td>1600874191</td>\n",
       "      <td>2020-09-23 15:16:31</td>\n",
       "    </tr>\n",
       "    <tr>\n",
       "      <th>9601012</th>\n",
       "      <td>1600874244</td>\n",
       "      <td>1110622</td>\n",
       "      <td>2020-09-23 15:17:24</td>\n",
       "      <td>1600874244</td>\n",
       "      <td>2020-09-23 15:17:24</td>\n",
       "    </tr>\n",
       "  </tbody>\n",
       "</table>\n",
       "<p>1000000 rows × 5 columns</p>\n",
       "</div>"
      ],
      "text/plain": [
       "            auth_ts      uid   default_date_auth      reg_ts  \\\n",
       "0         911382223        1 1998-11-18 09:43:43   911382223   \n",
       "1         932683089        2 1999-07-22 22:38:09   932683089   \n",
       "42        947802447        3 2000-01-13 22:27:27   947802447   \n",
       "74        959523541        4 2000-05-28 14:19:01   959523541   \n",
       "103       969103313        5 2000-09-16 11:21:53   969103313   \n",
       "...             ...      ...                 ...         ...   \n",
       "9601008  1600874034  1110618 2020-09-23 15:13:54  1600874034   \n",
       "9601009  1600874086  1110619 2020-09-23 15:14:46  1600874086   \n",
       "9601010  1600874139  1110620 2020-09-23 15:15:39  1600874139   \n",
       "9601011  1600874191  1110621 2020-09-23 15:16:31  1600874191   \n",
       "9601012  1600874244  1110622 2020-09-23 15:17:24  1600874244   \n",
       "\n",
       "           default_date_reg  \n",
       "0       1998-11-18 09:43:43  \n",
       "1       1999-07-22 22:38:09  \n",
       "42      2000-01-13 22:27:27  \n",
       "74      2000-05-28 14:19:01  \n",
       "103     2000-09-16 11:21:53  \n",
       "...                     ...  \n",
       "9601008 2020-09-23 15:13:54  \n",
       "9601009 2020-09-23 15:14:46  \n",
       "9601010 2020-09-23 15:15:39  \n",
       "9601011 2020-09-23 15:16:31  \n",
       "9601012 2020-09-23 15:17:24  \n",
       "\n",
       "[1000000 rows x 5 columns]"
      ]
     },
     "execution_count": 33,
     "metadata": {},
     "output_type": "execute_result"
    }
   ],
   "source": [
    "# Проверим, есть ли день регисрации пользователя в данных об авторизации\n",
    "# Если размер фрейма будет равен 1 миллиону, то данные о регистрации присутствуют и можно работать с одним фреймом\n",
    "df_merge[df_merge['default_date_auth'] == df_merge['default_date_reg']].drop_duplicates(subset=['uid'])"
   ]
  },
  {
   "cell_type": "code",
   "execution_count": 34,
   "metadata": {},
   "outputs": [],
   "source": [
    "# Возьмем нужные колонки\n",
    "need_df = authorization_df[['uid', 'default_date_auth']]"
   ]
  },
  {
   "cell_type": "code",
   "execution_count": 35,
   "metadata": {},
   "outputs": [],
   "source": [
    "# Отберем нужную дату от которой будет смотреть когорты\n",
    "register_df['default_date_reg_day'] = register_df.default_date_reg.dt.to_period('d')\n",
    "register_df = register_df.query('default_date_reg_day > \"2019-09-23\"')"
   ]
  },
  {
   "cell_type": "code",
   "execution_count": 36,
   "metadata": {},
   "outputs": [],
   "source": [
    "def cohort_analysis(df, sampl_df=pd.DataFrame(), border_head=30, border=30, period='d'):\n",
    "    \n",
    "    \"\"\"\n",
    "    На вход функция принимает:\n",
    "    df - датафрейм по которому будет производиться расчет\n",
    "    sampl_df - датафрейм по которому происходит отбор необходимых когорт пользователей\n",
    "    border_head- количество когорт\n",
    "    border - количество необходимых периодов (к примеру: если это расчет retention по дня, можно установить 28 или 30)\n",
    "    period - параметр отвечающий за период расчета retention (день, месяц) \n",
    "    \"\"\"\n",
    "    \n",
    "    # Распоковывем названия столбцов в нужные переменные\n",
    "    customer, date = [i for i in list(df.columns)]\n",
    "    \n",
    "    # Период для каждой авторизации пользователя\n",
    "    df['order_day'] = df[date].dt.to_period(period)\n",
    "    \n",
    "    # Определим когорты, взяв период от даты регистрации пользователя\n",
    "    df['cohort'] = df.groupby(customer)[date] \\\n",
    "                     .transform('min') \\\n",
    "                     .dt.to_period('d')\n",
    "    \n",
    "    # Проверяем условие, если переданный датафрейм не пустой,\n",
    "    # то вычисляем нужное количество когорт, если нет, то расчет производится по всему набору данных\n",
    "    if sampl_df.shape[0] != 0:\n",
    "        def need_date(df_smpl):\n",
    "            df_smpl = df_smpl.drop_duplicates(subset='default_date_reg_day').head(border_head)\n",
    "            sampl = list(df_smpl.default_date_reg_day)\n",
    "            return sampl\n",
    "        need_date_day = need_date(sampl_df)\n",
    "        df = df.query('cohort in @need_date_day')\n",
    "    \n",
    "    # Подсчитываем кол-во уникальных пользователей в когорте\n",
    "    df_cohort = df.groupby(['cohort', 'order_day']) \\\n",
    "                  .agg(n_customers=(customer, 'nunique')) \\\n",
    "                  .reset_index(drop=False)\n",
    "\n",
    "    # Формируем количество периодов между месяцем когорты и месяцем покупки\n",
    "    df_cohort['period_number'] = (df_cohort.order_day - df_cohort.cohort).apply(attrgetter('n'))\n",
    "    \n",
    "    # Отбираем нужное число периодов\n",
    "    df_cohort = df_cohort.query('period_number < @border')\n",
    "    \n",
    "    # Разворачиваем получившуюся таблицу к виду: каждая строка == когорта, каждый столбец == период\n",
    "    cohort_pivot = df_cohort.pivot_table(index='cohort',\n",
    "                                         columns='period_number',\n",
    "                                         values='n_customers')\n",
    "    \n",
    "    # Возьмем размер каждой когорты в день первого заказа\n",
    "    cohort_size = cohort_pivot.iloc[:, 0]\n",
    "\n",
    "    # Разделим значение пользователей в каждой когорте на значение пользователей в день первого заказа\n",
    "    retention_matrix = cohort_pivot.divide(cohort_size, axis=0)\n",
    "    \n",
    "    # Визуализация анализа \n",
    "    style_retention = (retention_matrix\n",
    "                       .style\n",
    "                       .set_caption('User retention by cohort')  # добавляем подпись\n",
    "                       .background_gradient(cmap='viridis')  # раскрашиваем ячейки по столбцам\n",
    "                       .highlight_null('white')  # делаем белый фон для значений NaN\n",
    "                       .format(\"{:.2%}\", na_rep=\"\"))  # числа форматируем как проценты, NaN заменяем на пустоту\n",
    "   \n",
    "    return {'style_retention': style_retention,\n",
    "            'retention_matrix': retention_matrix,\n",
    "            'cohort_pivot': cohort_pivot}"
   ]
  },
  {
   "cell_type": "code",
   "execution_count": 37,
   "metadata": {},
   "outputs": [],
   "source": [
    "r = cohort_analysis(need_df, register_df, 10) "
   ]
  },
  {
   "cell_type": "code",
   "execution_count": 38,
   "metadata": {},
   "outputs": [
    {
     "data": {
      "text/html": [
       "<style  type=\"text/css\" >\n",
       "#T_83c50dd7_d860_11ec_bbce_f8e4e37aaee9row0_col0,#T_83c50dd7_d860_11ec_bbce_f8e4e37aaee9row0_col2,#T_83c50dd7_d860_11ec_bbce_f8e4e37aaee9row0_col4,#T_83c50dd7_d860_11ec_bbce_f8e4e37aaee9row0_col5,#T_83c50dd7_d860_11ec_bbce_f8e4e37aaee9row0_col9,#T_83c50dd7_d860_11ec_bbce_f8e4e37aaee9row0_col15,#T_83c50dd7_d860_11ec_bbce_f8e4e37aaee9row0_col16,#T_83c50dd7_d860_11ec_bbce_f8e4e37aaee9row0_col18,#T_83c50dd7_d860_11ec_bbce_f8e4e37aaee9row0_col19,#T_83c50dd7_d860_11ec_bbce_f8e4e37aaee9row0_col22,#T_83c50dd7_d860_11ec_bbce_f8e4e37aaee9row0_col24,#T_83c50dd7_d860_11ec_bbce_f8e4e37aaee9row0_col27,#T_83c50dd7_d860_11ec_bbce_f8e4e37aaee9row0_col28,#T_83c50dd7_d860_11ec_bbce_f8e4e37aaee9row1_col0,#T_83c50dd7_d860_11ec_bbce_f8e4e37aaee9row1_col20,#T_83c50dd7_d860_11ec_bbce_f8e4e37aaee9row2_col0,#T_83c50dd7_d860_11ec_bbce_f8e4e37aaee9row2_col29,#T_83c50dd7_d860_11ec_bbce_f8e4e37aaee9row3_col0,#T_83c50dd7_d860_11ec_bbce_f8e4e37aaee9row3_col7,#T_83c50dd7_d860_11ec_bbce_f8e4e37aaee9row3_col12,#T_83c50dd7_d860_11ec_bbce_f8e4e37aaee9row4_col0,#T_83c50dd7_d860_11ec_bbce_f8e4e37aaee9row4_col3,#T_83c50dd7_d860_11ec_bbce_f8e4e37aaee9row4_col11,#T_83c50dd7_d860_11ec_bbce_f8e4e37aaee9row5_col0,#T_83c50dd7_d860_11ec_bbce_f8e4e37aaee9row5_col6,#T_83c50dd7_d860_11ec_bbce_f8e4e37aaee9row5_col17,#T_83c50dd7_d860_11ec_bbce_f8e4e37aaee9row5_col23,#T_83c50dd7_d860_11ec_bbce_f8e4e37aaee9row5_col26,#T_83c50dd7_d860_11ec_bbce_f8e4e37aaee9row6_col0,#T_83c50dd7_d860_11ec_bbce_f8e4e37aaee9row6_col8,#T_83c50dd7_d860_11ec_bbce_f8e4e37aaee9row6_col14,#T_83c50dd7_d860_11ec_bbce_f8e4e37aaee9row7_col0,#T_83c50dd7_d860_11ec_bbce_f8e4e37aaee9row7_col13,#T_83c50dd7_d860_11ec_bbce_f8e4e37aaee9row7_col21,#T_83c50dd7_d860_11ec_bbce_f8e4e37aaee9row8_col0,#T_83c50dd7_d860_11ec_bbce_f8e4e37aaee9row8_col10,#T_83c50dd7_d860_11ec_bbce_f8e4e37aaee9row8_col25,#T_83c50dd7_d860_11ec_bbce_f8e4e37aaee9row9_col0,#T_83c50dd7_d860_11ec_bbce_f8e4e37aaee9row9_col1{\n",
       "            background-color:  #440154;\n",
       "            color:  #f1f1f1;\n",
       "        }#T_83c50dd7_d860_11ec_bbce_f8e4e37aaee9row0_col1,#T_83c50dd7_d860_11ec_bbce_f8e4e37aaee9row2_col2{\n",
       "            background-color:  #3f4788;\n",
       "            color:  #f1f1f1;\n",
       "        }#T_83c50dd7_d860_11ec_bbce_f8e4e37aaee9row0_col3,#T_83c50dd7_d860_11ec_bbce_f8e4e37aaee9row3_col17,#T_83c50dd7_d860_11ec_bbce_f8e4e37aaee9row6_col29{\n",
       "            background-color:  #33628d;\n",
       "            color:  #f1f1f1;\n",
       "        }#T_83c50dd7_d860_11ec_bbce_f8e4e37aaee9row0_col6,#T_83c50dd7_d860_11ec_bbce_f8e4e37aaee9row0_col29,#T_83c50dd7_d860_11ec_bbce_f8e4e37aaee9row1_col14,#T_83c50dd7_d860_11ec_bbce_f8e4e37aaee9row4_col9{\n",
       "            background-color:  #414287;\n",
       "            color:  #f1f1f1;\n",
       "        }#T_83c50dd7_d860_11ec_bbce_f8e4e37aaee9row0_col7,#T_83c50dd7_d860_11ec_bbce_f8e4e37aaee9row7_col3{\n",
       "            background-color:  #424086;\n",
       "            color:  #f1f1f1;\n",
       "        }#T_83c50dd7_d860_11ec_bbce_f8e4e37aaee9row0_col8,#T_83c50dd7_d860_11ec_bbce_f8e4e37aaee9row0_col20{\n",
       "            background-color:  #443b84;\n",
       "            color:  #f1f1f1;\n",
       "        }#T_83c50dd7_d860_11ec_bbce_f8e4e37aaee9row0_col10,#T_83c50dd7_d860_11ec_bbce_f8e4e37aaee9row4_col24{\n",
       "            background-color:  #2b758e;\n",
       "            color:  #f1f1f1;\n",
       "        }#T_83c50dd7_d860_11ec_bbce_f8e4e37aaee9row0_col11{\n",
       "            background-color:  #306a8e;\n",
       "            color:  #f1f1f1;\n",
       "        }#T_83c50dd7_d860_11ec_bbce_f8e4e37aaee9row0_col12{\n",
       "            background-color:  #481b6d;\n",
       "            color:  #f1f1f1;\n",
       "        }#T_83c50dd7_d860_11ec_bbce_f8e4e37aaee9row0_col13{\n",
       "            background-color:  #460a5d;\n",
       "            color:  #f1f1f1;\n",
       "        }#T_83c50dd7_d860_11ec_bbce_f8e4e37aaee9row0_col14,#T_83c50dd7_d860_11ec_bbce_f8e4e37aaee9row1_col26,#T_83c50dd7_d860_11ec_bbce_f8e4e37aaee9row6_col10{\n",
       "            background-color:  #3b518b;\n",
       "            color:  #f1f1f1;\n",
       "        }#T_83c50dd7_d860_11ec_bbce_f8e4e37aaee9row0_col17{\n",
       "            background-color:  #481467;\n",
       "            color:  #f1f1f1;\n",
       "        }#T_83c50dd7_d860_11ec_bbce_f8e4e37aaee9row0_col21,#T_83c50dd7_d860_11ec_bbce_f8e4e37aaee9row4_col15{\n",
       "            background-color:  #3d4e8a;\n",
       "            color:  #f1f1f1;\n",
       "        }#T_83c50dd7_d860_11ec_bbce_f8e4e37aaee9row0_col23,#T_83c50dd7_d860_11ec_bbce_f8e4e37aaee9row2_col14,#T_83c50dd7_d860_11ec_bbce_f8e4e37aaee9row6_col26{\n",
       "            background-color:  #238a8d;\n",
       "            color:  #000000;\n",
       "        }#T_83c50dd7_d860_11ec_bbce_f8e4e37aaee9row0_col25{\n",
       "            background-color:  #375b8d;\n",
       "            color:  #f1f1f1;\n",
       "        }#T_83c50dd7_d860_11ec_bbce_f8e4e37aaee9row0_col26{\n",
       "            background-color:  #450457;\n",
       "            color:  #f1f1f1;\n",
       "        }#T_83c50dd7_d860_11ec_bbce_f8e4e37aaee9row1_col1,#T_83c50dd7_d860_11ec_bbce_f8e4e37aaee9row7_col12{\n",
       "            background-color:  #7cd250;\n",
       "            color:  #000000;\n",
       "        }#T_83c50dd7_d860_11ec_bbce_f8e4e37aaee9row1_col2,#T_83c50dd7_d860_11ec_bbce_f8e4e37aaee9row4_col12{\n",
       "            background-color:  #1f9a8a;\n",
       "            color:  #000000;\n",
       "        }#T_83c50dd7_d860_11ec_bbce_f8e4e37aaee9row1_col3,#T_83c50dd7_d860_11ec_bbce_f8e4e37aaee9row8_col2{\n",
       "            background-color:  #297a8e;\n",
       "            color:  #000000;\n",
       "        }#T_83c50dd7_d860_11ec_bbce_f8e4e37aaee9row1_col4{\n",
       "            background-color:  #d0e11c;\n",
       "            color:  #000000;\n",
       "        }#T_83c50dd7_d860_11ec_bbce_f8e4e37aaee9row1_col5,#T_83c50dd7_d860_11ec_bbce_f8e4e37aaee9row1_col19,#T_83c50dd7_d860_11ec_bbce_f8e4e37aaee9row1_col24,#T_83c50dd7_d860_11ec_bbce_f8e4e37aaee9row2_col1,#T_83c50dd7_d860_11ec_bbce_f8e4e37aaee9row2_col6,#T_83c50dd7_d860_11ec_bbce_f8e4e37aaee9row2_col10,#T_83c50dd7_d860_11ec_bbce_f8e4e37aaee9row2_col21,#T_83c50dd7_d860_11ec_bbce_f8e4e37aaee9row2_col23,#T_83c50dd7_d860_11ec_bbce_f8e4e37aaee9row2_col27,#T_83c50dd7_d860_11ec_bbce_f8e4e37aaee9row3_col3,#T_83c50dd7_d860_11ec_bbce_f8e4e37aaee9row3_col11,#T_83c50dd7_d860_11ec_bbce_f8e4e37aaee9row3_col18,#T_83c50dd7_d860_11ec_bbce_f8e4e37aaee9row4_col13,#T_83c50dd7_d860_11ec_bbce_f8e4e37aaee9row5_col4,#T_83c50dd7_d860_11ec_bbce_f8e4e37aaee9row5_col25,#T_83c50dd7_d860_11ec_bbce_f8e4e37aaee9row6_col7,#T_83c50dd7_d860_11ec_bbce_f8e4e37aaee9row7_col16,#T_83c50dd7_d860_11ec_bbce_f8e4e37aaee9row7_col22,#T_83c50dd7_d860_11ec_bbce_f8e4e37aaee9row8_col8,#T_83c50dd7_d860_11ec_bbce_f8e4e37aaee9row8_col20,#T_83c50dd7_d860_11ec_bbce_f8e4e37aaee9row9_col2,#T_83c50dd7_d860_11ec_bbce_f8e4e37aaee9row9_col9,#T_83c50dd7_d860_11ec_bbce_f8e4e37aaee9row9_col12,#T_83c50dd7_d860_11ec_bbce_f8e4e37aaee9row9_col14,#T_83c50dd7_d860_11ec_bbce_f8e4e37aaee9row9_col15,#T_83c50dd7_d860_11ec_bbce_f8e4e37aaee9row9_col17,#T_83c50dd7_d860_11ec_bbce_f8e4e37aaee9row9_col26,#T_83c50dd7_d860_11ec_bbce_f8e4e37aaee9row9_col28,#T_83c50dd7_d860_11ec_bbce_f8e4e37aaee9row9_col29{\n",
       "            background-color:  #fde725;\n",
       "            color:  #000000;\n",
       "        }#T_83c50dd7_d860_11ec_bbce_f8e4e37aaee9row1_col6,#T_83c50dd7_d860_11ec_bbce_f8e4e37aaee9row3_col14{\n",
       "            background-color:  #1f9f88;\n",
       "            color:  #000000;\n",
       "        }#T_83c50dd7_d860_11ec_bbce_f8e4e37aaee9row1_col7,#T_83c50dd7_d860_11ec_bbce_f8e4e37aaee9row7_col9,#T_83c50dd7_d860_11ec_bbce_f8e4e37aaee9row7_col20,#T_83c50dd7_d860_11ec_bbce_f8e4e37aaee9row8_col9{\n",
       "            background-color:  #218f8d;\n",
       "            color:  #000000;\n",
       "        }#T_83c50dd7_d860_11ec_bbce_f8e4e37aaee9row1_col8{\n",
       "            background-color:  #6ece58;\n",
       "            color:  #000000;\n",
       "        }#T_83c50dd7_d860_11ec_bbce_f8e4e37aaee9row1_col9,#T_83c50dd7_d860_11ec_bbce_f8e4e37aaee9row7_col15{\n",
       "            background-color:  #2c718e;\n",
       "            color:  #f1f1f1;\n",
       "        }#T_83c50dd7_d860_11ec_bbce_f8e4e37aaee9row1_col10,#T_83c50dd7_d860_11ec_bbce_f8e4e37aaee9row6_col21,#T_83c50dd7_d860_11ec_bbce_f8e4e37aaee9row7_col14{\n",
       "            background-color:  #1e9c89;\n",
       "            color:  #000000;\n",
       "        }#T_83c50dd7_d860_11ec_bbce_f8e4e37aaee9row1_col11{\n",
       "            background-color:  #70cf57;\n",
       "            color:  #000000;\n",
       "        }#T_83c50dd7_d860_11ec_bbce_f8e4e37aaee9row1_col12,#T_83c50dd7_d860_11ec_bbce_f8e4e37aaee9row5_col5,#T_83c50dd7_d860_11ec_bbce_f8e4e37aaee9row5_col29{\n",
       "            background-color:  #2c728e;\n",
       "            color:  #f1f1f1;\n",
       "        }#T_83c50dd7_d860_11ec_bbce_f8e4e37aaee9row1_col13,#T_83c50dd7_d860_11ec_bbce_f8e4e37aaee9row5_col21{\n",
       "            background-color:  #34b679;\n",
       "            color:  #000000;\n",
       "        }#T_83c50dd7_d860_11ec_bbce_f8e4e37aaee9row1_col15,#T_83c50dd7_d860_11ec_bbce_f8e4e37aaee9row3_col21{\n",
       "            background-color:  #b2dd2d;\n",
       "            color:  #000000;\n",
       "        }#T_83c50dd7_d860_11ec_bbce_f8e4e37aaee9row1_col16{\n",
       "            background-color:  #20938c;\n",
       "            color:  #000000;\n",
       "        }#T_83c50dd7_d860_11ec_bbce_f8e4e37aaee9row1_col17,#T_83c50dd7_d860_11ec_bbce_f8e4e37aaee9row1_col23{\n",
       "            background-color:  #32648e;\n",
       "            color:  #f1f1f1;\n",
       "        }#T_83c50dd7_d860_11ec_bbce_f8e4e37aaee9row1_col18{\n",
       "            background-color:  #20a486;\n",
       "            color:  #000000;\n",
       "        }#T_83c50dd7_d860_11ec_bbce_f8e4e37aaee9row1_col21,#T_83c50dd7_d860_11ec_bbce_f8e4e37aaee9row6_col18{\n",
       "            background-color:  #26ad81;\n",
       "            color:  #000000;\n",
       "        }#T_83c50dd7_d860_11ec_bbce_f8e4e37aaee9row1_col22,#T_83c50dd7_d860_11ec_bbce_f8e4e37aaee9row2_col22,#T_83c50dd7_d860_11ec_bbce_f8e4e37aaee9row2_col28{\n",
       "            background-color:  #26818e;\n",
       "            color:  #000000;\n",
       "        }#T_83c50dd7_d860_11ec_bbce_f8e4e37aaee9row1_col25,#T_83c50dd7_d860_11ec_bbce_f8e4e37aaee9row2_col25,#T_83c50dd7_d860_11ec_bbce_f8e4e37aaee9row9_col8{\n",
       "            background-color:  #3aba76;\n",
       "            color:  #000000;\n",
       "        }#T_83c50dd7_d860_11ec_bbce_f8e4e37aaee9row1_col27{\n",
       "            background-color:  #b8de29;\n",
       "            color:  #000000;\n",
       "        }#T_83c50dd7_d860_11ec_bbce_f8e4e37aaee9row1_col28{\n",
       "            background-color:  #228d8d;\n",
       "            color:  #000000;\n",
       "        }#T_83c50dd7_d860_11ec_bbce_f8e4e37aaee9row1_col29{\n",
       "            background-color:  #2b748e;\n",
       "            color:  #f1f1f1;\n",
       "        }#T_83c50dd7_d860_11ec_bbce_f8e4e37aaee9row2_col3,#T_83c50dd7_d860_11ec_bbce_f8e4e37aaee9row9_col6,#T_83c50dd7_d860_11ec_bbce_f8e4e37aaee9row9_col10{\n",
       "            background-color:  #24aa83;\n",
       "            color:  #000000;\n",
       "        }#T_83c50dd7_d860_11ec_bbce_f8e4e37aaee9row2_col4,#T_83c50dd7_d860_11ec_bbce_f8e4e37aaee9row8_col21{\n",
       "            background-color:  #cde11d;\n",
       "            color:  #000000;\n",
       "        }#T_83c50dd7_d860_11ec_bbce_f8e4e37aaee9row2_col5,#T_83c50dd7_d860_11ec_bbce_f8e4e37aaee9row6_col22,#T_83c50dd7_d860_11ec_bbce_f8e4e37aaee9row8_col11{\n",
       "            background-color:  #c2df23;\n",
       "            color:  #000000;\n",
       "        }#T_83c50dd7_d860_11ec_bbce_f8e4e37aaee9row2_col7,#T_83c50dd7_d860_11ec_bbce_f8e4e37aaee9row3_col4{\n",
       "            background-color:  #48c16e;\n",
       "            color:  #000000;\n",
       "        }#T_83c50dd7_d860_11ec_bbce_f8e4e37aaee9row2_col8,#T_83c50dd7_d860_11ec_bbce_f8e4e37aaee9row4_col26{\n",
       "            background-color:  #32b67a;\n",
       "            color:  #000000;\n",
       "        }#T_83c50dd7_d860_11ec_bbce_f8e4e37aaee9row2_col9,#T_83c50dd7_d860_11ec_bbce_f8e4e37aaee9row4_col18{\n",
       "            background-color:  #414487;\n",
       "            color:  #f1f1f1;\n",
       "        }#T_83c50dd7_d860_11ec_bbce_f8e4e37aaee9row2_col11,#T_83c50dd7_d860_11ec_bbce_f8e4e37aaee9row2_col15{\n",
       "            background-color:  #2ab07f;\n",
       "            color:  #000000;\n",
       "        }#T_83c50dd7_d860_11ec_bbce_f8e4e37aaee9row2_col12,#T_83c50dd7_d860_11ec_bbce_f8e4e37aaee9row5_col8,#T_83c50dd7_d860_11ec_bbce_f8e4e37aaee9row9_col4{\n",
       "            background-color:  #2fb47c;\n",
       "            color:  #000000;\n",
       "        }#T_83c50dd7_d860_11ec_bbce_f8e4e37aaee9row2_col13,#T_83c50dd7_d860_11ec_bbce_f8e4e37aaee9row9_col3{\n",
       "            background-color:  #472f7d;\n",
       "            color:  #f1f1f1;\n",
       "        }#T_83c50dd7_d860_11ec_bbce_f8e4e37aaee9row2_col16{\n",
       "            background-color:  #58c765;\n",
       "            color:  #000000;\n",
       "        }#T_83c50dd7_d860_11ec_bbce_f8e4e37aaee9row2_col17,#T_83c50dd7_d860_11ec_bbce_f8e4e37aaee9row9_col22{\n",
       "            background-color:  #9bd93c;\n",
       "            color:  #000000;\n",
       "        }#T_83c50dd7_d860_11ec_bbce_f8e4e37aaee9row2_col18,#T_83c50dd7_d860_11ec_bbce_f8e4e37aaee9row4_col10,#T_83c50dd7_d860_11ec_bbce_f8e4e37aaee9row8_col15{\n",
       "            background-color:  #287d8e;\n",
       "            color:  #000000;\n",
       "        }#T_83c50dd7_d860_11ec_bbce_f8e4e37aaee9row2_col19{\n",
       "            background-color:  #e7e419;\n",
       "            color:  #000000;\n",
       "        }#T_83c50dd7_d860_11ec_bbce_f8e4e37aaee9row2_col20{\n",
       "            background-color:  #25858e;\n",
       "            color:  #000000;\n",
       "        }#T_83c50dd7_d860_11ec_bbce_f8e4e37aaee9row2_col24,#T_83c50dd7_d860_11ec_bbce_f8e4e37aaee9row6_col1{\n",
       "            background-color:  #2a778e;\n",
       "            color:  #000000;\n",
       "        }#T_83c50dd7_d860_11ec_bbce_f8e4e37aaee9row2_col26{\n",
       "            background-color:  #73d056;\n",
       "            color:  #000000;\n",
       "        }#T_83c50dd7_d860_11ec_bbce_f8e4e37aaee9row3_col1,#T_83c50dd7_d860_11ec_bbce_f8e4e37aaee9row4_col1,#T_83c50dd7_d860_11ec_bbce_f8e4e37aaee9row5_col1{\n",
       "            background-color:  #46307e;\n",
       "            color:  #f1f1f1;\n",
       "        }#T_83c50dd7_d860_11ec_bbce_f8e4e37aaee9row3_col2{\n",
       "            background-color:  #482475;\n",
       "            color:  #f1f1f1;\n",
       "        }#T_83c50dd7_d860_11ec_bbce_f8e4e37aaee9row3_col5,#T_83c50dd7_d860_11ec_bbce_f8e4e37aaee9row9_col18{\n",
       "            background-color:  #86d549;\n",
       "            color:  #000000;\n",
       "        }#T_83c50dd7_d860_11ec_bbce_f8e4e37aaee9row3_col6{\n",
       "            background-color:  #1e9d89;\n",
       "            color:  #000000;\n",
       "        }#T_83c50dd7_d860_11ec_bbce_f8e4e37aaee9row3_col8,#T_83c50dd7_d860_11ec_bbce_f8e4e37aaee9row7_col10{\n",
       "            background-color:  #6ccd5a;\n",
       "            color:  #000000;\n",
       "        }#T_83c50dd7_d860_11ec_bbce_f8e4e37aaee9row3_col9{\n",
       "            background-color:  #2d718e;\n",
       "            color:  #f1f1f1;\n",
       "        }#T_83c50dd7_d860_11ec_bbce_f8e4e37aaee9row3_col10,#T_83c50dd7_d860_11ec_bbce_f8e4e37aaee9row4_col25{\n",
       "            background-color:  #30698e;\n",
       "            color:  #f1f1f1;\n",
       "        }#T_83c50dd7_d860_11ec_bbce_f8e4e37aaee9row3_col13{\n",
       "            background-color:  #b5de2b;\n",
       "            color:  #000000;\n",
       "        }#T_83c50dd7_d860_11ec_bbce_f8e4e37aaee9row3_col15{\n",
       "            background-color:  #20a386;\n",
       "            color:  #000000;\n",
       "        }#T_83c50dd7_d860_11ec_bbce_f8e4e37aaee9row3_col16,#T_83c50dd7_d860_11ec_bbce_f8e4e37aaee9row3_col28,#T_83c50dd7_d860_11ec_bbce_f8e4e37aaee9row4_col20{\n",
       "            background-color:  #31688e;\n",
       "            color:  #f1f1f1;\n",
       "        }#T_83c50dd7_d860_11ec_bbce_f8e4e37aaee9row3_col19,#T_83c50dd7_d860_11ec_bbce_f8e4e37aaee9row6_col4,#T_83c50dd7_d860_11ec_bbce_f8e4e37aaee9row8_col23{\n",
       "            background-color:  #5ac864;\n",
       "            color:  #000000;\n",
       "        }#T_83c50dd7_d860_11ec_bbce_f8e4e37aaee9row3_col20,#T_83c50dd7_d860_11ec_bbce_f8e4e37aaee9row8_col5{\n",
       "            background-color:  #375a8c;\n",
       "            color:  #f1f1f1;\n",
       "        }#T_83c50dd7_d860_11ec_bbce_f8e4e37aaee9row3_col22{\n",
       "            background-color:  #1f978b;\n",
       "            color:  #000000;\n",
       "        }#T_83c50dd7_d860_11ec_bbce_f8e4e37aaee9row3_col23{\n",
       "            background-color:  #95d840;\n",
       "            color:  #000000;\n",
       "        }#T_83c50dd7_d860_11ec_bbce_f8e4e37aaee9row3_col24{\n",
       "            background-color:  #21a685;\n",
       "            color:  #000000;\n",
       "        }#T_83c50dd7_d860_11ec_bbce_f8e4e37aaee9row3_col25,#T_83c50dd7_d860_11ec_bbce_f8e4e37aaee9row5_col20{\n",
       "            background-color:  #38b977;\n",
       "            color:  #000000;\n",
       "        }#T_83c50dd7_d860_11ec_bbce_f8e4e37aaee9row3_col26,#T_83c50dd7_d860_11ec_bbce_f8e4e37aaee9row7_col27{\n",
       "            background-color:  #228c8d;\n",
       "            color:  #000000;\n",
       "        }#T_83c50dd7_d860_11ec_bbce_f8e4e37aaee9row3_col27,#T_83c50dd7_d860_11ec_bbce_f8e4e37aaee9row4_col8{\n",
       "            background-color:  #31668e;\n",
       "            color:  #f1f1f1;\n",
       "        }#T_83c50dd7_d860_11ec_bbce_f8e4e37aaee9row3_col29,#T_83c50dd7_d860_11ec_bbce_f8e4e37aaee9row7_col24{\n",
       "            background-color:  #26828e;\n",
       "            color:  #000000;\n",
       "        }#T_83c50dd7_d860_11ec_bbce_f8e4e37aaee9row4_col2{\n",
       "            background-color:  #471164;\n",
       "            color:  #f1f1f1;\n",
       "        }#T_83c50dd7_d860_11ec_bbce_f8e4e37aaee9row4_col4,#T_83c50dd7_d860_11ec_bbce_f8e4e37aaee9row7_col28{\n",
       "            background-color:  #35b779;\n",
       "            color:  #000000;\n",
       "        }#T_83c50dd7_d860_11ec_bbce_f8e4e37aaee9row4_col5{\n",
       "            background-color:  #52c569;\n",
       "            color:  #000000;\n",
       "        }#T_83c50dd7_d860_11ec_bbce_f8e4e37aaee9row4_col6{\n",
       "            background-color:  #355e8d;\n",
       "            color:  #f1f1f1;\n",
       "        }#T_83c50dd7_d860_11ec_bbce_f8e4e37aaee9row4_col7,#T_83c50dd7_d860_11ec_bbce_f8e4e37aaee9row6_col27{\n",
       "            background-color:  #39558c;\n",
       "            color:  #f1f1f1;\n",
       "        }#T_83c50dd7_d860_11ec_bbce_f8e4e37aaee9row4_col14{\n",
       "            background-color:  #440256;\n",
       "            color:  #f1f1f1;\n",
       "        }#T_83c50dd7_d860_11ec_bbce_f8e4e37aaee9row4_col16{\n",
       "            background-color:  #3f4889;\n",
       "            color:  #f1f1f1;\n",
       "        }#T_83c50dd7_d860_11ec_bbce_f8e4e37aaee9row4_col17,#T_83c50dd7_d860_11ec_bbce_f8e4e37aaee9row8_col18{\n",
       "            background-color:  #2a788e;\n",
       "            color:  #000000;\n",
       "        }#T_83c50dd7_d860_11ec_bbce_f8e4e37aaee9row4_col19{\n",
       "            background-color:  #24868e;\n",
       "            color:  #000000;\n",
       "        }#T_83c50dd7_d860_11ec_bbce_f8e4e37aaee9row4_col21{\n",
       "            background-color:  #21908d;\n",
       "            color:  #000000;\n",
       "        }#T_83c50dd7_d860_11ec_bbce_f8e4e37aaee9row4_col22{\n",
       "            background-color:  #1f968b;\n",
       "            color:  #000000;\n",
       "        }#T_83c50dd7_d860_11ec_bbce_f8e4e37aaee9row4_col23{\n",
       "            background-color:  #2c738e;\n",
       "            color:  #f1f1f1;\n",
       "        }#T_83c50dd7_d860_11ec_bbce_f8e4e37aaee9row4_col27,#T_83c50dd7_d860_11ec_bbce_f8e4e37aaee9row7_col8{\n",
       "            background-color:  #453781;\n",
       "            color:  #f1f1f1;\n",
       "        }#T_83c50dd7_d860_11ec_bbce_f8e4e37aaee9row4_col28,#T_83c50dd7_d860_11ec_bbce_f8e4e37aaee9row5_col15{\n",
       "            background-color:  #1fa287;\n",
       "            color:  #000000;\n",
       "        }#T_83c50dd7_d860_11ec_bbce_f8e4e37aaee9row4_col29{\n",
       "            background-color:  #33638d;\n",
       "            color:  #f1f1f1;\n",
       "        }#T_83c50dd7_d860_11ec_bbce_f8e4e37aaee9row5_col2{\n",
       "            background-color:  #40bd72;\n",
       "            color:  #000000;\n",
       "        }#T_83c50dd7_d860_11ec_bbce_f8e4e37aaee9row5_col3,#T_83c50dd7_d860_11ec_bbce_f8e4e37aaee9row8_col13,#T_83c50dd7_d860_11ec_bbce_f8e4e37aaee9row8_col17{\n",
       "            background-color:  #2f6b8e;\n",
       "            color:  #f1f1f1;\n",
       "        }#T_83c50dd7_d860_11ec_bbce_f8e4e37aaee9row5_col7{\n",
       "            background-color:  #34608d;\n",
       "            color:  #f1f1f1;\n",
       "        }#T_83c50dd7_d860_11ec_bbce_f8e4e37aaee9row5_col9{\n",
       "            background-color:  #453882;\n",
       "            color:  #f1f1f1;\n",
       "        }#T_83c50dd7_d860_11ec_bbce_f8e4e37aaee9row5_col10,#T_83c50dd7_d860_11ec_bbce_f8e4e37aaee9row5_col19{\n",
       "            background-color:  #46c06f;\n",
       "            color:  #000000;\n",
       "        }#T_83c50dd7_d860_11ec_bbce_f8e4e37aaee9row5_col11{\n",
       "            background-color:  #482878;\n",
       "            color:  #f1f1f1;\n",
       "        }#T_83c50dd7_d860_11ec_bbce_f8e4e37aaee9row5_col12{\n",
       "            background-color:  #81d34d;\n",
       "            color:  #000000;\n",
       "        }#T_83c50dd7_d860_11ec_bbce_f8e4e37aaee9row5_col13{\n",
       "            background-color:  #481a6c;\n",
       "            color:  #f1f1f1;\n",
       "        }#T_83c50dd7_d860_11ec_bbce_f8e4e37aaee9row5_col14{\n",
       "            background-color:  #482374;\n",
       "            color:  #f1f1f1;\n",
       "        }#T_83c50dd7_d860_11ec_bbce_f8e4e37aaee9row5_col16,#T_83c50dd7_d860_11ec_bbce_f8e4e37aaee9row8_col19{\n",
       "            background-color:  #1f9e89;\n",
       "            color:  #000000;\n",
       "        }#T_83c50dd7_d860_11ec_bbce_f8e4e37aaee9row5_col18,#T_83c50dd7_d860_11ec_bbce_f8e4e37aaee9row8_col12{\n",
       "            background-color:  #24878e;\n",
       "            color:  #000000;\n",
       "        }#T_83c50dd7_d860_11ec_bbce_f8e4e37aaee9row5_col22{\n",
       "            background-color:  #482071;\n",
       "            color:  #f1f1f1;\n",
       "        }#T_83c50dd7_d860_11ec_bbce_f8e4e37aaee9row5_col24,#T_83c50dd7_d860_11ec_bbce_f8e4e37aaee9row9_col16{\n",
       "            background-color:  #3a538b;\n",
       "            color:  #f1f1f1;\n",
       "        }#T_83c50dd7_d860_11ec_bbce_f8e4e37aaee9row5_col27,#T_83c50dd7_d860_11ec_bbce_f8e4e37aaee9row9_col20{\n",
       "            background-color:  #23a983;\n",
       "            color:  #000000;\n",
       "        }#T_83c50dd7_d860_11ec_bbce_f8e4e37aaee9row5_col28{\n",
       "            background-color:  #c8e020;\n",
       "            color:  #000000;\n",
       "        }#T_83c50dd7_d860_11ec_bbce_f8e4e37aaee9row6_col2{\n",
       "            background-color:  #287c8e;\n",
       "            color:  #000000;\n",
       "        }#T_83c50dd7_d860_11ec_bbce_f8e4e37aaee9row6_col3{\n",
       "            background-color:  #424186;\n",
       "            color:  #f1f1f1;\n",
       "        }#T_83c50dd7_d860_11ec_bbce_f8e4e37aaee9row6_col5{\n",
       "            background-color:  #29af7f;\n",
       "            color:  #000000;\n",
       "        }#T_83c50dd7_d860_11ec_bbce_f8e4e37aaee9row6_col6{\n",
       "            background-color:  #482677;\n",
       "            color:  #f1f1f1;\n",
       "        }#T_83c50dd7_d860_11ec_bbce_f8e4e37aaee9row6_col9{\n",
       "            background-color:  #31678e;\n",
       "            color:  #f1f1f1;\n",
       "        }#T_83c50dd7_d860_11ec_bbce_f8e4e37aaee9row6_col11{\n",
       "            background-color:  #b0dd2f;\n",
       "            color:  #000000;\n",
       "        }#T_83c50dd7_d860_11ec_bbce_f8e4e37aaee9row6_col12{\n",
       "            background-color:  #443983;\n",
       "            color:  #f1f1f1;\n",
       "        }#T_83c50dd7_d860_11ec_bbce_f8e4e37aaee9row6_col13{\n",
       "            background-color:  #44bf70;\n",
       "            color:  #000000;\n",
       "        }#T_83c50dd7_d860_11ec_bbce_f8e4e37aaee9row6_col15{\n",
       "            background-color:  #c5e021;\n",
       "            color:  #000000;\n",
       "        }#T_83c50dd7_d860_11ec_bbce_f8e4e37aaee9row6_col16{\n",
       "            background-color:  #470e61;\n",
       "            color:  #f1f1f1;\n",
       "        }#T_83c50dd7_d860_11ec_bbce_f8e4e37aaee9row6_col17{\n",
       "            background-color:  #1fa188;\n",
       "            color:  #000000;\n",
       "        }#T_83c50dd7_d860_11ec_bbce_f8e4e37aaee9row6_col19{\n",
       "            background-color:  #218e8d;\n",
       "            color:  #000000;\n",
       "        }#T_83c50dd7_d860_11ec_bbce_f8e4e37aaee9row6_col20{\n",
       "            background-color:  #50c46a;\n",
       "            color:  #000000;\n",
       "        }#T_83c50dd7_d860_11ec_bbce_f8e4e37aaee9row6_col23{\n",
       "            background-color:  #3e4989;\n",
       "            color:  #f1f1f1;\n",
       "        }#T_83c50dd7_d860_11ec_bbce_f8e4e37aaee9row6_col24,#T_83c50dd7_d860_11ec_bbce_f8e4e37aaee9row7_col23{\n",
       "            background-color:  #1f948c;\n",
       "            color:  #000000;\n",
       "        }#T_83c50dd7_d860_11ec_bbce_f8e4e37aaee9row6_col25{\n",
       "            background-color:  #77d153;\n",
       "            color:  #000000;\n",
       "        }#T_83c50dd7_d860_11ec_bbce_f8e4e37aaee9row6_col28{\n",
       "            background-color:  #e5e419;\n",
       "            color:  #000000;\n",
       "        }#T_83c50dd7_d860_11ec_bbce_f8e4e37aaee9row7_col1{\n",
       "            background-color:  #4ec36b;\n",
       "            color:  #000000;\n",
       "        }#T_83c50dd7_d860_11ec_bbce_f8e4e37aaee9row7_col2{\n",
       "            background-color:  #46327e;\n",
       "            color:  #f1f1f1;\n",
       "        }#T_83c50dd7_d860_11ec_bbce_f8e4e37aaee9row7_col4{\n",
       "            background-color:  #1fa187;\n",
       "            color:  #000000;\n",
       "        }#T_83c50dd7_d860_11ec_bbce_f8e4e37aaee9row7_col5{\n",
       "            background-color:  #28ae80;\n",
       "            color:  #000000;\n",
       "        }#T_83c50dd7_d860_11ec_bbce_f8e4e37aaee9row7_col6,#T_83c50dd7_d860_11ec_bbce_f8e4e37aaee9row8_col16{\n",
       "            background-color:  #d8e219;\n",
       "            color:  #000000;\n",
       "        }#T_83c50dd7_d860_11ec_bbce_f8e4e37aaee9row7_col7{\n",
       "            background-color:  #404588;\n",
       "            color:  #f1f1f1;\n",
       "        }#T_83c50dd7_d860_11ec_bbce_f8e4e37aaee9row7_col11,#T_83c50dd7_d860_11ec_bbce_f8e4e37aaee9row7_col26{\n",
       "            background-color:  #23898e;\n",
       "            color:  #000000;\n",
       "        }#T_83c50dd7_d860_11ec_bbce_f8e4e37aaee9row7_col17{\n",
       "            background-color:  #228b8d;\n",
       "            color:  #000000;\n",
       "        }#T_83c50dd7_d860_11ec_bbce_f8e4e37aaee9row7_col18{\n",
       "            background-color:  #25ac82;\n",
       "            color:  #000000;\n",
       "        }#T_83c50dd7_d860_11ec_bbce_f8e4e37aaee9row7_col19{\n",
       "            background-color:  #56c667;\n",
       "            color:  #000000;\n",
       "        }#T_83c50dd7_d860_11ec_bbce_f8e4e37aaee9row7_col25{\n",
       "            background-color:  #f8e621;\n",
       "            color:  #000000;\n",
       "        }#T_83c50dd7_d860_11ec_bbce_f8e4e37aaee9row7_col29{\n",
       "            background-color:  #27808e;\n",
       "            color:  #000000;\n",
       "        }#T_83c50dd7_d860_11ec_bbce_f8e4e37aaee9row8_col1{\n",
       "            background-color:  #2a768e;\n",
       "            color:  #f1f1f1;\n",
       "        }#T_83c50dd7_d860_11ec_bbce_f8e4e37aaee9row8_col3{\n",
       "            background-color:  #8ed645;\n",
       "            color:  #000000;\n",
       "        }#T_83c50dd7_d860_11ec_bbce_f8e4e37aaee9row8_col4{\n",
       "            background-color:  #a2da37;\n",
       "            color:  #000000;\n",
       "        }#T_83c50dd7_d860_11ec_bbce_f8e4e37aaee9row8_col6{\n",
       "            background-color:  #efe51c;\n",
       "            color:  #000000;\n",
       "        }#T_83c50dd7_d860_11ec_bbce_f8e4e37aaee9row8_col7{\n",
       "            background-color:  #69cd5b;\n",
       "            color:  #000000;\n",
       "        }#T_83c50dd7_d860_11ec_bbce_f8e4e37aaee9row8_col14{\n",
       "            background-color:  #472e7c;\n",
       "            color:  #f1f1f1;\n",
       "        }#T_83c50dd7_d860_11ec_bbce_f8e4e37aaee9row8_col22{\n",
       "            background-color:  #25ab82;\n",
       "            color:  #000000;\n",
       "        }#T_83c50dd7_d860_11ec_bbce_f8e4e37aaee9row8_col24{\n",
       "            background-color:  #433d84;\n",
       "            color:  #f1f1f1;\n",
       "        }#T_83c50dd7_d860_11ec_bbce_f8e4e37aaee9row8_col26{\n",
       "            background-color:  #443a83;\n",
       "            color:  #f1f1f1;\n",
       "        }#T_83c50dd7_d860_11ec_bbce_f8e4e37aaee9row8_col27{\n",
       "            background-color:  #3a548c;\n",
       "            color:  #f1f1f1;\n",
       "        }#T_83c50dd7_d860_11ec_bbce_f8e4e37aaee9row8_col28{\n",
       "            background-color:  #e2e418;\n",
       "            color:  #000000;\n",
       "        }#T_83c50dd7_d860_11ec_bbce_f8e4e37aaee9row8_col29{\n",
       "            background-color:  #3dbc74;\n",
       "            color:  #000000;\n",
       "        }#T_83c50dd7_d860_11ec_bbce_f8e4e37aaee9row9_col5{\n",
       "            background-color:  #5ec962;\n",
       "            color:  #000000;\n",
       "        }#T_83c50dd7_d860_11ec_bbce_f8e4e37aaee9row9_col7{\n",
       "            background-color:  #22a785;\n",
       "            color:  #000000;\n",
       "        }#T_83c50dd7_d860_11ec_bbce_f8e4e37aaee9row9_col11{\n",
       "            background-color:  #3fbc73;\n",
       "            color:  #000000;\n",
       "        }#T_83c50dd7_d860_11ec_bbce_f8e4e37aaee9row9_col13{\n",
       "            background-color:  #3e4a89;\n",
       "            color:  #f1f1f1;\n",
       "        }#T_83c50dd7_d860_11ec_bbce_f8e4e37aaee9row9_col19{\n",
       "            background-color:  #54c568;\n",
       "            color:  #000000;\n",
       "        }#T_83c50dd7_d860_11ec_bbce_f8e4e37aaee9row9_col21{\n",
       "            background-color:  #63cb5f;\n",
       "            color:  #000000;\n",
       "        }#T_83c50dd7_d860_11ec_bbce_f8e4e37aaee9row9_col23{\n",
       "            background-color:  #84d44b;\n",
       "            color:  #000000;\n",
       "        }#T_83c50dd7_d860_11ec_bbce_f8e4e37aaee9row9_col24{\n",
       "            background-color:  #ece51b;\n",
       "            color:  #000000;\n",
       "        }#T_83c50dd7_d860_11ec_bbce_f8e4e37aaee9row9_col25{\n",
       "            background-color:  #cae11f;\n",
       "            color:  #000000;\n",
       "        }#T_83c50dd7_d860_11ec_bbce_f8e4e37aaee9row9_col27{\n",
       "            background-color:  #2eb37c;\n",
       "            color:  #000000;\n",
       "        }</style><table id=\"T_83c50dd7_d860_11ec_bbce_f8e4e37aaee9\" ><caption>User retention by cohort</caption><thead>    <tr>        <th class=\"index_name level0\" >period_number</th>        <th class=\"col_heading level0 col0\" >0</th>        <th class=\"col_heading level0 col1\" >1</th>        <th class=\"col_heading level0 col2\" >2</th>        <th class=\"col_heading level0 col3\" >3</th>        <th class=\"col_heading level0 col4\" >4</th>        <th class=\"col_heading level0 col5\" >5</th>        <th class=\"col_heading level0 col6\" >6</th>        <th class=\"col_heading level0 col7\" >7</th>        <th class=\"col_heading level0 col8\" >8</th>        <th class=\"col_heading level0 col9\" >9</th>        <th class=\"col_heading level0 col10\" >10</th>        <th class=\"col_heading level0 col11\" >11</th>        <th class=\"col_heading level0 col12\" >12</th>        <th class=\"col_heading level0 col13\" >13</th>        <th class=\"col_heading level0 col14\" >14</th>        <th class=\"col_heading level0 col15\" >15</th>        <th class=\"col_heading level0 col16\" >16</th>        <th class=\"col_heading level0 col17\" >17</th>        <th class=\"col_heading level0 col18\" >18</th>        <th class=\"col_heading level0 col19\" >19</th>        <th class=\"col_heading level0 col20\" >20</th>        <th class=\"col_heading level0 col21\" >21</th>        <th class=\"col_heading level0 col22\" >22</th>        <th class=\"col_heading level0 col23\" >23</th>        <th class=\"col_heading level0 col24\" >24</th>        <th class=\"col_heading level0 col25\" >25</th>        <th class=\"col_heading level0 col26\" >26</th>        <th class=\"col_heading level0 col27\" >27</th>        <th class=\"col_heading level0 col28\" >28</th>        <th class=\"col_heading level0 col29\" >29</th>    </tr>    <tr>        <th class=\"index_name level0\" >cohort</th>        <th class=\"blank\" ></th>        <th class=\"blank\" ></th>        <th class=\"blank\" ></th>        <th class=\"blank\" ></th>        <th class=\"blank\" ></th>        <th class=\"blank\" ></th>        <th class=\"blank\" ></th>        <th class=\"blank\" ></th>        <th class=\"blank\" ></th>        <th class=\"blank\" ></th>        <th class=\"blank\" ></th>        <th class=\"blank\" ></th>        <th class=\"blank\" ></th>        <th class=\"blank\" ></th>        <th class=\"blank\" ></th>        <th class=\"blank\" ></th>        <th class=\"blank\" ></th>        <th class=\"blank\" ></th>        <th class=\"blank\" ></th>        <th class=\"blank\" ></th>        <th class=\"blank\" ></th>        <th class=\"blank\" ></th>        <th class=\"blank\" ></th>        <th class=\"blank\" ></th>        <th class=\"blank\" ></th>        <th class=\"blank\" ></th>        <th class=\"blank\" ></th>        <th class=\"blank\" ></th>        <th class=\"blank\" ></th>        <th class=\"blank\" ></th>    </tr></thead><tbody>\n",
       "                <tr>\n",
       "                        <th id=\"T_83c50dd7_d860_11ec_bbce_f8e4e37aaee9level0_row0\" class=\"row_heading level0 row0\" >2019-09-24</th>\n",
       "                        <td id=\"T_83c50dd7_d860_11ec_bbce_f8e4e37aaee9row0_col0\" class=\"data row0 col0\" >100.00%</td>\n",
       "                        <td id=\"T_83c50dd7_d860_11ec_bbce_f8e4e37aaee9row0_col1\" class=\"data row0 col1\" >1.77%</td>\n",
       "                        <td id=\"T_83c50dd7_d860_11ec_bbce_f8e4e37aaee9row0_col2\" class=\"data row0 col2\" >3.33%</td>\n",
       "                        <td id=\"T_83c50dd7_d860_11ec_bbce_f8e4e37aaee9row0_col3\" class=\"data row0 col3\" >4.21%</td>\n",
       "                        <td id=\"T_83c50dd7_d860_11ec_bbce_f8e4e37aaee9row0_col4\" class=\"data row0 col4\" >3.33%</td>\n",
       "                        <td id=\"T_83c50dd7_d860_11ec_bbce_f8e4e37aaee9row0_col5\" class=\"data row0 col5\" >4.55%</td>\n",
       "                        <td id=\"T_83c50dd7_d860_11ec_bbce_f8e4e37aaee9row0_col6\" class=\"data row0 col6\" >5.88%</td>\n",
       "                        <td id=\"T_83c50dd7_d860_11ec_bbce_f8e4e37aaee9row0_col7\" class=\"data row0 col7\" >5.43%</td>\n",
       "                        <td id=\"T_83c50dd7_d860_11ec_bbce_f8e4e37aaee9row0_col8\" class=\"data row0 col8\" >3.88%</td>\n",
       "                        <td id=\"T_83c50dd7_d860_11ec_bbce_f8e4e37aaee9row0_col9\" class=\"data row0 col9\" >3.66%</td>\n",
       "                        <td id=\"T_83c50dd7_d860_11ec_bbce_f8e4e37aaee9row0_col10\" class=\"data row0 col10\" >4.66%</td>\n",
       "                        <td id=\"T_83c50dd7_d860_11ec_bbce_f8e4e37aaee9row0_col11\" class=\"data row0 col11\" >4.55%</td>\n",
       "                        <td id=\"T_83c50dd7_d860_11ec_bbce_f8e4e37aaee9row0_col12\" class=\"data row0 col12\" >3.66%</td>\n",
       "                        <td id=\"T_83c50dd7_d860_11ec_bbce_f8e4e37aaee9row0_col13\" class=\"data row0 col13\" >4.10%</td>\n",
       "                        <td id=\"T_83c50dd7_d860_11ec_bbce_f8e4e37aaee9row0_col14\" class=\"data row0 col14\" >4.32%</td>\n",
       "                        <td id=\"T_83c50dd7_d860_11ec_bbce_f8e4e37aaee9row0_col15\" class=\"data row0 col15\" >3.44%</td>\n",
       "                        <td id=\"T_83c50dd7_d860_11ec_bbce_f8e4e37aaee9row0_col16\" class=\"data row0 col16\" >3.55%</td>\n",
       "                        <td id=\"T_83c50dd7_d860_11ec_bbce_f8e4e37aaee9row0_col17\" class=\"data row0 col17\" >3.33%</td>\n",
       "                        <td id=\"T_83c50dd7_d860_11ec_bbce_f8e4e37aaee9row0_col18\" class=\"data row0 col18\" >3.33%</td>\n",
       "                        <td id=\"T_83c50dd7_d860_11ec_bbce_f8e4e37aaee9row0_col19\" class=\"data row0 col19\" >2.11%</td>\n",
       "                        <td id=\"T_83c50dd7_d860_11ec_bbce_f8e4e37aaee9row0_col20\" class=\"data row0 col20\" >3.55%</td>\n",
       "                        <td id=\"T_83c50dd7_d860_11ec_bbce_f8e4e37aaee9row0_col21\" class=\"data row0 col21\" >2.99%</td>\n",
       "                        <td id=\"T_83c50dd7_d860_11ec_bbce_f8e4e37aaee9row0_col22\" class=\"data row0 col22\" >2.66%</td>\n",
       "                        <td id=\"T_83c50dd7_d860_11ec_bbce_f8e4e37aaee9row0_col23\" class=\"data row0 col23\" >3.77%</td>\n",
       "                        <td id=\"T_83c50dd7_d860_11ec_bbce_f8e4e37aaee9row0_col24\" class=\"data row0 col24\" >2.55%</td>\n",
       "                        <td id=\"T_83c50dd7_d860_11ec_bbce_f8e4e37aaee9row0_col25\" class=\"data row0 col25\" >2.55%</td>\n",
       "                        <td id=\"T_83c50dd7_d860_11ec_bbce_f8e4e37aaee9row0_col26\" class=\"data row0 col26\" >2.55%</td>\n",
       "                        <td id=\"T_83c50dd7_d860_11ec_bbce_f8e4e37aaee9row0_col27\" class=\"data row0 col27\" >2.33%</td>\n",
       "                        <td id=\"T_83c50dd7_d860_11ec_bbce_f8e4e37aaee9row0_col28\" class=\"data row0 col28\" >1.77%</td>\n",
       "                        <td id=\"T_83c50dd7_d860_11ec_bbce_f8e4e37aaee9row0_col29\" class=\"data row0 col29\" >2.55%</td>\n",
       "            </tr>\n",
       "            <tr>\n",
       "                        <th id=\"T_83c50dd7_d860_11ec_bbce_f8e4e37aaee9level0_row1\" class=\"row_heading level0 row1\" >2019-09-25</th>\n",
       "                        <td id=\"T_83c50dd7_d860_11ec_bbce_f8e4e37aaee9row1_col0\" class=\"data row1 col0\" >100.00%</td>\n",
       "                        <td id=\"T_83c50dd7_d860_11ec_bbce_f8e4e37aaee9row1_col1\" class=\"data row1 col1\" >2.77%</td>\n",
       "                        <td id=\"T_83c50dd7_d860_11ec_bbce_f8e4e37aaee9row1_col2\" class=\"data row1 col2\" >4.42%</td>\n",
       "                        <td id=\"T_83c50dd7_d860_11ec_bbce_f8e4e37aaee9row1_col3\" class=\"data row1 col3\" >4.42%</td>\n",
       "                        <td id=\"T_83c50dd7_d860_11ec_bbce_f8e4e37aaee9row1_col4\" class=\"data row1 col4\" >5.75%</td>\n",
       "                        <td id=\"T_83c50dd7_d860_11ec_bbce_f8e4e37aaee9row1_col5\" class=\"data row1 col5\" >7.08%</td>\n",
       "                        <td id=\"T_83c50dd7_d860_11ec_bbce_f8e4e37aaee9row1_col6\" class=\"data row1 col6\" >6.97%</td>\n",
       "                        <td id=\"T_83c50dd7_d860_11ec_bbce_f8e4e37aaee9row1_col7\" class=\"data row1 col7\" >6.19%</td>\n",
       "                        <td id=\"T_83c50dd7_d860_11ec_bbce_f8e4e37aaee9row1_col8\" class=\"data row1 col8\" >5.53%</td>\n",
       "                        <td id=\"T_83c50dd7_d860_11ec_bbce_f8e4e37aaee9row1_col9\" class=\"data row1 col9\" >4.87%</td>\n",
       "                        <td id=\"T_83c50dd7_d860_11ec_bbce_f8e4e37aaee9row1_col10\" class=\"data row1 col10\" >5.09%</td>\n",
       "                        <td id=\"T_83c50dd7_d860_11ec_bbce_f8e4e37aaee9row1_col11\" class=\"data row1 col11\" >5.86%</td>\n",
       "                        <td id=\"T_83c50dd7_d860_11ec_bbce_f8e4e37aaee9row1_col12\" class=\"data row1 col12\" >4.65%</td>\n",
       "                        <td id=\"T_83c50dd7_d860_11ec_bbce_f8e4e37aaee9row1_col13\" class=\"data row1 col13\" >5.31%</td>\n",
       "                        <td id=\"T_83c50dd7_d860_11ec_bbce_f8e4e37aaee9row1_col14\" class=\"data row1 col14\" >4.20%</td>\n",
       "                        <td id=\"T_83c50dd7_d860_11ec_bbce_f8e4e37aaee9row1_col15\" class=\"data row1 col15\" >5.42%</td>\n",
       "                        <td id=\"T_83c50dd7_d860_11ec_bbce_f8e4e37aaee9row1_col16\" class=\"data row1 col16\" >4.54%</td>\n",
       "                        <td id=\"T_83c50dd7_d860_11ec_bbce_f8e4e37aaee9row1_col17\" class=\"data row1 col17\" >3.98%</td>\n",
       "                        <td id=\"T_83c50dd7_d860_11ec_bbce_f8e4e37aaee9row1_col18\" class=\"data row1 col18\" >4.54%</td>\n",
       "                        <td id=\"T_83c50dd7_d860_11ec_bbce_f8e4e37aaee9row1_col19\" class=\"data row1 col19\" >5.20%</td>\n",
       "                        <td id=\"T_83c50dd7_d860_11ec_bbce_f8e4e37aaee9row1_col20\" class=\"data row1 col20\" >3.21%</td>\n",
       "                        <td id=\"T_83c50dd7_d860_11ec_bbce_f8e4e37aaee9row1_col21\" class=\"data row1 col21\" >3.76%</td>\n",
       "                        <td id=\"T_83c50dd7_d860_11ec_bbce_f8e4e37aaee9row1_col22\" class=\"data row1 col22\" >3.65%</td>\n",
       "                        <td id=\"T_83c50dd7_d860_11ec_bbce_f8e4e37aaee9row1_col23\" class=\"data row1 col23\" >3.54%</td>\n",
       "                        <td id=\"T_83c50dd7_d860_11ec_bbce_f8e4e37aaee9row1_col24\" class=\"data row1 col24\" >4.20%</td>\n",
       "                        <td id=\"T_83c50dd7_d860_11ec_bbce_f8e4e37aaee9row1_col25\" class=\"data row1 col25\" >3.21%</td>\n",
       "                        <td id=\"T_83c50dd7_d860_11ec_bbce_f8e4e37aaee9row1_col26\" class=\"data row1 col26\" >2.99%</td>\n",
       "                        <td id=\"T_83c50dd7_d860_11ec_bbce_f8e4e37aaee9row1_col27\" class=\"data row1 col27\" >4.09%</td>\n",
       "                        <td id=\"T_83c50dd7_d860_11ec_bbce_f8e4e37aaee9row1_col28\" class=\"data row1 col28\" >2.88%</td>\n",
       "                        <td id=\"T_83c50dd7_d860_11ec_bbce_f8e4e37aaee9row1_col29\" class=\"data row1 col29\" >2.88%</td>\n",
       "            </tr>\n",
       "            <tr>\n",
       "                        <th id=\"T_83c50dd7_d860_11ec_bbce_f8e4e37aaee9level0_row2\" class=\"row_heading level0 row2\" >2019-09-26</th>\n",
       "                        <td id=\"T_83c50dd7_d860_11ec_bbce_f8e4e37aaee9row2_col0\" class=\"data row2 col0\" >100.00%</td>\n",
       "                        <td id=\"T_83c50dd7_d860_11ec_bbce_f8e4e37aaee9row2_col1\" class=\"data row2 col1\" >3.09%</td>\n",
       "                        <td id=\"T_83c50dd7_d860_11ec_bbce_f8e4e37aaee9row2_col2\" class=\"data row2 col2\" >3.76%</td>\n",
       "                        <td id=\"T_83c50dd7_d860_11ec_bbce_f8e4e37aaee9row2_col3\" class=\"data row2 col3\" >4.86%</td>\n",
       "                        <td id=\"T_83c50dd7_d860_11ec_bbce_f8e4e37aaee9row2_col4\" class=\"data row2 col4\" >5.75%</td>\n",
       "                        <td id=\"T_83c50dd7_d860_11ec_bbce_f8e4e37aaee9row2_col5\" class=\"data row2 col5\" >6.85%</td>\n",
       "                        <td id=\"T_83c50dd7_d860_11ec_bbce_f8e4e37aaee9row2_col6\" class=\"data row2 col6\" >8.29%</td>\n",
       "                        <td id=\"T_83c50dd7_d860_11ec_bbce_f8e4e37aaee9row2_col7\" class=\"data row2 col7\" >6.74%</td>\n",
       "                        <td id=\"T_83c50dd7_d860_11ec_bbce_f8e4e37aaee9row2_col8\" class=\"data row2 col8\" >5.19%</td>\n",
       "                        <td id=\"T_83c50dd7_d860_11ec_bbce_f8e4e37aaee9row2_col9\" class=\"data row2 col9\" >4.31%</td>\n",
       "                        <td id=\"T_83c50dd7_d860_11ec_bbce_f8e4e37aaee9row2_col10\" class=\"data row2 col10\" >6.30%</td>\n",
       "                        <td id=\"T_83c50dd7_d860_11ec_bbce_f8e4e37aaee9row2_col11\" class=\"data row2 col11\" >5.41%</td>\n",
       "                        <td id=\"T_83c50dd7_d860_11ec_bbce_f8e4e37aaee9row2_col12\" class=\"data row2 col12\" >5.52%</td>\n",
       "                        <td id=\"T_83c50dd7_d860_11ec_bbce_f8e4e37aaee9row2_col13\" class=\"data row2 col13\" >4.31%</td>\n",
       "                        <td id=\"T_83c50dd7_d860_11ec_bbce_f8e4e37aaee9row2_col14\" class=\"data row2 col14\" >4.86%</td>\n",
       "                        <td id=\"T_83c50dd7_d860_11ec_bbce_f8e4e37aaee9row2_col15\" class=\"data row2 col15\" >4.86%</td>\n",
       "                        <td id=\"T_83c50dd7_d860_11ec_bbce_f8e4e37aaee9row2_col16\" class=\"data row2 col16\" >4.97%</td>\n",
       "                        <td id=\"T_83c50dd7_d860_11ec_bbce_f8e4e37aaee9row2_col17\" class=\"data row2 col17\" >5.30%</td>\n",
       "                        <td id=\"T_83c50dd7_d860_11ec_bbce_f8e4e37aaee9row2_col18\" class=\"data row2 col18\" >4.20%</td>\n",
       "                        <td id=\"T_83c50dd7_d860_11ec_bbce_f8e4e37aaee9row2_col19\" class=\"data row2 col19\" >5.08%</td>\n",
       "                        <td id=\"T_83c50dd7_d860_11ec_bbce_f8e4e37aaee9row2_col20\" class=\"data row2 col20\" >4.09%</td>\n",
       "                        <td id=\"T_83c50dd7_d860_11ec_bbce_f8e4e37aaee9row2_col21\" class=\"data row2 col21\" >4.53%</td>\n",
       "                        <td id=\"T_83c50dd7_d860_11ec_bbce_f8e4e37aaee9row2_col22\" class=\"data row2 col22\" >3.65%</td>\n",
       "                        <td id=\"T_83c50dd7_d860_11ec_bbce_f8e4e37aaee9row2_col23\" class=\"data row2 col23\" >4.53%</td>\n",
       "                        <td id=\"T_83c50dd7_d860_11ec_bbce_f8e4e37aaee9row2_col24\" class=\"data row2 col24\" >3.20%</td>\n",
       "                        <td id=\"T_83c50dd7_d860_11ec_bbce_f8e4e37aaee9row2_col25\" class=\"data row2 col25\" >3.20%</td>\n",
       "                        <td id=\"T_83c50dd7_d860_11ec_bbce_f8e4e37aaee9row2_col26\" class=\"data row2 col26\" >3.98%</td>\n",
       "                        <td id=\"T_83c50dd7_d860_11ec_bbce_f8e4e37aaee9row2_col27\" class=\"data row2 col27\" >4.31%</td>\n",
       "                        <td id=\"T_83c50dd7_d860_11ec_bbce_f8e4e37aaee9row2_col28\" class=\"data row2 col28\" >2.76%</td>\n",
       "                        <td id=\"T_83c50dd7_d860_11ec_bbce_f8e4e37aaee9row2_col29\" class=\"data row2 col29\" >2.21%</td>\n",
       "            </tr>\n",
       "            <tr>\n",
       "                        <th id=\"T_83c50dd7_d860_11ec_bbce_f8e4e37aaee9level0_row3\" class=\"row_heading level0 row3\" >2019-09-27</th>\n",
       "                        <td id=\"T_83c50dd7_d860_11ec_bbce_f8e4e37aaee9row3_col0\" class=\"data row3 col0\" >100.00%</td>\n",
       "                        <td id=\"T_83c50dd7_d860_11ec_bbce_f8e4e37aaee9row3_col1\" class=\"data row3 col1\" >1.65%</td>\n",
       "                        <td id=\"T_83c50dd7_d860_11ec_bbce_f8e4e37aaee9row3_col2\" class=\"data row3 col2\" >3.53%</td>\n",
       "                        <td id=\"T_83c50dd7_d860_11ec_bbce_f8e4e37aaee9row3_col3\" class=\"data row3 col3\" >5.73%</td>\n",
       "                        <td id=\"T_83c50dd7_d860_11ec_bbce_f8e4e37aaee9row3_col4\" class=\"data row3 col4\" >5.18%</td>\n",
       "                        <td id=\"T_83c50dd7_d860_11ec_bbce_f8e4e37aaee9row3_col5\" class=\"data row3 col5\" >6.62%</td>\n",
       "                        <td id=\"T_83c50dd7_d860_11ec_bbce_f8e4e37aaee9row3_col6\" class=\"data row3 col6\" >6.95%</td>\n",
       "                        <td id=\"T_83c50dd7_d860_11ec_bbce_f8e4e37aaee9row3_col7\" class=\"data row3 col7\" >4.96%</td>\n",
       "                        <td id=\"T_83c50dd7_d860_11ec_bbce_f8e4e37aaee9row3_col8\" class=\"data row3 col8\" >5.51%</td>\n",
       "                        <td id=\"T_83c50dd7_d860_11ec_bbce_f8e4e37aaee9row3_col9\" class=\"data row3 col9\" >4.85%</td>\n",
       "                        <td id=\"T_83c50dd7_d860_11ec_bbce_f8e4e37aaee9row3_col10\" class=\"data row3 col10\" >4.52%</td>\n",
       "                        <td id=\"T_83c50dd7_d860_11ec_bbce_f8e4e37aaee9row3_col11\" class=\"data row3 col11\" >6.50%</td>\n",
       "                        <td id=\"T_83c50dd7_d860_11ec_bbce_f8e4e37aaee9row3_col12\" class=\"data row3 col12\" >3.42%</td>\n",
       "                        <td id=\"T_83c50dd7_d860_11ec_bbce_f8e4e37aaee9row3_col13\" class=\"data row3 col13\" >5.73%</td>\n",
       "                        <td id=\"T_83c50dd7_d860_11ec_bbce_f8e4e37aaee9row3_col14\" class=\"data row3 col14\" >5.07%</td>\n",
       "                        <td id=\"T_83c50dd7_d860_11ec_bbce_f8e4e37aaee9row3_col15\" class=\"data row3 col15\" >4.74%</td>\n",
       "                        <td id=\"T_83c50dd7_d860_11ec_bbce_f8e4e37aaee9row3_col16\" class=\"data row3 col16\" >4.19%</td>\n",
       "                        <td id=\"T_83c50dd7_d860_11ec_bbce_f8e4e37aaee9row3_col17\" class=\"data row3 col17\" >3.97%</td>\n",
       "                        <td id=\"T_83c50dd7_d860_11ec_bbce_f8e4e37aaee9row3_col18\" class=\"data row3 col18\" >5.40%</td>\n",
       "                        <td id=\"T_83c50dd7_d860_11ec_bbce_f8e4e37aaee9row3_col19\" class=\"data row3 col19\" >4.41%</td>\n",
       "                        <td id=\"T_83c50dd7_d860_11ec_bbce_f8e4e37aaee9row3_col20\" class=\"data row3 col20\" >3.75%</td>\n",
       "                        <td id=\"T_83c50dd7_d860_11ec_bbce_f8e4e37aaee9row3_col21\" class=\"data row3 col21\" >4.30%</td>\n",
       "                        <td id=\"T_83c50dd7_d860_11ec_bbce_f8e4e37aaee9row3_col22\" class=\"data row3 col22\" >3.86%</td>\n",
       "                        <td id=\"T_83c50dd7_d860_11ec_bbce_f8e4e37aaee9row3_col23\" class=\"data row3 col23\" >4.30%</td>\n",
       "                        <td id=\"T_83c50dd7_d860_11ec_bbce_f8e4e37aaee9row3_col24\" class=\"data row3 col24\" >3.53%</td>\n",
       "                        <td id=\"T_83c50dd7_d860_11ec_bbce_f8e4e37aaee9row3_col25\" class=\"data row3 col25\" >3.20%</td>\n",
       "                        <td id=\"T_83c50dd7_d860_11ec_bbce_f8e4e37aaee9row3_col26\" class=\"data row3 col26\" >3.42%</td>\n",
       "                        <td id=\"T_83c50dd7_d860_11ec_bbce_f8e4e37aaee9row3_col27\" class=\"data row3 col27\" >2.98%</td>\n",
       "                        <td id=\"T_83c50dd7_d860_11ec_bbce_f8e4e37aaee9row3_col28\" class=\"data row3 col28\" >2.54%</td>\n",
       "                        <td id=\"T_83c50dd7_d860_11ec_bbce_f8e4e37aaee9row3_col29\" class=\"data row3 col29\" >2.98%</td>\n",
       "            </tr>\n",
       "            <tr>\n",
       "                        <th id=\"T_83c50dd7_d860_11ec_bbce_f8e4e37aaee9level0_row4\" class=\"row_heading level0 row4\" >2019-09-28</th>\n",
       "                        <td id=\"T_83c50dd7_d860_11ec_bbce_f8e4e37aaee9row4_col0\" class=\"data row4 col0\" >100.00%</td>\n",
       "                        <td id=\"T_83c50dd7_d860_11ec_bbce_f8e4e37aaee9row4_col1\" class=\"data row4 col1\" >1.65%</td>\n",
       "                        <td id=\"T_83c50dd7_d860_11ec_bbce_f8e4e37aaee9row4_col2\" class=\"data row4 col2\" >3.41%</td>\n",
       "                        <td id=\"T_83c50dd7_d860_11ec_bbce_f8e4e37aaee9row4_col3\" class=\"data row4 col3\" >3.52%</td>\n",
       "                        <td id=\"T_83c50dd7_d860_11ec_bbce_f8e4e37aaee9row4_col4\" class=\"data row4 col4\" >5.07%</td>\n",
       "                        <td id=\"T_83c50dd7_d860_11ec_bbce_f8e4e37aaee9row4_col5\" class=\"data row4 col5\" >6.39%</td>\n",
       "                        <td id=\"T_83c50dd7_d860_11ec_bbce_f8e4e37aaee9row4_col6\" class=\"data row4 col6\" >6.17%</td>\n",
       "                        <td id=\"T_83c50dd7_d860_11ec_bbce_f8e4e37aaee9row4_col7\" class=\"data row4 col7\" >5.62%</td>\n",
       "                        <td id=\"T_83c50dd7_d860_11ec_bbce_f8e4e37aaee9row4_col8\" class=\"data row4 col8\" >4.30%</td>\n",
       "                        <td id=\"T_83c50dd7_d860_11ec_bbce_f8e4e37aaee9row4_col9\" class=\"data row4 col9\" >4.30%</td>\n",
       "                        <td id=\"T_83c50dd7_d860_11ec_bbce_f8e4e37aaee9row4_col10\" class=\"data row4 col10\" >4.74%</td>\n",
       "                        <td id=\"T_83c50dd7_d860_11ec_bbce_f8e4e37aaee9row4_col11\" class=\"data row4 col11\" >3.52%</td>\n",
       "                        <td id=\"T_83c50dd7_d860_11ec_bbce_f8e4e37aaee9row4_col12\" class=\"data row4 col12\" >5.18%</td>\n",
       "                        <td id=\"T_83c50dd7_d860_11ec_bbce_f8e4e37aaee9row4_col13\" class=\"data row4 col13\" >5.95%</td>\n",
       "                        <td id=\"T_83c50dd7_d860_11ec_bbce_f8e4e37aaee9row4_col14\" class=\"data row4 col14\" >3.74%</td>\n",
       "                        <td id=\"T_83c50dd7_d860_11ec_bbce_f8e4e37aaee9row4_col15\" class=\"data row4 col15\" >3.96%</td>\n",
       "                        <td id=\"T_83c50dd7_d860_11ec_bbce_f8e4e37aaee9row4_col16\" class=\"data row4 col16\" >3.96%</td>\n",
       "                        <td id=\"T_83c50dd7_d860_11ec_bbce_f8e4e37aaee9row4_col17\" class=\"data row4 col17\" >4.19%</td>\n",
       "                        <td id=\"T_83c50dd7_d860_11ec_bbce_f8e4e37aaee9row4_col18\" class=\"data row4 col18\" >3.74%</td>\n",
       "                        <td id=\"T_83c50dd7_d860_11ec_bbce_f8e4e37aaee9row4_col19\" class=\"data row4 col19\" >3.52%</td>\n",
       "                        <td id=\"T_83c50dd7_d860_11ec_bbce_f8e4e37aaee9row4_col20\" class=\"data row4 col20\" >3.85%</td>\n",
       "                        <td id=\"T_83c50dd7_d860_11ec_bbce_f8e4e37aaee9row4_col21\" class=\"data row4 col21\" >3.52%</td>\n",
       "                        <td id=\"T_83c50dd7_d860_11ec_bbce_f8e4e37aaee9row4_col22\" class=\"data row4 col22\" >3.85%</td>\n",
       "                        <td id=\"T_83c50dd7_d860_11ec_bbce_f8e4e37aaee9row4_col23\" class=\"data row4 col23\" >3.63%</td>\n",
       "                        <td id=\"T_83c50dd7_d860_11ec_bbce_f8e4e37aaee9row4_col24\" class=\"data row4 col24\" >3.19%</td>\n",
       "                        <td id=\"T_83c50dd7_d860_11ec_bbce_f8e4e37aaee9row4_col25\" class=\"data row4 col25\" >2.64%</td>\n",
       "                        <td id=\"T_83c50dd7_d860_11ec_bbce_f8e4e37aaee9row4_col26\" class=\"data row4 col26\" >3.74%</td>\n",
       "                        <td id=\"T_83c50dd7_d860_11ec_bbce_f8e4e37aaee9row4_col27\" class=\"data row4 col27\" >2.64%</td>\n",
       "                        <td id=\"T_83c50dd7_d860_11ec_bbce_f8e4e37aaee9row4_col28\" class=\"data row4 col28\" >3.08%</td>\n",
       "                        <td id=\"T_83c50dd7_d860_11ec_bbce_f8e4e37aaee9row4_col29\" class=\"data row4 col29\" >2.75%</td>\n",
       "            </tr>\n",
       "            <tr>\n",
       "                        <th id=\"T_83c50dd7_d860_11ec_bbce_f8e4e37aaee9level0_row5\" class=\"row_heading level0 row5\" >2019-09-29</th>\n",
       "                        <td id=\"T_83c50dd7_d860_11ec_bbce_f8e4e37aaee9row5_col0\" class=\"data row5 col0\" >100.00%</td>\n",
       "                        <td id=\"T_83c50dd7_d860_11ec_bbce_f8e4e37aaee9row5_col1\" class=\"data row5 col1\" >1.65%</td>\n",
       "                        <td id=\"T_83c50dd7_d860_11ec_bbce_f8e4e37aaee9row5_col2\" class=\"data row5 col2\" >4.73%</td>\n",
       "                        <td id=\"T_83c50dd7_d860_11ec_bbce_f8e4e37aaee9row5_col3\" class=\"data row5 col3\" >4.29%</td>\n",
       "                        <td id=\"T_83c50dd7_d860_11ec_bbce_f8e4e37aaee9row5_col4\" class=\"data row5 col4\" >5.94%</td>\n",
       "                        <td id=\"T_83c50dd7_d860_11ec_bbce_f8e4e37aaee9row5_col5\" class=\"data row5 col5\" >5.50%</td>\n",
       "                        <td id=\"T_83c50dd7_d860_11ec_bbce_f8e4e37aaee9row5_col6\" class=\"data row5 col6\" >5.28%</td>\n",
       "                        <td id=\"T_83c50dd7_d860_11ec_bbce_f8e4e37aaee9row5_col7\" class=\"data row5 col7\" >5.72%</td>\n",
       "                        <td id=\"T_83c50dd7_d860_11ec_bbce_f8e4e37aaee9row5_col8\" class=\"data row5 col8\" >5.17%</td>\n",
       "                        <td id=\"T_83c50dd7_d860_11ec_bbce_f8e4e37aaee9row5_col9\" class=\"data row5 col9\" >4.18%</td>\n",
       "                        <td id=\"T_83c50dd7_d860_11ec_bbce_f8e4e37aaee9row5_col10\" class=\"data row5 col10\" >5.50%</td>\n",
       "                        <td id=\"T_83c50dd7_d860_11ec_bbce_f8e4e37aaee9row5_col11\" class=\"data row5 col11\" >3.85%</td>\n",
       "                        <td id=\"T_83c50dd7_d860_11ec_bbce_f8e4e37aaee9row5_col12\" class=\"data row5 col12\" >6.05%</td>\n",
       "                        <td id=\"T_83c50dd7_d860_11ec_bbce_f8e4e37aaee9row5_col13\" class=\"data row5 col13\" >4.18%</td>\n",
       "                        <td id=\"T_83c50dd7_d860_11ec_bbce_f8e4e37aaee9row5_col14\" class=\"data row5 col14\" >3.96%</td>\n",
       "                        <td id=\"T_83c50dd7_d860_11ec_bbce_f8e4e37aaee9row5_col15\" class=\"data row5 col15\" >4.73%</td>\n",
       "                        <td id=\"T_83c50dd7_d860_11ec_bbce_f8e4e37aaee9row5_col16\" class=\"data row5 col16\" >4.62%</td>\n",
       "                        <td id=\"T_83c50dd7_d860_11ec_bbce_f8e4e37aaee9row5_col17\" class=\"data row5 col17\" >3.19%</td>\n",
       "                        <td id=\"T_83c50dd7_d860_11ec_bbce_f8e4e37aaee9row5_col18\" class=\"data row5 col18\" >4.29%</td>\n",
       "                        <td id=\"T_83c50dd7_d860_11ec_bbce_f8e4e37aaee9row5_col19\" class=\"data row5 col19\" >4.29%</td>\n",
       "                        <td id=\"T_83c50dd7_d860_11ec_bbce_f8e4e37aaee9row5_col20\" class=\"data row5 col20\" >4.51%</td>\n",
       "                        <td id=\"T_83c50dd7_d860_11ec_bbce_f8e4e37aaee9row5_col21\" class=\"data row5 col21\" >3.85%</td>\n",
       "                        <td id=\"T_83c50dd7_d860_11ec_bbce_f8e4e37aaee9row5_col22\" class=\"data row5 col22\" >2.86%</td>\n",
       "                        <td id=\"T_83c50dd7_d860_11ec_bbce_f8e4e37aaee9row5_col23\" class=\"data row5 col23\" >3.08%</td>\n",
       "                        <td id=\"T_83c50dd7_d860_11ec_bbce_f8e4e37aaee9row5_col24\" class=\"data row5 col24\" >2.97%</td>\n",
       "                        <td id=\"T_83c50dd7_d860_11ec_bbce_f8e4e37aaee9row5_col25\" class=\"data row5 col25\" >3.74%</td>\n",
       "                        <td id=\"T_83c50dd7_d860_11ec_bbce_f8e4e37aaee9row5_col26\" class=\"data row5 col26\" >2.53%</td>\n",
       "                        <td id=\"T_83c50dd7_d860_11ec_bbce_f8e4e37aaee9row5_col27\" class=\"data row5 col27\" >3.52%</td>\n",
       "                        <td id=\"T_83c50dd7_d860_11ec_bbce_f8e4e37aaee9row5_col28\" class=\"data row5 col28\" >3.85%</td>\n",
       "                        <td id=\"T_83c50dd7_d860_11ec_bbce_f8e4e37aaee9row5_col29\" class=\"data row5 col29\" >2.86%</td>\n",
       "            </tr>\n",
       "            <tr>\n",
       "                        <th id=\"T_83c50dd7_d860_11ec_bbce_f8e4e37aaee9level0_row6\" class=\"row_heading level0 row6\" >2019-09-30</th>\n",
       "                        <td id=\"T_83c50dd7_d860_11ec_bbce_f8e4e37aaee9row6_col0\" class=\"data row6 col0\" >100.00%</td>\n",
       "                        <td id=\"T_83c50dd7_d860_11ec_bbce_f8e4e37aaee9row6_col1\" class=\"data row6 col1\" >2.09%</td>\n",
       "                        <td id=\"T_83c50dd7_d860_11ec_bbce_f8e4e37aaee9row6_col2\" class=\"data row6 col2\" >4.17%</td>\n",
       "                        <td id=\"T_83c50dd7_d860_11ec_bbce_f8e4e37aaee9row6_col3\" class=\"data row6 col3\" >3.95%</td>\n",
       "                        <td id=\"T_83c50dd7_d860_11ec_bbce_f8e4e37aaee9row6_col4\" class=\"data row6 col4\" >5.27%</td>\n",
       "                        <td id=\"T_83c50dd7_d860_11ec_bbce_f8e4e37aaee9row6_col5\" class=\"data row6 col5\" >6.15%</td>\n",
       "                        <td id=\"T_83c50dd7_d860_11ec_bbce_f8e4e37aaee9row6_col6\" class=\"data row6 col6\" >5.60%</td>\n",
       "                        <td id=\"T_83c50dd7_d860_11ec_bbce_f8e4e37aaee9row6_col7\" class=\"data row6 col7\" >7.46%</td>\n",
       "                        <td id=\"T_83c50dd7_d860_11ec_bbce_f8e4e37aaee9row6_col8\" class=\"data row6 col8\" >3.40%</td>\n",
       "                        <td id=\"T_83c50dd7_d860_11ec_bbce_f8e4e37aaee9row6_col9\" class=\"data row6 col9\" >4.72%</td>\n",
       "                        <td id=\"T_83c50dd7_d860_11ec_bbce_f8e4e37aaee9row6_col10\" class=\"data row6 col10\" >4.28%</td>\n",
       "                        <td id=\"T_83c50dd7_d860_11ec_bbce_f8e4e37aaee9row6_col11\" class=\"data row6 col11\" >6.15%</td>\n",
       "                        <td id=\"T_83c50dd7_d860_11ec_bbce_f8e4e37aaee9row6_col12\" class=\"data row6 col12\" >3.95%</td>\n",
       "                        <td id=\"T_83c50dd7_d860_11ec_bbce_f8e4e37aaee9row6_col13\" class=\"data row6 col13\" >5.38%</td>\n",
       "                        <td id=\"T_83c50dd7_d860_11ec_bbce_f8e4e37aaee9row6_col14\" class=\"data row6 col14\" >3.73%</td>\n",
       "                        <td id=\"T_83c50dd7_d860_11ec_bbce_f8e4e37aaee9row6_col15\" class=\"data row6 col15\" >5.49%</td>\n",
       "                        <td id=\"T_83c50dd7_d860_11ec_bbce_f8e4e37aaee9row6_col16\" class=\"data row6 col16\" >3.62%</td>\n",
       "                        <td id=\"T_83c50dd7_d860_11ec_bbce_f8e4e37aaee9row6_col17\" class=\"data row6 col17\" >4.61%</td>\n",
       "                        <td id=\"T_83c50dd7_d860_11ec_bbce_f8e4e37aaee9row6_col18\" class=\"data row6 col18\" >4.61%</td>\n",
       "                        <td id=\"T_83c50dd7_d860_11ec_bbce_f8e4e37aaee9row6_col19\" class=\"data row6 col19\" >3.62%</td>\n",
       "                        <td id=\"T_83c50dd7_d860_11ec_bbce_f8e4e37aaee9row6_col20\" class=\"data row6 col20\" >4.61%</td>\n",
       "                        <td id=\"T_83c50dd7_d860_11ec_bbce_f8e4e37aaee9row6_col21\" class=\"data row6 col21\" >3.62%</td>\n",
       "                        <td id=\"T_83c50dd7_d860_11ec_bbce_f8e4e37aaee9row6_col22\" class=\"data row6 col22\" >4.72%</td>\n",
       "                        <td id=\"T_83c50dd7_d860_11ec_bbce_f8e4e37aaee9row6_col23\" class=\"data row6 col23\" >3.40%</td>\n",
       "                        <td id=\"T_83c50dd7_d860_11ec_bbce_f8e4e37aaee9row6_col24\" class=\"data row6 col24\" >3.40%</td>\n",
       "                        <td id=\"T_83c50dd7_d860_11ec_bbce_f8e4e37aaee9row6_col25\" class=\"data row6 col25\" >3.40%</td>\n",
       "                        <td id=\"T_83c50dd7_d860_11ec_bbce_f8e4e37aaee9row6_col26\" class=\"data row6 col26\" >3.40%</td>\n",
       "                        <td id=\"T_83c50dd7_d860_11ec_bbce_f8e4e37aaee9row6_col27\" class=\"data row6 col27\" >2.85%</td>\n",
       "                        <td id=\"T_83c50dd7_d860_11ec_bbce_f8e4e37aaee9row6_col28\" class=\"data row6 col28\" >3.95%</td>\n",
       "                        <td id=\"T_83c50dd7_d860_11ec_bbce_f8e4e37aaee9row6_col29\" class=\"data row6 col29\" >2.74%</td>\n",
       "            </tr>\n",
       "            <tr>\n",
       "                        <th id=\"T_83c50dd7_d860_11ec_bbce_f8e4e37aaee9level0_row7\" class=\"row_heading level0 row7\" >2019-10-01</th>\n",
       "                        <td id=\"T_83c50dd7_d860_11ec_bbce_f8e4e37aaee9row7_col0\" class=\"data row7 col0\" >100.00%</td>\n",
       "                        <td id=\"T_83c50dd7_d860_11ec_bbce_f8e4e37aaee9row7_col1\" class=\"data row7 col1\" >2.63%</td>\n",
       "                        <td id=\"T_83c50dd7_d860_11ec_bbce_f8e4e37aaee9row7_col2\" class=\"data row7 col2\" >3.61%</td>\n",
       "                        <td id=\"T_83c50dd7_d860_11ec_bbce_f8e4e37aaee9row7_col3\" class=\"data row7 col3\" >3.94%</td>\n",
       "                        <td id=\"T_83c50dd7_d860_11ec_bbce_f8e4e37aaee9row7_col4\" class=\"data row7 col4\" >4.82%</td>\n",
       "                        <td id=\"T_83c50dd7_d860_11ec_bbce_f8e4e37aaee9row7_col5\" class=\"data row7 col5\" >6.13%</td>\n",
       "                        <td id=\"T_83c50dd7_d860_11ec_bbce_f8e4e37aaee9row7_col6\" class=\"data row7 col6\" >8.11%</td>\n",
       "                        <td id=\"T_83c50dd7_d860_11ec_bbce_f8e4e37aaee9row7_col7\" class=\"data row7 col7\" >5.48%</td>\n",
       "                        <td id=\"T_83c50dd7_d860_11ec_bbce_f8e4e37aaee9row7_col8\" class=\"data row7 col8\" >3.83%</td>\n",
       "                        <td id=\"T_83c50dd7_d860_11ec_bbce_f8e4e37aaee9row7_col9\" class=\"data row7 col9\" >5.26%</td>\n",
       "                        <td id=\"T_83c50dd7_d860_11ec_bbce_f8e4e37aaee9row7_col10\" class=\"data row7 col10\" >5.70%</td>\n",
       "                        <td id=\"T_83c50dd7_d860_11ec_bbce_f8e4e37aaee9row7_col11\" class=\"data row7 col11\" >4.93%</td>\n",
       "                        <td id=\"T_83c50dd7_d860_11ec_bbce_f8e4e37aaee9row7_col12\" class=\"data row7 col12\" >6.02%</td>\n",
       "                        <td id=\"T_83c50dd7_d860_11ec_bbce_f8e4e37aaee9row7_col13\" class=\"data row7 col13\" >4.05%</td>\n",
       "                        <td id=\"T_83c50dd7_d860_11ec_bbce_f8e4e37aaee9row7_col14\" class=\"data row7 col14\" >5.04%</td>\n",
       "                        <td id=\"T_83c50dd7_d860_11ec_bbce_f8e4e37aaee9row7_col15\" class=\"data row7 col15\" >4.27%</td>\n",
       "                        <td id=\"T_83c50dd7_d860_11ec_bbce_f8e4e37aaee9row7_col16\" class=\"data row7 col16\" >5.48%</td>\n",
       "                        <td id=\"T_83c50dd7_d860_11ec_bbce_f8e4e37aaee9row7_col17\" class=\"data row7 col17\" >4.38%</td>\n",
       "                        <td id=\"T_83c50dd7_d860_11ec_bbce_f8e4e37aaee9row7_col18\" class=\"data row7 col18\" >4.60%</td>\n",
       "                        <td id=\"T_83c50dd7_d860_11ec_bbce_f8e4e37aaee9row7_col19\" class=\"data row7 col19\" >4.38%</td>\n",
       "                        <td id=\"T_83c50dd7_d860_11ec_bbce_f8e4e37aaee9row7_col20\" class=\"data row7 col20\" >4.16%</td>\n",
       "                        <td id=\"T_83c50dd7_d860_11ec_bbce_f8e4e37aaee9row7_col21\" class=\"data row7 col21\" >2.52%</td>\n",
       "                        <td id=\"T_83c50dd7_d860_11ec_bbce_f8e4e37aaee9row7_col22\" class=\"data row7 col22\" >4.93%</td>\n",
       "                        <td id=\"T_83c50dd7_d860_11ec_bbce_f8e4e37aaee9row7_col23\" class=\"data row7 col23\" >3.83%</td>\n",
       "                        <td id=\"T_83c50dd7_d860_11ec_bbce_f8e4e37aaee9row7_col24\" class=\"data row7 col24\" >3.29%</td>\n",
       "                        <td id=\"T_83c50dd7_d860_11ec_bbce_f8e4e37aaee9row7_col25\" class=\"data row7 col25\" >3.72%</td>\n",
       "                        <td id=\"T_83c50dd7_d860_11ec_bbce_f8e4e37aaee9row7_col26\" class=\"data row7 col26\" >3.40%</td>\n",
       "                        <td id=\"T_83c50dd7_d860_11ec_bbce_f8e4e37aaee9row7_col27\" class=\"data row7 col27\" >3.29%</td>\n",
       "                        <td id=\"T_83c50dd7_d860_11ec_bbce_f8e4e37aaee9row7_col28\" class=\"data row7 col28\" >3.29%</td>\n",
       "                        <td id=\"T_83c50dd7_d860_11ec_bbce_f8e4e37aaee9row7_col29\" class=\"data row7 col29\" >2.96%</td>\n",
       "            </tr>\n",
       "            <tr>\n",
       "                        <th id=\"T_83c50dd7_d860_11ec_bbce_f8e4e37aaee9level0_row8\" class=\"row_heading level0 row8\" >2019-10-02</th>\n",
       "                        <td id=\"T_83c50dd7_d860_11ec_bbce_f8e4e37aaee9row8_col0\" class=\"data row8 col0\" >100.00%</td>\n",
       "                        <td id=\"T_83c50dd7_d860_11ec_bbce_f8e4e37aaee9row8_col1\" class=\"data row8 col1\" >2.08%</td>\n",
       "                        <td id=\"T_83c50dd7_d860_11ec_bbce_f8e4e37aaee9row8_col2\" class=\"data row8 col2\" >4.16%</td>\n",
       "                        <td id=\"T_83c50dd7_d860_11ec_bbce_f8e4e37aaee9row8_col3\" class=\"data row8 col3\" >5.36%</td>\n",
       "                        <td id=\"T_83c50dd7_d860_11ec_bbce_f8e4e37aaee9row8_col4\" class=\"data row8 col4\" >5.58%</td>\n",
       "                        <td id=\"T_83c50dd7_d860_11ec_bbce_f8e4e37aaee9row8_col5\" class=\"data row8 col5\" >5.25%</td>\n",
       "                        <td id=\"T_83c50dd7_d860_11ec_bbce_f8e4e37aaee9row8_col6\" class=\"data row8 col6\" >8.21%</td>\n",
       "                        <td id=\"T_83c50dd7_d860_11ec_bbce_f8e4e37aaee9row8_col7\" class=\"data row8 col7\" >6.89%</td>\n",
       "                        <td id=\"T_83c50dd7_d860_11ec_bbce_f8e4e37aaee9row8_col8\" class=\"data row8 col8\" >6.13%</td>\n",
       "                        <td id=\"T_83c50dd7_d860_11ec_bbce_f8e4e37aaee9row8_col9\" class=\"data row8 col9\" >5.25%</td>\n",
       "                        <td id=\"T_83c50dd7_d860_11ec_bbce_f8e4e37aaee9row8_col10\" class=\"data row8 col10\" >3.61%</td>\n",
       "                        <td id=\"T_83c50dd7_d860_11ec_bbce_f8e4e37aaee9row8_col11\" class=\"data row8 col11\" >6.24%</td>\n",
       "                        <td id=\"T_83c50dd7_d860_11ec_bbce_f8e4e37aaee9row8_col12\" class=\"data row8 col12\" >4.92%</td>\n",
       "                        <td id=\"T_83c50dd7_d860_11ec_bbce_f8e4e37aaee9row8_col13\" class=\"data row8 col13\" >4.70%</td>\n",
       "                        <td id=\"T_83c50dd7_d860_11ec_bbce_f8e4e37aaee9row8_col14\" class=\"data row8 col14\" >4.05%</td>\n",
       "                        <td id=\"T_83c50dd7_d860_11ec_bbce_f8e4e37aaee9row8_col15\" class=\"data row8 col15\" >4.38%</td>\n",
       "                        <td id=\"T_83c50dd7_d860_11ec_bbce_f8e4e37aaee9row8_col16\" class=\"data row8 col16\" >5.36%</td>\n",
       "                        <td id=\"T_83c50dd7_d860_11ec_bbce_f8e4e37aaee9row8_col17\" class=\"data row8 col17\" >4.05%</td>\n",
       "                        <td id=\"T_83c50dd7_d860_11ec_bbce_f8e4e37aaee9row8_col18\" class=\"data row8 col18\" >4.16%</td>\n",
       "                        <td id=\"T_83c50dd7_d860_11ec_bbce_f8e4e37aaee9row8_col19\" class=\"data row8 col19\" >3.83%</td>\n",
       "                        <td id=\"T_83c50dd7_d860_11ec_bbce_f8e4e37aaee9row8_col20\" class=\"data row8 col20\" >5.14%</td>\n",
       "                        <td id=\"T_83c50dd7_d860_11ec_bbce_f8e4e37aaee9row8_col21\" class=\"data row8 col21\" >4.38%</td>\n",
       "                        <td id=\"T_83c50dd7_d860_11ec_bbce_f8e4e37aaee9row8_col22\" class=\"data row8 col22\" >4.05%</td>\n",
       "                        <td id=\"T_83c50dd7_d860_11ec_bbce_f8e4e37aaee9row8_col23\" class=\"data row8 col23\" >4.16%</td>\n",
       "                        <td id=\"T_83c50dd7_d860_11ec_bbce_f8e4e37aaee9row8_col24\" class=\"data row8 col24\" >2.84%</td>\n",
       "                        <td id=\"T_83c50dd7_d860_11ec_bbce_f8e4e37aaee9row8_col25\" class=\"data row8 col25\" >2.08%</td>\n",
       "                        <td id=\"T_83c50dd7_d860_11ec_bbce_f8e4e37aaee9row8_col26\" class=\"data row8 col26\" >2.84%</td>\n",
       "                        <td id=\"T_83c50dd7_d860_11ec_bbce_f8e4e37aaee9row8_col27\" class=\"data row8 col27\" >2.84%</td>\n",
       "                        <td id=\"T_83c50dd7_d860_11ec_bbce_f8e4e37aaee9row8_col28\" class=\"data row8 col28\" >3.94%</td>\n",
       "                        <td id=\"T_83c50dd7_d860_11ec_bbce_f8e4e37aaee9row8_col29\" class=\"data row8 col29\" >3.39%</td>\n",
       "            </tr>\n",
       "            <tr>\n",
       "                        <th id=\"T_83c50dd7_d860_11ec_bbce_f8e4e37aaee9level0_row9\" class=\"row_heading level0 row9\" >2019-10-03</th>\n",
       "                        <td id=\"T_83c50dd7_d860_11ec_bbce_f8e4e37aaee9row9_col0\" class=\"data row9 col0\" >100.00%</td>\n",
       "                        <td id=\"T_83c50dd7_d860_11ec_bbce_f8e4e37aaee9row9_col1\" class=\"data row9 col1\" >1.42%</td>\n",
       "                        <td id=\"T_83c50dd7_d860_11ec_bbce_f8e4e37aaee9row9_col2\" class=\"data row9 col2\" >5.36%</td>\n",
       "                        <td id=\"T_83c50dd7_d860_11ec_bbce_f8e4e37aaee9row9_col3\" class=\"data row9 col3\" >3.83%</td>\n",
       "                        <td id=\"T_83c50dd7_d860_11ec_bbce_f8e4e37aaee9row9_col4\" class=\"data row9 col4\" >5.03%</td>\n",
       "                        <td id=\"T_83c50dd7_d860_11ec_bbce_f8e4e37aaee9row9_col5\" class=\"data row9 col5\" >6.45%</td>\n",
       "                        <td id=\"T_83c50dd7_d860_11ec_bbce_f8e4e37aaee9row9_col6\" class=\"data row9 col6\" >7.10%</td>\n",
       "                        <td id=\"T_83c50dd7_d860_11ec_bbce_f8e4e37aaee9row9_col7\" class=\"data row9 col7\" >6.45%</td>\n",
       "                        <td id=\"T_83c50dd7_d860_11ec_bbce_f8e4e37aaee9row9_col8\" class=\"data row9 col8\" >5.25%</td>\n",
       "                        <td id=\"T_83c50dd7_d860_11ec_bbce_f8e4e37aaee9row9_col9\" class=\"data row9 col9\" >6.89%</td>\n",
       "                        <td id=\"T_83c50dd7_d860_11ec_bbce_f8e4e37aaee9row9_col10\" class=\"data row9 col10\" >5.25%</td>\n",
       "                        <td id=\"T_83c50dd7_d860_11ec_bbce_f8e4e37aaee9row9_col11\" class=\"data row9 col11\" >5.57%</td>\n",
       "                        <td id=\"T_83c50dd7_d860_11ec_bbce_f8e4e37aaee9row9_col12\" class=\"data row9 col12\" >6.67%</td>\n",
       "                        <td id=\"T_83c50dd7_d860_11ec_bbce_f8e4e37aaee9row9_col13\" class=\"data row9 col13\" >4.48%</td>\n",
       "                        <td id=\"T_83c50dd7_d860_11ec_bbce_f8e4e37aaee9row9_col14\" class=\"data row9 col14\" >6.12%</td>\n",
       "                        <td id=\"T_83c50dd7_d860_11ec_bbce_f8e4e37aaee9row9_col15\" class=\"data row9 col15\" >5.68%</td>\n",
       "                        <td id=\"T_83c50dd7_d860_11ec_bbce_f8e4e37aaee9row9_col16\" class=\"data row9 col16\" >4.04%</td>\n",
       "                        <td id=\"T_83c50dd7_d860_11ec_bbce_f8e4e37aaee9row9_col17\" class=\"data row9 col17\" >5.68%</td>\n",
       "                        <td id=\"T_83c50dd7_d860_11ec_bbce_f8e4e37aaee9row9_col18\" class=\"data row9 col18\" >5.03%</td>\n",
       "                        <td id=\"T_83c50dd7_d860_11ec_bbce_f8e4e37aaee9row9_col19\" class=\"data row9 col19\" >4.37%</td>\n",
       "                        <td id=\"T_83c50dd7_d860_11ec_bbce_f8e4e37aaee9row9_col20\" class=\"data row9 col20\" >4.37%</td>\n",
       "                        <td id=\"T_83c50dd7_d860_11ec_bbce_f8e4e37aaee9row9_col21\" class=\"data row9 col21\" >4.04%</td>\n",
       "                        <td id=\"T_83c50dd7_d860_11ec_bbce_f8e4e37aaee9row9_col22\" class=\"data row9 col22\" >4.59%</td>\n",
       "                        <td id=\"T_83c50dd7_d860_11ec_bbce_f8e4e37aaee9row9_col23\" class=\"data row9 col23\" >4.26%</td>\n",
       "                        <td id=\"T_83c50dd7_d860_11ec_bbce_f8e4e37aaee9row9_col24\" class=\"data row9 col24\" >4.15%</td>\n",
       "                        <td id=\"T_83c50dd7_d860_11ec_bbce_f8e4e37aaee9row9_col25\" class=\"data row9 col25\" >3.61%</td>\n",
       "                        <td id=\"T_83c50dd7_d860_11ec_bbce_f8e4e37aaee9row9_col26\" class=\"data row9 col26\" >4.37%</td>\n",
       "                        <td id=\"T_83c50dd7_d860_11ec_bbce_f8e4e37aaee9row9_col27\" class=\"data row9 col27\" >3.61%</td>\n",
       "                        <td id=\"T_83c50dd7_d860_11ec_bbce_f8e4e37aaee9row9_col28\" class=\"data row9 col28\" >4.04%</td>\n",
       "                        <td id=\"T_83c50dd7_d860_11ec_bbce_f8e4e37aaee9row9_col29\" class=\"data row9 col29\" >3.93%</td>\n",
       "            </tr>\n",
       "    </tbody></table>"
      ],
      "text/plain": [
       "<pandas.io.formats.style.Styler at 0x29d1eadd040>"
      ]
     },
     "execution_count": 38,
     "metadata": {},
     "output_type": "execute_result"
    }
   ],
   "source": [
    "# Резултат с применением стилей\n",
    "r['style_retention']"
   ]
  },
  {
   "cell_type": "code",
   "execution_count": 39,
   "metadata": {
    "scrolled": false
   },
   "outputs": [
    {
     "data": {
      "text/html": [
       "<div>\n",
       "<style scoped>\n",
       "    .dataframe tbody tr th:only-of-type {\n",
       "        vertical-align: middle;\n",
       "    }\n",
       "\n",
       "    .dataframe tbody tr th {\n",
       "        vertical-align: top;\n",
       "    }\n",
       "\n",
       "    .dataframe thead th {\n",
       "        text-align: right;\n",
       "    }\n",
       "</style>\n",
       "<table border=\"1\" class=\"dataframe\">\n",
       "  <thead>\n",
       "    <tr style=\"text-align: right;\">\n",
       "      <th>period_number</th>\n",
       "      <th>0</th>\n",
       "      <th>1</th>\n",
       "      <th>2</th>\n",
       "      <th>3</th>\n",
       "      <th>4</th>\n",
       "      <th>5</th>\n",
       "      <th>6</th>\n",
       "      <th>7</th>\n",
       "      <th>8</th>\n",
       "      <th>9</th>\n",
       "      <th>...</th>\n",
       "      <th>20</th>\n",
       "      <th>21</th>\n",
       "      <th>22</th>\n",
       "      <th>23</th>\n",
       "      <th>24</th>\n",
       "      <th>25</th>\n",
       "      <th>26</th>\n",
       "      <th>27</th>\n",
       "      <th>28</th>\n",
       "      <th>29</th>\n",
       "    </tr>\n",
       "    <tr>\n",
       "      <th>cohort</th>\n",
       "      <th></th>\n",
       "      <th></th>\n",
       "      <th></th>\n",
       "      <th></th>\n",
       "      <th></th>\n",
       "      <th></th>\n",
       "      <th></th>\n",
       "      <th></th>\n",
       "      <th></th>\n",
       "      <th></th>\n",
       "      <th></th>\n",
       "      <th></th>\n",
       "      <th></th>\n",
       "      <th></th>\n",
       "      <th></th>\n",
       "      <th></th>\n",
       "      <th></th>\n",
       "      <th></th>\n",
       "      <th></th>\n",
       "      <th></th>\n",
       "      <th></th>\n",
       "    </tr>\n",
       "  </thead>\n",
       "  <tbody>\n",
       "    <tr>\n",
       "      <th>2019-09-24</th>\n",
       "      <td>902</td>\n",
       "      <td>16</td>\n",
       "      <td>30</td>\n",
       "      <td>38</td>\n",
       "      <td>30</td>\n",
       "      <td>41</td>\n",
       "      <td>53</td>\n",
       "      <td>49</td>\n",
       "      <td>35</td>\n",
       "      <td>33</td>\n",
       "      <td>...</td>\n",
       "      <td>32</td>\n",
       "      <td>27</td>\n",
       "      <td>24</td>\n",
       "      <td>34</td>\n",
       "      <td>23</td>\n",
       "      <td>23</td>\n",
       "      <td>23</td>\n",
       "      <td>21</td>\n",
       "      <td>16</td>\n",
       "      <td>23</td>\n",
       "    </tr>\n",
       "    <tr>\n",
       "      <th>2019-09-25</th>\n",
       "      <td>904</td>\n",
       "      <td>25</td>\n",
       "      <td>40</td>\n",
       "      <td>40</td>\n",
       "      <td>52</td>\n",
       "      <td>64</td>\n",
       "      <td>63</td>\n",
       "      <td>56</td>\n",
       "      <td>50</td>\n",
       "      <td>44</td>\n",
       "      <td>...</td>\n",
       "      <td>29</td>\n",
       "      <td>34</td>\n",
       "      <td>33</td>\n",
       "      <td>32</td>\n",
       "      <td>38</td>\n",
       "      <td>29</td>\n",
       "      <td>27</td>\n",
       "      <td>37</td>\n",
       "      <td>26</td>\n",
       "      <td>26</td>\n",
       "    </tr>\n",
       "    <tr>\n",
       "      <th>2019-09-26</th>\n",
       "      <td>905</td>\n",
       "      <td>28</td>\n",
       "      <td>34</td>\n",
       "      <td>44</td>\n",
       "      <td>52</td>\n",
       "      <td>62</td>\n",
       "      <td>75</td>\n",
       "      <td>61</td>\n",
       "      <td>47</td>\n",
       "      <td>39</td>\n",
       "      <td>...</td>\n",
       "      <td>37</td>\n",
       "      <td>41</td>\n",
       "      <td>33</td>\n",
       "      <td>41</td>\n",
       "      <td>29</td>\n",
       "      <td>29</td>\n",
       "      <td>36</td>\n",
       "      <td>39</td>\n",
       "      <td>25</td>\n",
       "      <td>20</td>\n",
       "    </tr>\n",
       "    <tr>\n",
       "      <th>2019-09-27</th>\n",
       "      <td>907</td>\n",
       "      <td>15</td>\n",
       "      <td>32</td>\n",
       "      <td>52</td>\n",
       "      <td>47</td>\n",
       "      <td>60</td>\n",
       "      <td>63</td>\n",
       "      <td>45</td>\n",
       "      <td>50</td>\n",
       "      <td>44</td>\n",
       "      <td>...</td>\n",
       "      <td>34</td>\n",
       "      <td>39</td>\n",
       "      <td>35</td>\n",
       "      <td>39</td>\n",
       "      <td>32</td>\n",
       "      <td>29</td>\n",
       "      <td>31</td>\n",
       "      <td>27</td>\n",
       "      <td>23</td>\n",
       "      <td>27</td>\n",
       "    </tr>\n",
       "    <tr>\n",
       "      <th>2019-09-28</th>\n",
       "      <td>908</td>\n",
       "      <td>15</td>\n",
       "      <td>31</td>\n",
       "      <td>32</td>\n",
       "      <td>46</td>\n",
       "      <td>58</td>\n",
       "      <td>56</td>\n",
       "      <td>51</td>\n",
       "      <td>39</td>\n",
       "      <td>39</td>\n",
       "      <td>...</td>\n",
       "      <td>35</td>\n",
       "      <td>32</td>\n",
       "      <td>35</td>\n",
       "      <td>33</td>\n",
       "      <td>29</td>\n",
       "      <td>24</td>\n",
       "      <td>34</td>\n",
       "      <td>24</td>\n",
       "      <td>28</td>\n",
       "      <td>25</td>\n",
       "    </tr>\n",
       "    <tr>\n",
       "      <th>2019-09-29</th>\n",
       "      <td>909</td>\n",
       "      <td>15</td>\n",
       "      <td>43</td>\n",
       "      <td>39</td>\n",
       "      <td>54</td>\n",
       "      <td>50</td>\n",
       "      <td>48</td>\n",
       "      <td>52</td>\n",
       "      <td>47</td>\n",
       "      <td>38</td>\n",
       "      <td>...</td>\n",
       "      <td>41</td>\n",
       "      <td>35</td>\n",
       "      <td>26</td>\n",
       "      <td>28</td>\n",
       "      <td>27</td>\n",
       "      <td>34</td>\n",
       "      <td>23</td>\n",
       "      <td>32</td>\n",
       "      <td>35</td>\n",
       "      <td>26</td>\n",
       "    </tr>\n",
       "    <tr>\n",
       "      <th>2019-09-30</th>\n",
       "      <td>911</td>\n",
       "      <td>19</td>\n",
       "      <td>38</td>\n",
       "      <td>36</td>\n",
       "      <td>48</td>\n",
       "      <td>56</td>\n",
       "      <td>51</td>\n",
       "      <td>68</td>\n",
       "      <td>31</td>\n",
       "      <td>43</td>\n",
       "      <td>...</td>\n",
       "      <td>42</td>\n",
       "      <td>33</td>\n",
       "      <td>43</td>\n",
       "      <td>31</td>\n",
       "      <td>31</td>\n",
       "      <td>31</td>\n",
       "      <td>31</td>\n",
       "      <td>26</td>\n",
       "      <td>36</td>\n",
       "      <td>25</td>\n",
       "    </tr>\n",
       "    <tr>\n",
       "      <th>2019-10-01</th>\n",
       "      <td>913</td>\n",
       "      <td>24</td>\n",
       "      <td>33</td>\n",
       "      <td>36</td>\n",
       "      <td>44</td>\n",
       "      <td>56</td>\n",
       "      <td>74</td>\n",
       "      <td>50</td>\n",
       "      <td>35</td>\n",
       "      <td>48</td>\n",
       "      <td>...</td>\n",
       "      <td>38</td>\n",
       "      <td>23</td>\n",
       "      <td>45</td>\n",
       "      <td>35</td>\n",
       "      <td>30</td>\n",
       "      <td>34</td>\n",
       "      <td>31</td>\n",
       "      <td>30</td>\n",
       "      <td>30</td>\n",
       "      <td>27</td>\n",
       "    </tr>\n",
       "    <tr>\n",
       "      <th>2019-10-02</th>\n",
       "      <td>914</td>\n",
       "      <td>19</td>\n",
       "      <td>38</td>\n",
       "      <td>49</td>\n",
       "      <td>51</td>\n",
       "      <td>48</td>\n",
       "      <td>75</td>\n",
       "      <td>63</td>\n",
       "      <td>56</td>\n",
       "      <td>48</td>\n",
       "      <td>...</td>\n",
       "      <td>47</td>\n",
       "      <td>40</td>\n",
       "      <td>37</td>\n",
       "      <td>38</td>\n",
       "      <td>26</td>\n",
       "      <td>19</td>\n",
       "      <td>26</td>\n",
       "      <td>26</td>\n",
       "      <td>36</td>\n",
       "      <td>31</td>\n",
       "    </tr>\n",
       "    <tr>\n",
       "      <th>2019-10-03</th>\n",
       "      <td>915</td>\n",
       "      <td>13</td>\n",
       "      <td>49</td>\n",
       "      <td>35</td>\n",
       "      <td>46</td>\n",
       "      <td>59</td>\n",
       "      <td>65</td>\n",
       "      <td>59</td>\n",
       "      <td>48</td>\n",
       "      <td>63</td>\n",
       "      <td>...</td>\n",
       "      <td>40</td>\n",
       "      <td>37</td>\n",
       "      <td>42</td>\n",
       "      <td>39</td>\n",
       "      <td>38</td>\n",
       "      <td>33</td>\n",
       "      <td>40</td>\n",
       "      <td>33</td>\n",
       "      <td>37</td>\n",
       "      <td>36</td>\n",
       "    </tr>\n",
       "  </tbody>\n",
       "</table>\n",
       "<p>10 rows × 30 columns</p>\n",
       "</div>"
      ],
      "text/plain": [
       "period_number   0   1   2   3   4   5   6   7   8   9   ...  20  21  22  23  \\\n",
       "cohort                                                  ...                   \n",
       "2019-09-24     902  16  30  38  30  41  53  49  35  33  ...  32  27  24  34   \n",
       "2019-09-25     904  25  40  40  52  64  63  56  50  44  ...  29  34  33  32   \n",
       "2019-09-26     905  28  34  44  52  62  75  61  47  39  ...  37  41  33  41   \n",
       "2019-09-27     907  15  32  52  47  60  63  45  50  44  ...  34  39  35  39   \n",
       "2019-09-28     908  15  31  32  46  58  56  51  39  39  ...  35  32  35  33   \n",
       "2019-09-29     909  15  43  39  54  50  48  52  47  38  ...  41  35  26  28   \n",
       "2019-09-30     911  19  38  36  48  56  51  68  31  43  ...  42  33  43  31   \n",
       "2019-10-01     913  24  33  36  44  56  74  50  35  48  ...  38  23  45  35   \n",
       "2019-10-02     914  19  38  49  51  48  75  63  56  48  ...  47  40  37  38   \n",
       "2019-10-03     915  13  49  35  46  59  65  59  48  63  ...  40  37  42  39   \n",
       "\n",
       "period_number  24  25  26  27  28  29  \n",
       "cohort                                 \n",
       "2019-09-24     23  23  23  21  16  23  \n",
       "2019-09-25     38  29  27  37  26  26  \n",
       "2019-09-26     29  29  36  39  25  20  \n",
       "2019-09-27     32  29  31  27  23  27  \n",
       "2019-09-28     29  24  34  24  28  25  \n",
       "2019-09-29     27  34  23  32  35  26  \n",
       "2019-09-30     31  31  31  26  36  25  \n",
       "2019-10-01     30  34  31  30  30  27  \n",
       "2019-10-02     26  19  26  26  36  31  \n",
       "2019-10-03     38  33  40  33  37  36  \n",
       "\n",
       "[10 rows x 30 columns]"
      ]
     },
     "execution_count": 39,
     "metadata": {},
     "output_type": "execute_result"
    }
   ],
   "source": [
    "# Вариант с просмотром численности когорт\n",
    "r['cohort_pivot'].dropna(axis=1, how='all')"
   ]
  },
  {
   "cell_type": "code",
   "execution_count": 40,
   "metadata": {},
   "outputs": [
    {
     "data": {
      "text/html": [
       "<div>\n",
       "<style scoped>\n",
       "    .dataframe tbody tr th:only-of-type {\n",
       "        vertical-align: middle;\n",
       "    }\n",
       "\n",
       "    .dataframe tbody tr th {\n",
       "        vertical-align: top;\n",
       "    }\n",
       "\n",
       "    .dataframe thead th {\n",
       "        text-align: right;\n",
       "    }\n",
       "</style>\n",
       "<table border=\"1\" class=\"dataframe\">\n",
       "  <thead>\n",
       "    <tr style=\"text-align: right;\">\n",
       "      <th>period_number</th>\n",
       "      <th>0</th>\n",
       "      <th>1</th>\n",
       "      <th>2</th>\n",
       "      <th>3</th>\n",
       "      <th>4</th>\n",
       "      <th>5</th>\n",
       "      <th>6</th>\n",
       "      <th>7</th>\n",
       "      <th>8</th>\n",
       "      <th>9</th>\n",
       "      <th>...</th>\n",
       "      <th>20</th>\n",
       "      <th>21</th>\n",
       "      <th>22</th>\n",
       "      <th>23</th>\n",
       "      <th>24</th>\n",
       "      <th>25</th>\n",
       "      <th>26</th>\n",
       "      <th>27</th>\n",
       "      <th>28</th>\n",
       "      <th>29</th>\n",
       "    </tr>\n",
       "    <tr>\n",
       "      <th>cohort</th>\n",
       "      <th></th>\n",
       "      <th></th>\n",
       "      <th></th>\n",
       "      <th></th>\n",
       "      <th></th>\n",
       "      <th></th>\n",
       "      <th></th>\n",
       "      <th></th>\n",
       "      <th></th>\n",
       "      <th></th>\n",
       "      <th></th>\n",
       "      <th></th>\n",
       "      <th></th>\n",
       "      <th></th>\n",
       "      <th></th>\n",
       "      <th></th>\n",
       "      <th></th>\n",
       "      <th></th>\n",
       "      <th></th>\n",
       "      <th></th>\n",
       "      <th></th>\n",
       "    </tr>\n",
       "  </thead>\n",
       "  <tbody>\n",
       "    <tr>\n",
       "      <th>2019-09-24</th>\n",
       "      <td>1.0</td>\n",
       "      <td>0.017738</td>\n",
       "      <td>0.033259</td>\n",
       "      <td>0.042129</td>\n",
       "      <td>0.033259</td>\n",
       "      <td>0.045455</td>\n",
       "      <td>0.058758</td>\n",
       "      <td>0.054324</td>\n",
       "      <td>0.038803</td>\n",
       "      <td>0.036585</td>\n",
       "      <td>...</td>\n",
       "      <td>0.035477</td>\n",
       "      <td>0.029933</td>\n",
       "      <td>0.026608</td>\n",
       "      <td>0.037694</td>\n",
       "      <td>0.025499</td>\n",
       "      <td>0.025499</td>\n",
       "      <td>0.025499</td>\n",
       "      <td>0.023282</td>\n",
       "      <td>0.017738</td>\n",
       "      <td>0.025499</td>\n",
       "    </tr>\n",
       "    <tr>\n",
       "      <th>2019-09-25</th>\n",
       "      <td>1.0</td>\n",
       "      <td>0.027655</td>\n",
       "      <td>0.044248</td>\n",
       "      <td>0.044248</td>\n",
       "      <td>0.057522</td>\n",
       "      <td>0.070796</td>\n",
       "      <td>0.069690</td>\n",
       "      <td>0.061947</td>\n",
       "      <td>0.055310</td>\n",
       "      <td>0.048673</td>\n",
       "      <td>...</td>\n",
       "      <td>0.032080</td>\n",
       "      <td>0.037611</td>\n",
       "      <td>0.036504</td>\n",
       "      <td>0.035398</td>\n",
       "      <td>0.042035</td>\n",
       "      <td>0.032080</td>\n",
       "      <td>0.029867</td>\n",
       "      <td>0.040929</td>\n",
       "      <td>0.028761</td>\n",
       "      <td>0.028761</td>\n",
       "    </tr>\n",
       "    <tr>\n",
       "      <th>2019-09-26</th>\n",
       "      <td>1.0</td>\n",
       "      <td>0.030939</td>\n",
       "      <td>0.037569</td>\n",
       "      <td>0.048619</td>\n",
       "      <td>0.057459</td>\n",
       "      <td>0.068508</td>\n",
       "      <td>0.082873</td>\n",
       "      <td>0.067403</td>\n",
       "      <td>0.051934</td>\n",
       "      <td>0.043094</td>\n",
       "      <td>...</td>\n",
       "      <td>0.040884</td>\n",
       "      <td>0.045304</td>\n",
       "      <td>0.036464</td>\n",
       "      <td>0.045304</td>\n",
       "      <td>0.032044</td>\n",
       "      <td>0.032044</td>\n",
       "      <td>0.039779</td>\n",
       "      <td>0.043094</td>\n",
       "      <td>0.027624</td>\n",
       "      <td>0.022099</td>\n",
       "    </tr>\n",
       "    <tr>\n",
       "      <th>2019-09-27</th>\n",
       "      <td>1.0</td>\n",
       "      <td>0.016538</td>\n",
       "      <td>0.035281</td>\n",
       "      <td>0.057332</td>\n",
       "      <td>0.051819</td>\n",
       "      <td>0.066152</td>\n",
       "      <td>0.069460</td>\n",
       "      <td>0.049614</td>\n",
       "      <td>0.055127</td>\n",
       "      <td>0.048512</td>\n",
       "      <td>...</td>\n",
       "      <td>0.037486</td>\n",
       "      <td>0.042999</td>\n",
       "      <td>0.038589</td>\n",
       "      <td>0.042999</td>\n",
       "      <td>0.035281</td>\n",
       "      <td>0.031974</td>\n",
       "      <td>0.034179</td>\n",
       "      <td>0.029768</td>\n",
       "      <td>0.025358</td>\n",
       "      <td>0.029768</td>\n",
       "    </tr>\n",
       "    <tr>\n",
       "      <th>2019-09-28</th>\n",
       "      <td>1.0</td>\n",
       "      <td>0.016520</td>\n",
       "      <td>0.034141</td>\n",
       "      <td>0.035242</td>\n",
       "      <td>0.050661</td>\n",
       "      <td>0.063877</td>\n",
       "      <td>0.061674</td>\n",
       "      <td>0.056167</td>\n",
       "      <td>0.042952</td>\n",
       "      <td>0.042952</td>\n",
       "      <td>...</td>\n",
       "      <td>0.038546</td>\n",
       "      <td>0.035242</td>\n",
       "      <td>0.038546</td>\n",
       "      <td>0.036344</td>\n",
       "      <td>0.031938</td>\n",
       "      <td>0.026432</td>\n",
       "      <td>0.037445</td>\n",
       "      <td>0.026432</td>\n",
       "      <td>0.030837</td>\n",
       "      <td>0.027533</td>\n",
       "    </tr>\n",
       "    <tr>\n",
       "      <th>2019-09-29</th>\n",
       "      <td>1.0</td>\n",
       "      <td>0.016502</td>\n",
       "      <td>0.047305</td>\n",
       "      <td>0.042904</td>\n",
       "      <td>0.059406</td>\n",
       "      <td>0.055006</td>\n",
       "      <td>0.052805</td>\n",
       "      <td>0.057206</td>\n",
       "      <td>0.051705</td>\n",
       "      <td>0.041804</td>\n",
       "      <td>...</td>\n",
       "      <td>0.045105</td>\n",
       "      <td>0.038504</td>\n",
       "      <td>0.028603</td>\n",
       "      <td>0.030803</td>\n",
       "      <td>0.029703</td>\n",
       "      <td>0.037404</td>\n",
       "      <td>0.025303</td>\n",
       "      <td>0.035204</td>\n",
       "      <td>0.038504</td>\n",
       "      <td>0.028603</td>\n",
       "    </tr>\n",
       "    <tr>\n",
       "      <th>2019-09-30</th>\n",
       "      <td>1.0</td>\n",
       "      <td>0.020856</td>\n",
       "      <td>0.041712</td>\n",
       "      <td>0.039517</td>\n",
       "      <td>0.052689</td>\n",
       "      <td>0.061471</td>\n",
       "      <td>0.055982</td>\n",
       "      <td>0.074643</td>\n",
       "      <td>0.034029</td>\n",
       "      <td>0.047201</td>\n",
       "      <td>...</td>\n",
       "      <td>0.046103</td>\n",
       "      <td>0.036224</td>\n",
       "      <td>0.047201</td>\n",
       "      <td>0.034029</td>\n",
       "      <td>0.034029</td>\n",
       "      <td>0.034029</td>\n",
       "      <td>0.034029</td>\n",
       "      <td>0.028540</td>\n",
       "      <td>0.039517</td>\n",
       "      <td>0.027442</td>\n",
       "    </tr>\n",
       "    <tr>\n",
       "      <th>2019-10-01</th>\n",
       "      <td>1.0</td>\n",
       "      <td>0.026287</td>\n",
       "      <td>0.036145</td>\n",
       "      <td>0.039430</td>\n",
       "      <td>0.048193</td>\n",
       "      <td>0.061336</td>\n",
       "      <td>0.081051</td>\n",
       "      <td>0.054765</td>\n",
       "      <td>0.038335</td>\n",
       "      <td>0.052574</td>\n",
       "      <td>...</td>\n",
       "      <td>0.041621</td>\n",
       "      <td>0.025192</td>\n",
       "      <td>0.049288</td>\n",
       "      <td>0.038335</td>\n",
       "      <td>0.032859</td>\n",
       "      <td>0.037240</td>\n",
       "      <td>0.033954</td>\n",
       "      <td>0.032859</td>\n",
       "      <td>0.032859</td>\n",
       "      <td>0.029573</td>\n",
       "    </tr>\n",
       "    <tr>\n",
       "      <th>2019-10-02</th>\n",
       "      <td>1.0</td>\n",
       "      <td>0.020788</td>\n",
       "      <td>0.041575</td>\n",
       "      <td>0.053611</td>\n",
       "      <td>0.055799</td>\n",
       "      <td>0.052516</td>\n",
       "      <td>0.082057</td>\n",
       "      <td>0.068928</td>\n",
       "      <td>0.061269</td>\n",
       "      <td>0.052516</td>\n",
       "      <td>...</td>\n",
       "      <td>0.051422</td>\n",
       "      <td>0.043764</td>\n",
       "      <td>0.040481</td>\n",
       "      <td>0.041575</td>\n",
       "      <td>0.028446</td>\n",
       "      <td>0.020788</td>\n",
       "      <td>0.028446</td>\n",
       "      <td>0.028446</td>\n",
       "      <td>0.039387</td>\n",
       "      <td>0.033917</td>\n",
       "    </tr>\n",
       "    <tr>\n",
       "      <th>2019-10-03</th>\n",
       "      <td>1.0</td>\n",
       "      <td>0.014208</td>\n",
       "      <td>0.053552</td>\n",
       "      <td>0.038251</td>\n",
       "      <td>0.050273</td>\n",
       "      <td>0.064481</td>\n",
       "      <td>0.071038</td>\n",
       "      <td>0.064481</td>\n",
       "      <td>0.052459</td>\n",
       "      <td>0.068852</td>\n",
       "      <td>...</td>\n",
       "      <td>0.043716</td>\n",
       "      <td>0.040437</td>\n",
       "      <td>0.045902</td>\n",
       "      <td>0.042623</td>\n",
       "      <td>0.041530</td>\n",
       "      <td>0.036066</td>\n",
       "      <td>0.043716</td>\n",
       "      <td>0.036066</td>\n",
       "      <td>0.040437</td>\n",
       "      <td>0.039344</td>\n",
       "    </tr>\n",
       "  </tbody>\n",
       "</table>\n",
       "<p>10 rows × 30 columns</p>\n",
       "</div>"
      ],
      "text/plain": [
       "period_number   0         1         2         3         4         5   \\\n",
       "cohort                                                                 \n",
       "2019-09-24     1.0  0.017738  0.033259  0.042129  0.033259  0.045455   \n",
       "2019-09-25     1.0  0.027655  0.044248  0.044248  0.057522  0.070796   \n",
       "2019-09-26     1.0  0.030939  0.037569  0.048619  0.057459  0.068508   \n",
       "2019-09-27     1.0  0.016538  0.035281  0.057332  0.051819  0.066152   \n",
       "2019-09-28     1.0  0.016520  0.034141  0.035242  0.050661  0.063877   \n",
       "2019-09-29     1.0  0.016502  0.047305  0.042904  0.059406  0.055006   \n",
       "2019-09-30     1.0  0.020856  0.041712  0.039517  0.052689  0.061471   \n",
       "2019-10-01     1.0  0.026287  0.036145  0.039430  0.048193  0.061336   \n",
       "2019-10-02     1.0  0.020788  0.041575  0.053611  0.055799  0.052516   \n",
       "2019-10-03     1.0  0.014208  0.053552  0.038251  0.050273  0.064481   \n",
       "\n",
       "period_number        6         7         8         9   ...        20  \\\n",
       "cohort                                                 ...             \n",
       "2019-09-24     0.058758  0.054324  0.038803  0.036585  ...  0.035477   \n",
       "2019-09-25     0.069690  0.061947  0.055310  0.048673  ...  0.032080   \n",
       "2019-09-26     0.082873  0.067403  0.051934  0.043094  ...  0.040884   \n",
       "2019-09-27     0.069460  0.049614  0.055127  0.048512  ...  0.037486   \n",
       "2019-09-28     0.061674  0.056167  0.042952  0.042952  ...  0.038546   \n",
       "2019-09-29     0.052805  0.057206  0.051705  0.041804  ...  0.045105   \n",
       "2019-09-30     0.055982  0.074643  0.034029  0.047201  ...  0.046103   \n",
       "2019-10-01     0.081051  0.054765  0.038335  0.052574  ...  0.041621   \n",
       "2019-10-02     0.082057  0.068928  0.061269  0.052516  ...  0.051422   \n",
       "2019-10-03     0.071038  0.064481  0.052459  0.068852  ...  0.043716   \n",
       "\n",
       "period_number        21        22        23        24        25        26  \\\n",
       "cohort                                                                      \n",
       "2019-09-24     0.029933  0.026608  0.037694  0.025499  0.025499  0.025499   \n",
       "2019-09-25     0.037611  0.036504  0.035398  0.042035  0.032080  0.029867   \n",
       "2019-09-26     0.045304  0.036464  0.045304  0.032044  0.032044  0.039779   \n",
       "2019-09-27     0.042999  0.038589  0.042999  0.035281  0.031974  0.034179   \n",
       "2019-09-28     0.035242  0.038546  0.036344  0.031938  0.026432  0.037445   \n",
       "2019-09-29     0.038504  0.028603  0.030803  0.029703  0.037404  0.025303   \n",
       "2019-09-30     0.036224  0.047201  0.034029  0.034029  0.034029  0.034029   \n",
       "2019-10-01     0.025192  0.049288  0.038335  0.032859  0.037240  0.033954   \n",
       "2019-10-02     0.043764  0.040481  0.041575  0.028446  0.020788  0.028446   \n",
       "2019-10-03     0.040437  0.045902  0.042623  0.041530  0.036066  0.043716   \n",
       "\n",
       "period_number        27        28        29  \n",
       "cohort                                       \n",
       "2019-09-24     0.023282  0.017738  0.025499  \n",
       "2019-09-25     0.040929  0.028761  0.028761  \n",
       "2019-09-26     0.043094  0.027624  0.022099  \n",
       "2019-09-27     0.029768  0.025358  0.029768  \n",
       "2019-09-28     0.026432  0.030837  0.027533  \n",
       "2019-09-29     0.035204  0.038504  0.028603  \n",
       "2019-09-30     0.028540  0.039517  0.027442  \n",
       "2019-10-01     0.032859  0.032859  0.029573  \n",
       "2019-10-02     0.028446  0.039387  0.033917  \n",
       "2019-10-03     0.036066  0.040437  0.039344  \n",
       "\n",
       "[10 rows x 30 columns]"
      ]
     },
     "execution_count": 40,
     "metadata": {},
     "output_type": "execute_result"
    }
   ],
   "source": [
    "# Вариант с расчетом retention без применения стилей\n",
    "r['retention_matrix'].dropna(axis=1, how='all')"
   ]
  },
  {
   "cell_type": "markdown",
   "metadata": {},
   "source": [
    "После проведенного расчета можно подвести итог.\n",
    "\n",
    "Показатель **retention** для мобильных игр зависит от многих факторов и может сильно различаться в зависиомтси от возрастной категории пользователей, но если брать этот показатель в вакууме, то приемлимы будет следующие значения:\n",
    "- retention первого дня на уровне 50%;\n",
    "- retention седьмого дня — 25-30%;\n",
    "- retention тридцатого дня — 10-15%.\n",
    "\n",
    "Но приведенные числа, это достаточно грубый подсчет и реальные показатели будут напрямую зависить от специфики проудукта и его аудитории\n",
    "\n",
    "Конкретно в нашей же ситуации retention игры достаточно низкий. И по представленному сэмплу рассчитываемый показатель незначительно подрастает к 7 деню, но потом снова падает"
   ]
  },
  {
   "cell_type": "markdown",
   "metadata": {},
   "source": [
    "##  Задание 2\n",
    "\n",
    "Имеются результаты A/B теста, в котором двум группам пользователей предлагались различные наборы акционных предложений. Известно, что ARPU в тестовой группе выше на 5%, чем в контрольной. При этом в контрольной группе 1928 игроков из 202103 оказались платящими, а в тестовой – 1805 из 202667.\n",
    "\n",
    "Какой набор предложений можно считать лучшим? Какие метрики стоит проанализировать для принятия правильного решения и как?"
   ]
  },
  {
   "cell_type": "markdown",
   "metadata": {},
   "source": [
    "**Контрольная группа \"а\"**\n",
    "- Количество пользователей 202103\n",
    "- Совершили покупку 1928\n",
    "\n",
    "**Тестовая группа \"b\"**\n",
    "- Количество пользователей 202667\n",
    "- Совершили покупку 1805"
   ]
  },
  {
   "cell_type": "code",
   "execution_count": 41,
   "metadata": {},
   "outputs": [],
   "source": [
    "ab_test_data = pd.read_csv('Проект_1_Задание_2.csv', sep=';')"
   ]
  },
  {
   "cell_type": "code",
   "execution_count": 42,
   "metadata": {},
   "outputs": [
    {
     "data": {
      "text/html": [
       "<div>\n",
       "<style scoped>\n",
       "    .dataframe tbody tr th:only-of-type {\n",
       "        vertical-align: middle;\n",
       "    }\n",
       "\n",
       "    .dataframe tbody tr th {\n",
       "        vertical-align: top;\n",
       "    }\n",
       "\n",
       "    .dataframe thead th {\n",
       "        text-align: right;\n",
       "    }\n",
       "</style>\n",
       "<table border=\"1\" class=\"dataframe\">\n",
       "  <thead>\n",
       "    <tr style=\"text-align: right;\">\n",
       "      <th></th>\n",
       "      <th>user_id</th>\n",
       "      <th>revenue</th>\n",
       "      <th>testgroup</th>\n",
       "    </tr>\n",
       "  </thead>\n",
       "  <tbody>\n",
       "    <tr>\n",
       "      <th>0</th>\n",
       "      <td>1</td>\n",
       "      <td>0</td>\n",
       "      <td>b</td>\n",
       "    </tr>\n",
       "    <tr>\n",
       "      <th>1</th>\n",
       "      <td>2</td>\n",
       "      <td>0</td>\n",
       "      <td>a</td>\n",
       "    </tr>\n",
       "    <tr>\n",
       "      <th>2</th>\n",
       "      <td>3</td>\n",
       "      <td>0</td>\n",
       "      <td>a</td>\n",
       "    </tr>\n",
       "    <tr>\n",
       "      <th>3</th>\n",
       "      <td>4</td>\n",
       "      <td>0</td>\n",
       "      <td>b</td>\n",
       "    </tr>\n",
       "    <tr>\n",
       "      <th>4</th>\n",
       "      <td>5</td>\n",
       "      <td>0</td>\n",
       "      <td>b</td>\n",
       "    </tr>\n",
       "  </tbody>\n",
       "</table>\n",
       "</div>"
      ],
      "text/plain": [
       "   user_id  revenue testgroup\n",
       "0        1        0         b\n",
       "1        2        0         a\n",
       "2        3        0         a\n",
       "3        4        0         b\n",
       "4        5        0         b"
      ]
     },
     "execution_count": 42,
     "metadata": {},
     "output_type": "execute_result"
    }
   ],
   "source": [
    "# Проведем разведочный анализ данных\n",
    "ab_test_data.head()"
   ]
  },
  {
   "cell_type": "code",
   "execution_count": 43,
   "metadata": {},
   "outputs": [
    {
     "data": {
      "text/plain": [
       "(404770, 3)"
      ]
     },
     "execution_count": 43,
     "metadata": {},
     "output_type": "execute_result"
    }
   ],
   "source": [
    "ab_test_data.shape"
   ]
  },
  {
   "cell_type": "code",
   "execution_count": 44,
   "metadata": {},
   "outputs": [
    {
     "data": {
      "text/plain": [
       "user_id      0\n",
       "revenue      0\n",
       "testgroup    0\n",
       "dtype: int64"
      ]
     },
     "execution_count": 44,
     "metadata": {},
     "output_type": "execute_result"
    }
   ],
   "source": [
    "ab_test_data.isna().sum()"
   ]
  },
  {
   "cell_type": "code",
   "execution_count": 45,
   "metadata": {},
   "outputs": [
    {
     "data": {
      "text/plain": [
       "user_id       int64\n",
       "revenue       int64\n",
       "testgroup    object\n",
       "dtype: object"
      ]
     },
     "execution_count": 45,
     "metadata": {},
     "output_type": "execute_result"
    }
   ],
   "source": [
    "ab_test_data.dtypes"
   ]
  },
  {
   "cell_type": "code",
   "execution_count": 46,
   "metadata": {},
   "outputs": [
    {
     "data": {
      "text/plain": [
       "user_id      404770\n",
       "revenue        1477\n",
       "testgroup         2\n",
       "dtype: int64"
      ]
     },
     "execution_count": 46,
     "metadata": {},
     "output_type": "execute_result"
    }
   ],
   "source": [
    "ab_test_data.nunique()"
   ]
  },
  {
   "cell_type": "code",
   "execution_count": 47,
   "metadata": {},
   "outputs": [
    {
     "data": {
      "text/html": [
       "<div>\n",
       "<style scoped>\n",
       "    .dataframe tbody tr th:only-of-type {\n",
       "        vertical-align: middle;\n",
       "    }\n",
       "\n",
       "    .dataframe tbody tr th {\n",
       "        vertical-align: top;\n",
       "    }\n",
       "\n",
       "    .dataframe thead tr th {\n",
       "        text-align: left;\n",
       "    }\n",
       "\n",
       "    .dataframe thead tr:last-of-type th {\n",
       "        text-align: right;\n",
       "    }\n",
       "</style>\n",
       "<table border=\"1\" class=\"dataframe\">\n",
       "  <thead>\n",
       "    <tr>\n",
       "      <th></th>\n",
       "      <th colspan=\"5\" halign=\"left\">revenue</th>\n",
       "    </tr>\n",
       "    <tr>\n",
       "      <th></th>\n",
       "      <th>mean</th>\n",
       "      <th>median</th>\n",
       "      <th>std</th>\n",
       "      <th>max</th>\n",
       "      <th>min</th>\n",
       "    </tr>\n",
       "    <tr>\n",
       "      <th>testgroup</th>\n",
       "      <th></th>\n",
       "      <th></th>\n",
       "      <th></th>\n",
       "      <th></th>\n",
       "      <th></th>\n",
       "    </tr>\n",
       "  </thead>\n",
       "  <tbody>\n",
       "    <tr>\n",
       "      <th>a</th>\n",
       "      <td>25.41</td>\n",
       "      <td>0</td>\n",
       "      <td>920.77</td>\n",
       "      <td>37433</td>\n",
       "      <td>0</td>\n",
       "    </tr>\n",
       "    <tr>\n",
       "      <th>b</th>\n",
       "      <td>26.75</td>\n",
       "      <td>0</td>\n",
       "      <td>287.32</td>\n",
       "      <td>4000</td>\n",
       "      <td>0</td>\n",
       "    </tr>\n",
       "  </tbody>\n",
       "</table>\n",
       "</div>"
      ],
      "text/plain": [
       "          revenue                          \n",
       "             mean median     std    max min\n",
       "testgroup                                  \n",
       "a           25.41      0  920.77  37433   0\n",
       "b           26.75      0  287.32   4000   0"
      ]
     },
     "execution_count": 47,
     "metadata": {},
     "output_type": "execute_result"
    }
   ],
   "source": [
    "# Показатели в группах на всем датасете\n",
    "ab_test_data.groupby('testgroup') \\\n",
    "    .agg({'revenue': ['mean', 'median', 'std', 'max', 'min']}).round(2)"
   ]
  },
  {
   "cell_type": "code",
   "execution_count": 48,
   "metadata": {},
   "outputs": [
    {
     "data": {
      "text/html": [
       "<div>\n",
       "<style scoped>\n",
       "    .dataframe tbody tr th:only-of-type {\n",
       "        vertical-align: middle;\n",
       "    }\n",
       "\n",
       "    .dataframe tbody tr th {\n",
       "        vertical-align: top;\n",
       "    }\n",
       "\n",
       "    .dataframe thead tr th {\n",
       "        text-align: left;\n",
       "    }\n",
       "\n",
       "    .dataframe thead tr:last-of-type th {\n",
       "        text-align: right;\n",
       "    }\n",
       "</style>\n",
       "<table border=\"1\" class=\"dataframe\">\n",
       "  <thead>\n",
       "    <tr>\n",
       "      <th></th>\n",
       "      <th colspan=\"5\" halign=\"left\">revenue</th>\n",
       "    </tr>\n",
       "    <tr>\n",
       "      <th></th>\n",
       "      <th>mean</th>\n",
       "      <th>median</th>\n",
       "      <th>std</th>\n",
       "      <th>max</th>\n",
       "      <th>min</th>\n",
       "    </tr>\n",
       "    <tr>\n",
       "      <th>testgroup</th>\n",
       "      <th></th>\n",
       "      <th></th>\n",
       "      <th></th>\n",
       "      <th></th>\n",
       "      <th></th>\n",
       "    </tr>\n",
       "  </thead>\n",
       "  <tbody>\n",
       "    <tr>\n",
       "      <th>a</th>\n",
       "      <td>2664.00</td>\n",
       "      <td>311</td>\n",
       "      <td>9049.04</td>\n",
       "      <td>37433</td>\n",
       "      <td>200</td>\n",
       "    </tr>\n",
       "    <tr>\n",
       "      <th>b</th>\n",
       "      <td>3003.66</td>\n",
       "      <td>3022</td>\n",
       "      <td>572.62</td>\n",
       "      <td>4000</td>\n",
       "      <td>2000</td>\n",
       "    </tr>\n",
       "  </tbody>\n",
       "</table>\n",
       "</div>"
      ],
      "text/plain": [
       "           revenue                             \n",
       "              mean median      std    max   min\n",
       "testgroup                                      \n",
       "a          2664.00    311  9049.04  37433   200\n",
       "b          3003.66   3022   572.62   4000  2000"
      ]
     },
     "execution_count": 48,
     "metadata": {},
     "output_type": "execute_result"
    }
   ],
   "source": [
    "# Показатель в группах для платящих пользователей\n",
    "ab_test_data.query('revenue > 0').groupby('testgroup') \\\n",
    "    .agg({'revenue': ['mean', 'median', 'std', 'max', 'min']}).round(2)"
   ]
  },
  {
   "cell_type": "code",
   "execution_count": 49,
   "metadata": {},
   "outputs": [
    {
     "data": {
      "text/html": [
       "<div>\n",
       "<style scoped>\n",
       "    .dataframe tbody tr th:only-of-type {\n",
       "        vertical-align: middle;\n",
       "    }\n",
       "\n",
       "    .dataframe tbody tr th {\n",
       "        vertical-align: top;\n",
       "    }\n",
       "\n",
       "    .dataframe thead th {\n",
       "        text-align: right;\n",
       "    }\n",
       "</style>\n",
       "<table border=\"1\" class=\"dataframe\">\n",
       "  <thead>\n",
       "    <tr style=\"text-align: right;\">\n",
       "      <th></th>\n",
       "      <th>user_id</th>\n",
       "      <th>revenue</th>\n",
       "      <th>testgroup</th>\n",
       "    </tr>\n",
       "  </thead>\n",
       "  <tbody>\n",
       "  </tbody>\n",
       "</table>\n",
       "</div>"
      ],
      "text/plain": [
       "Empty DataFrame\n",
       "Columns: [user_id, revenue, testgroup]\n",
       "Index: []"
      ]
     },
     "execution_count": 49,
     "metadata": {},
     "output_type": "execute_result"
    }
   ],
   "source": [
    "# Посмотрим, пересекаются ли пользователи в группах\n",
    "x = ab_test_data.query('testgroup == \"a\"')\n",
    "z = list(ab_test_data.query('testgroup == \"b\"').user_id)\n",
    "x.query('user_id in @z')"
   ]
  },
  {
   "cell_type": "code",
   "execution_count": 50,
   "metadata": {},
   "outputs": [
    {
     "name": "stdout",
     "output_type": "stream",
     "text": [
      "На 6.81 % количество платящих пользователей\n",
      "в контрольной группе выше, чем в тестовой и разность равняется 123 пользователям\n"
     ]
    }
   ],
   "source": [
    "a_revenue = ab_test_data.query('revenue > 0 and testgroup == \"a\"').shape[0]\n",
    "b_revenue = ab_test_data.query('revenue > 0 and testgroup == \"b\"').shape[0]\n",
    "\n",
    "razn = round((a_revenue - b_revenue) / b_revenue * 100, 2)\n",
    "diff_pep = a_revenue - b_revenue\n",
    "\n",
    "print(f'На {razn} % количество платящих пользователей\\\n",
    "\\nв контрольной группе выше, чем в тестовой и разность равняется {diff_pep} пользователям')"
   ]
  },
  {
   "cell_type": "code",
   "execution_count": 51,
   "metadata": {},
   "outputs": [
    {
     "name": "stdout",
     "output_type": "stream",
     "text": [
      "На -0.28 % количество пользователей\n",
      "в контрольной группе меньше, чем в тестовой и разность равняется 564 пользователям\n"
     ]
    }
   ],
   "source": [
    "count_a = ab_test_data.query('testgroup == \"a\"').shape[0]\n",
    "count_b = ab_test_data.query('testgroup == \"b\"').shape[0]\n",
    "\n",
    "razn_count = round((count_a - count_b) / count_b * 100, 2)\n",
    "diff_pep_count = count_a - count_b\n",
    "\n",
    "print(f'На {razn_count} % количество пользователей\\\n",
    "\\nв контрольной группе меньше, чем в тестовой и разность равняется {abs(diff_pep_count)} пользователям')"
   ]
  },
  {
   "cell_type": "code",
   "execution_count": 52,
   "metadata": {},
   "outputs": [
    {
     "name": "stdout",
     "output_type": "stream",
     "text": [
      "Количество аномально платящих пользователей в контрольной группе 123\n"
     ]
    }
   ],
   "source": [
    "shape_emissions = ab_test_data.query('testgroup == \"a\" and revenue > 35000').shape[0]\n",
    "print(f'Количество аномально платящих пользователей в контрольной группе {shape_emissions}')"
   ]
  },
  {
   "cell_type": "markdown",
   "metadata": {},
   "source": [
    "Какой можно сделать вывод на этой стадии.\n",
    "1. Группы не имеют пересечений\n",
    "2. В контрольной группе достаточно сильная дисперсия между платящими в отличии от тестовой\n",
    "3. Группы практически равны по численности пользователей, а превышение пользователей в тесте составляет всего 0.28%, что даже не составляет 1% от выборки\n",
    "4. Не смотря на то, что количество платящих пользователей в контроле выше на почти 7%, показатель ARPU выше в тесте, чем в контроле\n",
    "5. Количество аномально платящих пользователей в контроле, равно количесту пользователей на которое контрольная группа больше тестовой\n",
    "\n",
    "\n",
    "Так же можно предположить:\n",
    "- Первая акция была сама по себе не очень необходимой и заинтересовала больше истиных Фанатов продукта или же шансы получить действительно что-то стоящее были настолько малыми, что для окупаемости необходимо было приобрести значительное колличество акционных предложений (что не каждый себе мог позволить). Или же при отборе пользователей была ошибка в системе сплитования\n",
    "- Вторая акция была сделана больше для массового сегмента продукта и это видно исходя из уменьшения дисперсии в группе, а так же разнице между максимальной покупкой и минимальной\n",
    "\n",
    "Другими словами, в тесте сумма покупок стала более равномерной и аккумулируется вокруг всего сектора платящих пользователей в отличии от контроля"
   ]
  },
  {
   "cell_type": "markdown",
   "metadata": {},
   "source": [
    "**Метрики для анализа.**\n",
    "\n",
    "В данной ситуации подойдут следующие метрики:\n",
    "* ARPPU - средний доход на платящего пользователя.\n",
    "* ARPU - средний доход с привлечённого пользователя.\n",
    "* CR - конверсию в покупку"
   ]
  },
  {
   "cell_type": "markdown",
   "metadata": {},
   "source": [
    "**ARPPU** = Доход/Число клиентов(платящих пользователей)\n",
    "\n",
    "**Конверсия (CR)** = Число клиентов/Число пользователей \n",
    "\n",
    "**ARPU**=Конверсия⋅ARPPU\n",
    "\n"
   ]
  },
  {
   "cell_type": "markdown",
   "metadata": {},
   "source": [
    "**Визуализирум распределения в группах для более наглядного понимания ситуации**"
   ]
  },
  {
   "cell_type": "code",
   "execution_count": 53,
   "metadata": {},
   "outputs": [
    {
     "name": "stdout",
     "output_type": "stream",
     "text": [
      "Разница в количестве пользователей между тестом и контролем: 0.28 %\n"
     ]
    }
   ],
   "source": [
    "print(f'Разница в количестве пользователей между тестом и контролем: {abs(razn_count)} %')"
   ]
  },
  {
   "cell_type": "code",
   "execution_count": 54,
   "metadata": {},
   "outputs": [
    {
     "data": {
      "text/plain": [
       "<AxesSubplot:xlabel='revenue'>"
      ]
     },
     "execution_count": 54,
     "metadata": {},
     "output_type": "execute_result"
    },
    {
     "data": {
      "image/png": "[encoded data removed]",
      "text/plain": [
       "<Figure size 1440x504 with 1 Axes>"
      ]
     },
     "metadata": {},
     "output_type": "display_data"
    }
   ],
   "source": [
    "# Распределение по всем данным\n",
    "sns.distplot(ab_test_data.query('testgroup == \"a\"').revenue, kde=False, color=\"g\")\n",
    "sns.distplot(ab_test_data.query('testgroup == \"b\"').revenue, kde=False, color=\"r\")"
   ]
  },
  {
   "cell_type": "code",
   "execution_count": 55,
   "metadata": {
    "scrolled": false
   },
   "outputs": [
    {
     "data": {
      "text/plain": [
       "<AxesSubplot:xlabel='revenue'>"
      ]
     },
     "execution_count": 55,
     "metadata": {},
     "output_type": "execute_result"
    },
    {
     "data": {
      "image/png": "[encoded data removed]",
      "text/plain": [
       "<Figure size 1440x504 with 1 Axes>"
      ]
     },
     "metadata": {},
     "output_type": "display_data"
    }
   ],
   "source": [
    "# Посмотрим на распределение показателя пользователей которые совершали покупки в контрольной группе\n",
    "sns.distplot(ab_test_data.query('testgroup == \"a\" and revenue > 0').revenue, kde=False, color=\"g\")\n",
    "# Посмотрим на распределение показателя пользователей которые совершали покупки в тестовой группе\n",
    "sns.distplot(ab_test_data.query('testgroup == \"b\" and revenue > 0').revenue, kde=False, color=\"r\")"
   ]
  },
  {
   "cell_type": "markdown",
   "metadata": {},
   "source": [
    "Посмотрим теперь на выбросы в группах "
   ]
  },
  {
   "cell_type": "code",
   "execution_count": 56,
   "metadata": {},
   "outputs": [
    {
     "data": {
      "text/plain": [
       "<AxesSubplot:xlabel='testgroup', ylabel='revenue'>"
      ]
     },
     "execution_count": 56,
     "metadata": {},
     "output_type": "execute_result"
    },
    {
     "data": {
      "image/png": "[encoded data removed]",
      "text/plain": [
       "<Figure size 1440x504 with 1 Axes>"
      ]
     },
     "metadata": {},
     "output_type": "display_data"
    }
   ],
   "source": [
    "sns.boxplot(x=ab_test_data.testgroup, y=ab_test_data.revenue)"
   ]
  },
  {
   "cell_type": "code",
   "execution_count": 57,
   "metadata": {},
   "outputs": [
    {
     "data": {
      "text/plain": [
       "<AxesSubplot:xlabel='testgroup', ylabel='revenue'>"
      ]
     },
     "execution_count": 57,
     "metadata": {},
     "output_type": "execute_result"
    },
    {
     "data": {
      "image/png": "[encoded data removed]",
      "text/plain": [
       "<Figure size 1440x504 with 1 Axes>"
      ]
     },
     "metadata": {},
     "output_type": "display_data"
    }
   ],
   "source": [
    "# В группах платящих клиентов\n",
    "sns.boxplot(x=ab_test_data.testgroup, y=ab_test_data.query('revenue > 0').revenue)"
   ]
  },
  {
   "cell_type": "code",
   "execution_count": 58,
   "metadata": {},
   "outputs": [
    {
     "data": {
      "text/plain": [
       "<AxesSubplot:xlabel='testgroup', ylabel='revenue'>"
      ]
     },
     "execution_count": 58,
     "metadata": {},
     "output_type": "execute_result"
    },
    {
     "data": {
      "image/png": "[encoded data removed]",
      "text/plain": [
       "<Figure size 1440x504 with 1 Axes>"
      ]
     },
     "metadata": {},
     "output_type": "display_data"
    }
   ],
   "source": [
    "# Теже самые графики, только убрали сильные выбросы и пользователей которые не совершали покупки\n",
    "sns.boxplot(x=ab_test_data.testgroup, y=ab_test_data.query('revenue < 10000 and revenue > 0').revenue)"
   ]
  },
  {
   "cell_type": "markdown",
   "metadata": {},
   "source": [
    "На графиках видно, что разница между группами по всему датасету пракически отсутствует и распределение тестовой и контрольной групп находятся около 0.\n",
    "\n",
    "Но если начать рассматривать данные в разрезе только платящих пользователей то сразу видны различия.\n",
    "А именно в тестовой группе платежи распределены равномерно между всему чеками, в контрольной же группе много платежей сосредоточены около 0 и присутсвуют внушительные выброса (аномально платящие пользователи).\n",
    "\n",
    "И судя по boxplot без выбросов в контрольной группе, \"аномально платящие пользователи\" составляют большую долю выручки, что еще раз подтверждает выводы сделанные выше."
   ]
  },
  {
   "cell_type": "code",
   "execution_count": 59,
   "metadata": {},
   "outputs": [
    {
     "name": "stdout",
     "output_type": "stream",
     "text": [
      "Количество пользователей совершивших самые крупные покупки в контрольной группе: 123 \n",
      "Количество всех пользователй совершивших покупку в контрольной группе: 1928\n"
     ]
    }
   ],
   "source": [
    "# Подсчитаем количество пользователей с самой большой суммой пкупки в контрольной группе\n",
    "i = ab_test_data.query('testgroup == \"a\" and revenue > 10000').shape[0]\n",
    "o = ab_test_data.query('testgroup == \"a\" and revenue > 0').shape[0]\n",
    "print(f\"Количество пользователей совершивших самые крупные покупки в контрольной группе: {i} \\n\\\n",
    "Количество всех пользователй совершивших покупку в контрольной группе: {o}\")"
   ]
  },
  {
   "cell_type": "code",
   "execution_count": 60,
   "metadata": {},
   "outputs": [
    {
     "data": {
      "text/plain": [
       "740.8"
      ]
     },
     "execution_count": 60,
     "metadata": {},
     "output_type": "execute_result"
    }
   ],
   "source": [
    "# На сколько процентов revenue аномально полатящих пользователей больше, \n",
    "# чем revenue всех остальных пользователей в контрольной группе\n",
    "a_1 = ab_test_data.query('testgroup == \"a\" and revenue > 10000')['revenue'].sum()\n",
    "a_2 = ab_test_data.query('testgroup == \"a\" and revenue < 10000')['revenue'].sum()\n",
    "round((a_1 - a_2) / a_2 * 100, 2)"
   ]
  },
  {
   "cell_type": "code",
   "execution_count": 61,
   "metadata": {},
   "outputs": [
    {
     "data": {
      "text/plain": [
       "testgroup\n",
       "a     545937\n",
       "b    5421603\n",
       "Name: revenue, dtype: int64"
      ]
     },
     "execution_count": 61,
     "metadata": {},
     "output_type": "execute_result"
    }
   ],
   "source": [
    "# Как можно видеть, что 123 пользователя в контрольной группе делают основную выручку\n",
    "ab_test_data.query('revenue < 10000').groupby('testgroup')['revenue'].sum()"
   ]
  },
  {
   "cell_type": "code",
   "execution_count": 62,
   "metadata": {},
   "outputs": [
    {
     "data": {
      "text/plain": [
       "testgroup\n",
       "a    5136189\n",
       "b    5421603\n",
       "Name: revenue, dtype: int64"
      ]
     },
     "execution_count": 62,
     "metadata": {},
     "output_type": "execute_result"
    }
   ],
   "source": [
    " ab_test_data.groupby('testgroup')['revenue'].sum()"
   ]
  },
  {
   "cell_type": "code",
   "execution_count": 63,
   "metadata": {},
   "outputs": [
    {
     "data": {
      "text/plain": [
       "5.56"
      ]
     },
     "execution_count": 63,
     "metadata": {},
     "output_type": "execute_result"
    }
   ],
   "source": [
    "# И все же суммарный показатель revenue больше в тестовой группе, чем в контрольной на 5,6%\n",
    "round((5421603 - 5136189) / 5136189 * 100, 2)"
   ]
  },
  {
   "cell_type": "markdown",
   "metadata": {},
   "source": [
    "**Рассчитаем метрики**"
   ]
  },
  {
   "cell_type": "code",
   "execution_count": 64,
   "metadata": {},
   "outputs": [
    {
     "name": "stdout",
     "output_type": "stream",
     "text": [
      "CR для контроля: 0.954       \n",
      "ARPPU для контроля: 2664.0       \n",
      "ARPU для контроля: 2541.46\n",
      "\n",
      "Если убрать выбросы из контролся получим:      \n",
      "CR для контроля без выбросов: 0.894       \n",
      "ARPPU для контроля без выбросов: 302.46       \n",
      "ARPU для контроля без выбросов: 270.4\n",
      "\n",
      "CR для теста: 0.891       \n",
      "ARPPU для теста: 3003.66       \n",
      "ARPU для теста: 2676.26\n"
     ]
    }
   ],
   "source": [
    "ab_test_data_a = ab_test_data.query('testgroup == \"a\"')\n",
    "ab_test_data_b = ab_test_data.query('testgroup == \"b\"')\n",
    "ab_test_data_a_no_emissions = ab_test_data_a.query('revenue < 35000')\n",
    "\n",
    "ab_test_data_a_CR = round((ab_test_data_a.query(\"revenue > 0\").shape[0] / ab_test_data_a.shape[0] * 100), 3)\n",
    "ab_test_data_a_ARPPU = round(ab_test_data_a.revenue.sum() / ab_test_data_a.query(\"revenue > 0\").shape[0], 2)\n",
    "ab_test_data_a_ARPU = round(ab_test_data_a_CR * ab_test_data_a_ARPPU, 2)\n",
    "\n",
    "ab_test_data_b_CR = round((ab_test_data_b.query(\"revenue > 0\").shape[0] / ab_test_data_b.shape[0] * 100), 3)\n",
    "ab_test_data_b_ARPPU = round(ab_test_data_b.revenue.sum() / ab_test_data_b.query(\"revenue > 0\").shape[0], 2)\n",
    "ab_test_data_b_ARPU = round(ab_test_data_b_CR * ab_test_data_b_ARPPU, 2)\n",
    "\n",
    "ab_test_data_a_no_emissions_CR = round((ab_test_data_a_no_emissions.query(\"revenue > 0\").shape[0] \n",
    "                                        / ab_test_data_a_no_emissions.shape[0] * 100), 3)\n",
    "ab_test_data_a_no_emissions_ARPPU = round(ab_test_data_a_no_emissions.revenue.sum() \n",
    "                                          / ab_test_data_a_no_emissions.query(\"revenue > 0\").shape[0], 2)\n",
    "ab_test_data_a_no_emissions_ARPU = round(ab_test_data_a_no_emissions_CR * ab_test_data_a_no_emissions_ARPPU, 2)\n",
    "\n",
    "print(f'CR для контроля: {ab_test_data_a_CR} \\\n",
    "      \\nARPPU для контроля: {ab_test_data_a_ARPPU} \\\n",
    "      \\nARPU для контроля: {ab_test_data_a_ARPU}')\n",
    "print('')\n",
    "print(f'Если убрать выбросы из контролся получим: \\\n",
    "     \\nCR для контроля без выбросов: {ab_test_data_a_no_emissions_CR} \\\n",
    "      \\nARPPU для контроля без выбросов: {ab_test_data_a_no_emissions_ARPPU} \\\n",
    "      \\nARPU для контроля без выбросов: {ab_test_data_a_no_emissions_ARPU}')\n",
    "print('')\n",
    "print(f'CR для теста: {ab_test_data_b_CR} \\\n",
    "      \\nARPPU для теста: {ab_test_data_b_ARPPU} \\\n",
    "      \\nARPU для теста: {ab_test_data_b_ARPU}')"
   ]
  },
  {
   "cell_type": "markdown",
   "metadata": {},
   "source": [
    "Из проведенных расчетов видно, что группа пользователей в составе 123 человек делаю практически всю выручку в контрольной группе. Это особенно видно по показателям ARPPU и ARPU. И хотя эти показатели все равно ниже в контроле при любом раскладе, вариант с отбрасовынием аномалий делает разницу практически в 10 раз. Единственно значение где в любом варианте контроль превосходит тест, это конверсия.\n",
    "\n",
    "Отсюда можно сделать вывод, что если отбросить аномалии группы как раз сравняются по количеству платящих пользователей."
   ]
  },
  {
   "cell_type": "markdown",
   "metadata": {},
   "source": [
    "В первом приближении можность сказать, что если сравнивать группы по параметру конверсии, то немного, но лучше будет контрольная.\n",
    "Но если смотреть на параметры дохода, тот тут хочется отдать предпочтение тестовой группе"
   ]
  },
  {
   "cell_type": "markdown",
   "metadata": {},
   "source": [
    "Для дальнейшего понимая стоит воспользоваться статистическими критериями, которые сначала необходимо отобрать.\n",
    "Для отбора нам нужно ответить не несколько вопросов:\n",
    "- Тип данныех (количественный / качественный)\n",
    "- Какому закону распределения почнияются (нормальному или отлично от нормального)\n",
    "- Зависимы ли группу\n",
    "- Количество сравниваемых групп\n",
    "\n",
    "Ответим на эти вопросы:\n",
    "1. Тип данных количественный\n",
    "2. Судя из графиков распределение отлично от нормального\n",
    "3. Группы независимы и не имеют пересечений\n",
    "4. Количество групп 2\n"
   ]
  },
  {
   "cell_type": "code",
   "execution_count": 65,
   "metadata": {},
   "outputs": [
    {
     "data": {
      "text/plain": [
       "NormaltestResult(statistic=585152.7312728433, pvalue=0.0)"
      ]
     },
     "execution_count": 65,
     "metadata": {},
     "output_type": "execute_result"
    }
   ],
   "source": [
    "# Убедимся в предположении о нормальности распределения\n",
    "# Это можно было бы сделать методом Шапиро-Уилка но,\n",
    "# Метод Шапиро работает плохо с большими выборками, поэтому используют другой тест normaltest\n",
    "ss.normaltest(ab_test_data.query('testgroup == \"a\"').revenue)"
   ]
  },
  {
   "cell_type": "code",
   "execution_count": 66,
   "metadata": {},
   "outputs": [
    {
     "data": {
      "text/plain": [
       "NormaltestResult(statistic=326622.39540856465, pvalue=0.0)"
      ]
     },
     "execution_count": 66,
     "metadata": {},
     "output_type": "execute_result"
    }
   ],
   "source": [
    "# Для тестовой группы\n",
    "ss.normaltest(ab_test_data.query('testgroup == \"b\"').revenue)"
   ]
  },
  {
   "cell_type": "markdown",
   "metadata": {},
   "source": [
    "Тест показал, что распределения очень далеки от нормального, что и требовалось доказать"
   ]
  },
  {
   "cell_type": "code",
   "execution_count": 67,
   "metadata": {},
   "outputs": [
    {
     "data": {
      "text/plain": [
       "LeveneResult(statistic=0.0, pvalue=1.0)"
      ]
     },
     "execution_count": 67,
     "metadata": {},
     "output_type": "execute_result"
    }
   ],
   "source": [
    "# Проверим выборки на гомогенность дисперсий \n",
    "ss.levene(ab_test_data_a.revenue, ab_test_data_a.revenue)"
   ]
  },
  {
   "cell_type": "markdown",
   "metadata": {},
   "source": [
    "Необходимого нам результата не получили, а значит дисперсии действительно значительно отличаются в группах"
   ]
  },
  {
   "cell_type": "markdown",
   "metadata": {},
   "source": [
    "**Выбор критериев**\n",
    "С текущим набором атрибутов нам подойдут следующие критерии:\n",
    "- T-test. Хотя он предъявляет достаточно строгие требования к данным, стоит сделать оговорку. Что данный тест может работать и с данными распределение которых отлично от нормального, если выборка достаточно большого размера\n",
    "- Критерий Манна-Уитни\n",
    "- Bootstrap\n",
    "\n",
    "Но перед использованием данных критериев необходимо их **провалидировать** проведя АА тест на сгенерированных распределениях  отличных от нормального."
   ]
  },
  {
   "cell_type": "code",
   "execution_count": 90,
   "metadata": {},
   "outputs": [
    {
     "data": {
      "text/plain": [
       "<seaborn.axisgrid.FacetGrid at 0x29d67790be0>"
      ]
     },
     "execution_count": 90,
     "metadata": {},
     "output_type": "execute_result"
    },
    {
     "data": {
      "image/png": "[encoded data removed]",
      "text/plain": [
       "<Figure size 474.575x360 with 1 Axes>"
      ]
     },
     "metadata": {},
     "output_type": "display_data"
    },
    {
     "data": {
      "image/png": "[encoded data removed]",
      "text/plain": [
       "<Figure size 474.575x360 with 1 Axes>"
      ]
     },
     "metadata": {},
     "output_type": "display_data"
    }
   ],
   "source": [
    "# Генерируем тестовые датасеты\n",
    "# Так как у нас данные о выруче, сгенерируем экспоненциальное распределение\n",
    "test_x = pd.Index(ss.expon(scale=1000).rvs(200000), name='test').to_series().to_frame()\n",
    "test_y = pd.Index(ss.expon(scale=1000).rvs(200000), name='test').to_series().to_frame()\n",
    "sns.displot(test_y)\n",
    "sns.displot(test_x)"
   ]
  },
  {
   "cell_type": "code",
   "execution_count": 91,
   "metadata": {
    "scrolled": false
   },
   "outputs": [
    {
     "data": {
      "application/vnd.jupyter.widget-view+json": {
       "model_id": "92425e83ba13413393fd93dcfd6c8814",
       "version_major": 2,
       "version_minor": 0
      },
      "text/plain": [
       "HBox(children=(HTML(value=''), FloatProgress(value=0.0, max=1000.0), HTML(value='')))"
      ]
     },
     "metadata": {},
     "output_type": "display_data"
    },
    {
     "name": "stdout",
     "output_type": "stream",
     "text": [
      "\n"
     ]
    },
    {
     "data": {
      "image/png": "[encoded data removed]",
      "text/plain": [
       "<Figure size 864x576 with 1 Axes>"
      ]
     },
     "metadata": {},
     "output_type": "display_data"
    },
    {
     "data": {
      "text/plain": [
       "0.06"
      ]
     },
     "execution_count": 91,
     "metadata": {},
     "output_type": "execute_result"
    }
   ],
   "source": [
    "simulations = 1000\n",
    "n_s = 1000\n",
    "res = []\n",
    "\n",
    "# Запуск симуляций A/A теста\n",
    "for i in tqdm(range(simulations)):\n",
    "    s1 = test_x.test.sample(n_s, replace=False).values\n",
    "    s2 = test_y.test.sample(n_s, replace=False).values\n",
    "    res.append(ss.ttest_ind(s1, s2, equal_var=False)[1])  # сохраняем pvalue\n",
    "\n",
    "plt.hist(res, bins=50)\n",
    "plt.style.use('ggplot')\n",
    "plt.xlabel('pvalues')\n",
    "plt.ylabel('frequency')\n",
    "plt.title(\"Histogram of ttest A/A simulations \")\n",
    "plt.show()\n",
    "\n",
    "# Проверяем, что количество ложноположительных случаев не превышает альфа\n",
    "sum(np.array(res) < 0.05) / simulations"
   ]
  },
  {
   "cell_type": "markdown",
   "metadata": {},
   "source": [
    "Значение Ттеста выше альфа, а значит мы будет ошибаться чаще, чем в 5% случаев, что делает критерий менее мощным. Но стоит сделать оговорку, что в ряде случаев показатель может быть удовлетворительным"
   ]
  },
  {
   "cell_type": "code",
   "execution_count": 93,
   "metadata": {
    "scrolled": false
   },
   "outputs": [
    {
     "data": {
      "application/vnd.jupyter.widget-view+json": {
       "model_id": "6f27bb446d2a4edf817b58412d46c957",
       "version_major": 2,
       "version_minor": 0
      },
      "text/plain": [
       "HBox(children=(HTML(value=''), FloatProgress(value=0.0, max=1000.0), HTML(value='')))"
      ]
     },
     "metadata": {},
     "output_type": "display_data"
    },
    {
     "name": "stdout",
     "output_type": "stream",
     "text": [
      "\n"
     ]
    },
    {
     "data": {
      "image/png": "[encoded data removed]",
      "text/plain": [
       "<Figure size 864x576 with 1 Axes>"
      ]
     },
     "metadata": {},
     "output_type": "display_data"
    },
    {
     "data": {
      "text/plain": [
       "0.047"
      ]
     },
     "execution_count": 93,
     "metadata": {},
     "output_type": "execute_result"
    }
   ],
   "source": [
    "simulations = 1000\n",
    "n_s = 1000\n",
    "res = []\n",
    "\n",
    "# Запуск симуляций A/A теста\n",
    "for i in tqdm(range(simulations)):\n",
    "    s1 = test_x.test.sample(n_s, replace=False).values\n",
    "    s2 = test_y.test.sample(n_s, replace=False).values\n",
    "    res.append(ss.mannwhitneyu(s1, s2)[1])  # сохраняем pvalue\n",
    "\n",
    "plt.hist(res, bins=50)\n",
    "plt.style.use('ggplot')\n",
    "plt.xlabel('pvalues')\n",
    "plt.ylabel('frequency')\n",
    "plt.title(\"Histogram of ttest A/A simulations \")\n",
    "plt.show()\n",
    "\n",
    "# Проверяем, что количество ложноположительных случаев не превышает альфа\n",
    "sum(np.array(res) < 0.05) / simulations"
   ]
  },
  {
   "cell_type": "markdown",
   "metadata": {},
   "source": [
    "Манна-Уитни справился с тестом, но полученное значение близко к границе"
   ]
  },
  {
   "cell_type": "code",
   "execution_count": 71,
   "metadata": {},
   "outputs": [],
   "source": [
    "# Объявим функцию, которая позволит проверять гипотезы с помощью бутстрапа\n",
    "def get_bootstrap(\n",
    "    data_column_1,  # числовые значения первой выборки\n",
    "    data_column_2,  # числовые значения второй выборки\n",
    "    boot_it=1000,  # количество бутстрэп-подвыборок\n",
    "    statistic=np.mean,  # интересующая нас статистика\n",
    "    bootstrap_conf_level=0.95  # уровень значимости\n",
    "):\n",
    "    boot_len = max([len(data_column_1), len(data_column_2)])\n",
    "    boot_data = []\n",
    "    for i in tqdm(range(boot_it)):  # извлекаем подвыборки\n",
    "        samples_1 = data_column_1.sample(\n",
    "            boot_len, \n",
    "            replace=True  # параметр возвращения\n",
    "        ).values\n",
    "        \n",
    "        samples_2 = data_column_2.sample(\n",
    "            boot_len, \n",
    "            replace=True\n",
    "        ).values\n",
    "        \n",
    "        boot_data.append(statistic(samples_1 - samples_2))  # mean() - применяем статистику\n",
    "        \n",
    "    pd_boot_data = pd.DataFrame(boot_data)\n",
    "        \n",
    "    left_quant = (1 - bootstrap_conf_level) / 2\n",
    "    right_quant = 1 - (1 - bootstrap_conf_level) / 2\n",
    "    quants = pd_boot_data.quantile([left_quant, right_quant])\n",
    "        \n",
    "    p_1 = ss.norm.cdf(\n",
    "        x=0, \n",
    "        loc=np.mean(boot_data), \n",
    "        scale=np.std(boot_data)\n",
    "    )\n",
    "    p_2 = ss.norm.cdf(\n",
    "        x=0, \n",
    "        loc=-np.mean(boot_data), \n",
    "        scale=np.std(boot_data)\n",
    "    )\n",
    "    p_value = min(p_1, p_2) * 2\n",
    "        \n",
    "    # Визуализация\n",
    "    _, _, bars = plt.hist(pd_boot_data[0], bins=50)\n",
    "    for bar in bars:\n",
    "        if abs(bar.get_x()) <= quants.iloc[0][0] or abs(bar.get_x()) >= quants.iloc[1][0]:\n",
    "            bar.set_facecolor('red')\n",
    "        else: \n",
    "            bar.set_facecolor('grey')\n",
    "            bar.set_edgecolor('black')\n",
    "    \n",
    "    plt.style.use('ggplot')\n",
    "    plt.vlines(quants, ymin=0, ymax=50, linestyle='--')\n",
    "    plt.xlabel('boot_data')\n",
    "    plt.ylabel('frequency')\n",
    "    plt.title('Histogram of boot_data')\n",
    "    plt.rcParams['figure.figsize'] = (12, 8)\n",
    "    plt.show()\n",
    "       \n",
    "    return {'boot_data': boot_data, \n",
    "            'quants': quants, \n",
    "            'p_value': p_value}"
   ]
  },
  {
   "cell_type": "code",
   "execution_count": 97,
   "metadata": {},
   "outputs": [
    {
     "data": {
      "application/vnd.jupyter.widget-view+json": {
       "model_id": "ee843820205941229120d024d42b93be",
       "version_major": 2,
       "version_minor": 0
      },
      "text/plain": [
       "HBox(children=(HTML(value=''), FloatProgress(value=0.0, max=1000.0), HTML(value='')))"
      ]
     },
     "metadata": {},
     "output_type": "display_data"
    },
    {
     "name": "stdout",
     "output_type": "stream",
     "text": [
      "\n"
     ]
    },
    {
     "data": {
      "image/png": "[encoded data removed]",
      "text/plain": [
       "<Figure size 864x576 with 1 Axes>"
      ]
     },
     "metadata": {},
     "output_type": "display_data"
    },
    {
     "data": {
      "text/plain": [
       "0.004819852330294415"
      ]
     },
     "execution_count": 97,
     "metadata": {},
     "output_type": "execute_result"
    }
   ],
   "source": [
    "f = get_bootstrap(test_x.test, test_y.test, boot_it=1000)\n",
    "f['p_value']"
   ]
  },
  {
   "cell_type": "code",
   "execution_count": 95,
   "metadata": {},
   "outputs": [
    {
     "data": {
      "text/plain": [
       "0.02288221923878097"
      ]
     },
     "execution_count": 95,
     "metadata": {},
     "output_type": "execute_result"
    }
   ],
   "source": [
    "ss.mannwhitneyu(test_x.test, test_y.test)[1]"
   ]
  },
  {
   "cell_type": "code",
   "execution_count": 98,
   "metadata": {},
   "outputs": [
    {
     "data": {
      "text/plain": [
       "0.0033761814767009892"
      ]
     },
     "execution_count": 98,
     "metadata": {},
     "output_type": "execute_result"
    }
   ],
   "source": [
    "ss.ttest_ind(test_x.test, test_y.test, equal_var=False)[1]"
   ]
  },
  {
   "cell_type": "markdown",
   "metadata": {},
   "source": [
    "Провалидировав методы и замерив показатели всех 3х тестов в конце, видим, что в действительности все критерии справились с задачей, но предпочтение стоит отдать Бутстрап, так как он считает интересующие нас метрики и показывает надежный стат значимости. Что касается Ттеста, он тоже справился в финальном замере, но выше мы видили, что вероятность допущения ошибки выше чем нужно, что делает его менее надежным. Манна-Уитни, казалось бы, идеально подходит к проверке стат значимости в нашем случае, но стоить помнить, что он сравнивает ранги в группах и достаточно трудно интерпретируем. \n",
    "\n",
    "**Вывод**\n",
    "\n",
    "Можно воспользоваться всеми тремя методами, но предпочтение отдадим Бутстрап"
   ]
  },
  {
   "cell_type": "markdown",
   "metadata": {},
   "source": [
    "Тестировать будем гипотезу которую можно сформулировать следующим образом:\n",
    "- H0: Распределене выручки в контроле и тесте не различаются\n",
    "- H1: Распределение выручки в контроле и тесте различны"
   ]
  },
  {
   "cell_type": "markdown",
   "metadata": {},
   "source": [
    "Но перед проведением теста стоит сделать оговорку, что тестирование будет проводить без выбросов, так как на данном датасете это самое оптимальное решение по уменьшению дисбаланса."
   ]
  },
  {
   "cell_type": "code",
   "execution_count": 75,
   "metadata": {},
   "outputs": [],
   "source": [
    "ab_test_data_no_emissions = ab_test_data.query('revenue < 35000')"
   ]
  },
  {
   "cell_type": "code",
   "execution_count": 76,
   "metadata": {},
   "outputs": [
    {
     "data": {
      "application/vnd.jupyter.widget-view+json": {
       "model_id": "4d4b4b1c70e348dab49792c878222a98",
       "version_major": 2,
       "version_minor": 0
      },
      "text/plain": [
       "HBox(children=(HTML(value=''), FloatProgress(value=0.0, max=1000.0), HTML(value='')))"
      ]
     },
     "metadata": {},
     "output_type": "display_data"
    },
    {
     "name": "stdout",
     "output_type": "stream",
     "text": [
      "\n"
     ]
    },
    {
     "data": {
      "image/png": "[encoded data removed]",
      "text/plain": [
       "<Figure size 864x576 with 1 Axes>"
      ]
     },
     "metadata": {},
     "output_type": "display_data"
    },
    {
     "data": {
      "text/plain": [
       "2.850442046070547e-300"
      ]
     },
     "execution_count": 76,
     "metadata": {},
     "output_type": "execute_result"
    }
   ],
   "source": [
    "h = get_bootstrap(ab_test_data_no_emissions.query('testgroup == \"a\"').revenue,\n",
    "                  ab_test_data_no_emissions.query('testgroup == \"b\"').revenue, boot_it=1000)\n",
    "h['p_value']"
   ]
  },
  {
   "cell_type": "markdown",
   "metadata": {},
   "source": [
    "Видим, что p_value гораздо ниже альфа и 0 отсутсвует в полученном интервале, принимает альтернативную гипотезу\n",
    "\n",
    "Проверим различие CR, ARPPU и ARPU в группах, чтобы принять дальнейшее решение."
   ]
  },
  {
   "cell_type": "code",
   "execution_count": 77,
   "metadata": {},
   "outputs": [],
   "source": [
    "# Начнем с конверсии в покупку\n",
    "# Для этого добавим новую колонку, где 0 пользователь не совершил покупку, 1 пользователь что-то приобрел\n",
    "\n",
    "ab_test_data_no_emissions['CR'] = np.where(ab_test_data_no_emissions.revenue > 0, 1, 0)"
   ]
  },
  {
   "cell_type": "code",
   "execution_count": 78,
   "metadata": {},
   "outputs": [
    {
     "data": {
      "text/plain": [
       "3610"
      ]
     },
     "execution_count": 78,
     "metadata": {},
     "output_type": "execute_result"
    }
   ],
   "source": [
    "# Проверим количество платящих пользователей без учета выбрасов\n",
    "ab_test_data_no_emissions.query('CR > 0').shape[0]"
   ]
  },
  {
   "cell_type": "code",
   "execution_count": 79,
   "metadata": {},
   "outputs": [
    {
     "data": {
      "application/vnd.jupyter.widget-view+json": {
       "model_id": "9c1a4636902d4cf49f73eb0418ad5d15",
       "version_major": 2,
       "version_minor": 0
      },
      "text/plain": [
       "HBox(children=(HTML(value=''), FloatProgress(value=0.0, max=1000.0), HTML(value='')))"
      ]
     },
     "metadata": {},
     "output_type": "display_data"
    },
    {
     "name": "stdout",
     "output_type": "stream",
     "text": [
      "\n"
     ]
    },
    {
     "data": {
      "image/png": "[encoded data removed]",
      "text/plain": [
       "<Figure size 864x576 with 1 Axes>"
      ]
     },
     "metadata": {},
     "output_type": "display_data"
    },
    {
     "data": {
      "text/plain": [
       "0.9416768382419703"
      ]
     },
     "execution_count": 79,
     "metadata": {},
     "output_type": "execute_result"
    }
   ],
   "source": [
    "# CR без выбросов\n",
    "f_2 = get_bootstrap(ab_test_data_no_emissions.query('testgroup == \"a\"').CR,\n",
    "                    ab_test_data_no_emissions.query('testgroup == \"b\"').CR)\n",
    "f_2['p_value']"
   ]
  },
  {
   "cell_type": "code",
   "execution_count": 80,
   "metadata": {},
   "outputs": [
    {
     "name": "stdout",
     "output_type": "stream",
     "text": [
      "Действительно, конверсия пользователей в группах после избавления от выбросов практически одинакова:      \n",
      "CR для контроля без выбросов: 0.894      \n",
      "CR для теста: 0.891\n"
     ]
    }
   ],
   "source": [
    "print(f'Действительно, конверсия пользователей в группах после избавления от выбросов практически одинакова: \\\n",
    "     \\nCR для контроля без выбросов: {ab_test_data_a_no_emissions_CR} \\\n",
    "     \\nCR для теста: {ab_test_data_b_CR}')"
   ]
  },
  {
   "cell_type": "markdown",
   "metadata": {},
   "source": [
    "По давнному показателю нельзя отдать предпочтение ни одной из групп"
   ]
  },
  {
   "cell_type": "code",
   "execution_count": 81,
   "metadata": {},
   "outputs": [
    {
     "data": {
      "application/vnd.jupyter.widget-view+json": {
       "model_id": "74765329a12b45999d47076b6173f4e4",
       "version_major": 2,
       "version_minor": 0
      },
      "text/plain": [
       "HBox(children=(HTML(value=''), FloatProgress(value=0.0, max=1000.0), HTML(value='')))"
      ]
     },
     "metadata": {},
     "output_type": "display_data"
    },
    {
     "name": "stdout",
     "output_type": "stream",
     "text": [
      "\n"
     ]
    },
    {
     "data": {
      "image/png": "[encoded data removed]",
      "text/plain": [
       "<Figure size 864x576 with 1 Axes>"
      ]
     },
     "metadata": {},
     "output_type": "display_data"
    },
    {
     "data": {
      "text/plain": [
       "2.0648404876258427e-308"
      ]
     },
     "execution_count": 81,
     "metadata": {},
     "output_type": "execute_result"
    }
   ],
   "source": [
    "# Проверим разницу в средней выручке на одного пользователя ARPU \n",
    "f_3 = get_bootstrap(ab_test_data_no_emissions.query('testgroup == \"a\"').revenue,\n",
    "                    ab_test_data_no_emissions.query('testgroup == \"b\"').revenue)\n",
    "f_3['p_value']"
   ]
  },
  {
   "cell_type": "code",
   "execution_count": null,
   "metadata": {},
   "outputs": [],
   "source": []
  },
  {
   "cell_type": "code",
   "execution_count": 82,
   "metadata": {},
   "outputs": [
    {
     "data": {
      "application/vnd.jupyter.widget-view+json": {
       "model_id": "c2f5ce29bcc740128fd7a5a6a9501f1d",
       "version_major": 2,
       "version_minor": 0
      },
      "text/plain": [
       "HBox(children=(HTML(value=''), FloatProgress(value=0.0, max=1000.0), HTML(value='')))"
      ]
     },
     "metadata": {},
     "output_type": "display_data"
    },
    {
     "name": "stdout",
     "output_type": "stream",
     "text": [
      "\n"
     ]
    },
    {
     "data": {
      "image/png": "[encoded data removed]",
      "text/plain": [
       "<Figure size 864x576 with 1 Axes>"
      ]
     },
     "metadata": {},
     "output_type": "display_data"
    },
    {
     "data": {
      "text/plain": [
       "0.0"
      ]
     },
     "execution_count": 82,
     "metadata": {},
     "output_type": "execute_result"
    }
   ],
   "source": [
    "# Проверим средний доход на Платящего пользователя ARPPU \n",
    "f_4 = get_bootstrap(ab_test_data_no_emissions.query('testgroup == \"a\" and revenue > 0').revenue,\n",
    "                    ab_test_data_no_emissions.query('testgroup == \"b\" and revenue > 0').revenue)\n",
    "f_4['p_value']"
   ]
  },
  {
   "cell_type": "markdown",
   "metadata": {},
   "source": [
    "## Выводы\n",
    "\n",
    "По проведенному анализу выбран набор подходящих методов и основным был выбран Бутстрап. Так же проанализированы распределения в группах и найдены выбросы, которые могли попасть из-за неисправности системы сплитования или же данные в контрольной группе таким образом описывают акцию, что такое предложения не для всех, ведь в полной мере их смолгло позволить 123 человека из практически 2000 платящих пользователей в контрольной группе.\n",
    "\n",
    "В тестовой же группе суммы чеков распределились равномерно и дисперсия в данной группе на порядок ниже, чем в контрольной.\n",
    "\n",
    "Так же были посчитаны и проанализированы следующие метрики:\n",
    "- ARPPU средний доход с платящих пользователей (клиентов)\n",
    "- Конверсия в покупку (CR)\n",
    "- ARPU средний доход с привлеченного пользователя\n",
    "\n",
    "По полученным рассчетам получили, что конверсия после удаления выбрасов не отличается в группах, а вот показатели **ARPPU** и **ARPU** значительно разняться в пользу тестовой группы.\n",
    "\n",
    "И хоть расчеты были произведены после избавления от выбрасов, что не желательно делать, другого варианта профильтровать данные не было, так как во фреме присутствующей информации было не достаточно. Но даже так значительно различие в группах было доказано с помощью визуализации и Бутстрапа и показали, что группа платящих в тесте на порядок \"крепче\", чем в контроле, так как потеряв хотябы 10% из группу \"аномально платящих пользователей\" мы значительно ухудшим показатели продукта в контроле, чего нельзя сказать о платящих пользователях в тесте.\n",
    "\n",
    "Ответ: выбираем акцию проводимую в тестовой группе Б"
   ]
  },
  {
   "cell_type": "markdown",
   "metadata": {},
   "source": [
    "## Задание 3\n",
    "\n",
    "В игре Plants & Gardens каждый месяц проводятся тематические события, ограниченные по времени. В них игроки могут получить уникальные предметы для сада и персонажей, дополнительные монеты или бонусы. Для получения награды требуется пройти ряд уровней за определенное время. С помощью каких метрик можно оценить результаты последнего прошедшего события?\n",
    "\n",
    "Предположим, в другом событии мы усложнили механику событий так, что при каждой неудачной попытке выполнения уровня игрок будет откатываться на несколько уровней назад. Изменится ли набор метрик оценки результата? Если да, то как?"
   ]
  },
  {
   "cell_type": "markdown",
   "metadata": {},
   "source": [
    "### Для первого варианта события\n",
    "\n",
    "* **DAU/MAU/WAU** - для оценки количества уникальных пользователей. Оценить, на сколько сильно текущий ивент привлекателен для пользователей или наоборот. Так же было бы хорошо посмотреть в разрезе по возрастной категории.\n",
    "* **Средняя дневная аудитория** за определенный период.\n",
    "* **CR** в целевое действие в момент проведения ивент. Подталкивает ли ивент к осуществлению больших покупок пользователей или нет, а может наоборт ухудшает этот показатель за счет добычи ценностей внутреигровым путем.\n",
    "* **Retention** ивента - на сколько много людей возвращается во время ивента. Поможет продемонстрировать необходимость события для пользователей. Возможно выявить когорту, которая наиболее активно именно в момент ивента по сравнению с рядовым днем в игре.\n",
    "* **Средняя продолжительность сессии** - насколько увеличилось/уменьшилось нахождение в игре у пользователей.\n",
    "* **Stickiness rate** - на сколько регулярно пользователь стал использовать приложение.\n",
    "* **Average Transaction Value** — средняя стоимость покупок за период, средний чек.\n",
    "* **Внутреигровая экономика** - отслеживать количество валюты до ивента и после, а так же получение новых редких предметов, чтобы в дальнейшем не переносытить рынок и не обесценить предметы/валюту.\n",
    "* **Churn by Level** - показатель сложности уровня или наоборот этап выдался скучным и пользователь не стал его проходить.\n",
    "\n",
    "Интересно было бы просмотреть все приведенные метрки как по всей совокупности пользователей участвующих в ивенте, так и в разрезе по возрасту. Это даст понимание о составе аудитории, а так же кого больше привлекает событие (более старших или младших возрастов)\n",
    "\n",
    "### Для усложненного варианта\n",
    "\n",
    "Остануться теже метрики, но особенно пристально стоит посмотреть на Retention, Churn by Level, Средняя дневная аудитория. Интерес здесь вызывает на сколько сложным окажется новая механика и сколько игроков будут готовы играть по таким правилам, а так же посмотреть наиболее сложный или легкий уровень.\n",
    "\n",
    "Из нового можно добавить просмотр метрик лояльности и удовлетворенности, так как первый вариант это классическое проведение ивента, то второй вариант проведение ивента с \"Утяжелением\" и тут можно было бы узнать у самих игроков, что они думают о таком способе проведение события (пообщаться с комьюнити).\n",
    "* **NPS** - лояльность пользователей. К примеру измерить данный показатель заблаговременно до начала проведения ивента.\n",
    "* **CSAT** - оценка удовлетворенности клиента. Замерить данный показатель в отношении 1-го варианта проведения ивента и 2-го, на основании полученного сделать вывод, на сколько пользователи довольны. Возможно этот показатель поможет миксовать типы ивентов.\n",
    "\n",
    "Так же в реализации двух названных метрик можно предусмотреть дополнительный вариант с расширенным ответом.\n",
    "\n",
    "\n",
    "\n",
    "\n"
   ]
  }
 ],
 "metadata": {
  "kernelspec": {
   "display_name": "Python 3",
   "language": "python",
   "name": "python3"
  },
  "language_info": {
   "codemirror_mode": {
    "name": "ipython",
    "version": 3
   },
   "file_extension": ".py",
   "mimetype": "text/x-python",
   "name": "python",
   "nbconvert_exporter": "python",
   "pygments_lexer": "ipython3",
   "version": "3.8.5"
  }
 },
 "nbformat": 4,
 "nbformat_minor": 4
}
